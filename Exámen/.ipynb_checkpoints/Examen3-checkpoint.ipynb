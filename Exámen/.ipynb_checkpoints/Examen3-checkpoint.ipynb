{
 "cells": [
  {
   "cell_type": "markdown",
   "metadata": {},
   "source": [
    "# Examen Módulo 1 - Optimización. <font color=blue>Tipo de examen 2</font>.\n",
    "\n",
    "**Lea cuidadosamente las siguientes indicaciones antes de comenzar el examen:**\n",
    "- Para resolver el examen edite este mismo archivo y renómbrelo de la siguiente manera: *Examen1_ApellidoNombre*, donde *ApellidoNombre* corresponde a su apellido paterno con la inicial en mayúscula, seguido de su primer nombre con la inicial en mayúscula **sin acentos**. Por ejemplo, en mi caso el nombre del archivo sería *Examen1_ArellanoCarlos*.\n",
    "- Resuelva los puntos en el espacio provisto. Si requiere agregar más celdas para código o escritura, hágalo (`Esc`+`B`) o (`Esc`+`A`).\n",
    "- Recuerde que también se está evaluando su capacidad de interpretar los resultados. Escriba sus interpretaciones/conclusiones en celdas utilizando *Markdown*.\n",
    "- El formato de presentación de todo el examen en general debe ser adecuado. Use tamaños de letra, colores, etiquetas, etcétera.\n",
    "- No se resuelven dudas de ningún tipo por los profesores de la asignatura. Por favor, absténgase de preguntar.\n",
    "- Revise bien el tipo de examen. Sólo se le calificará si realiza el tipo de examen asignado."
   ]
  },
  {
   "cell_type": "markdown",
   "metadata": {},
   "source": [
    "---\n",
    "# Primer punto. Optimización de funciones con `SymPy` (35 puntos)\n",
    "\n",
    "Considere una cruz simétrica inscrita en un círculo de radio $r$"
   ]
  },
  {
   "cell_type": "code",
   "execution_count": 12,
   "metadata": {},
   "outputs": [
    {
     "data": {
      "image/png": "[encoded data removed]",
      "text/plain": [
       "<Figure size 432x288 with 1 Axes>"
      ]
     },
     "metadata": {
      "needs_background": "light"
     },
     "output_type": "display_data"
    }
   ],
   "source": [
    "import numpy as np\n",
    "import matplotlib.pyplot as plt\n",
    "import matplotlib.patches as patches\n",
    "%matplotlib inline\n",
    "\n",
    "ct = np.cos(0.3)\n",
    "st = np.sin(0.3)\n",
    "x = np.linspace(-ct,ct,1000)\n",
    "y = np.zeros(np.shape(x))\n",
    "y[1:500] = [st if i < -st else ct for i in x[1:500]]\n",
    "y[500:999] = [st if i > st else ct for i in x[500:999]]\n",
    "\n",
    "p = patches.Circle((0, 0), 1,fc='w',lw=2,color='k')\n",
    "ax = plt.gca()\n",
    "ax.add_artist(p)\n",
    "plt.text(0.1,0.6,'$r$')\n",
    "\n",
    "plt.plot(x,y,'r')\n",
    "plt.plot(x,-y,'r')\n",
    "\n",
    "plt.plot([-st,0,st],[ct,0,ct],'k--')\n",
    "plt.text(-0.04,0.4,r'$\\theta$')\n",
    "a = patches.Arc((0, 0),0.7,0.7,90,theta1=-0.3*180/np.pi,theta2=0.3*180/np.pi,\n",
    "                fc='w',color='k',ls='--')\n",
    "ax.add_artist(a)\n",
    "\n",
    "plt.axis([-1,1,-1,1])\n",
    "plt.axis('equal')\n",
    "plt.axis('off')\n",
    "#plt.tight_layout()\n",
    "plt.show()"
   ]
  },
  {
   "cell_type": "markdown",
   "metadata": {},
   "source": [
    "1. Escribir el área $A$ de la cruz como una función de $\\theta$. Realice este punto usando fórmulas de $\\LaTeX$, en celdas *Markdown*. (15 puntos)\n",
    "2. Determinar el valor de $\\theta$ que maximiza el área para un radio $r=2$. (10 puntos)\n",
    "3. ¿Cuál es el área máxima de la cruz? (10 puntos)"
   ]
  },
  {
   "cell_type": "markdown",
   "metadata": {},
   "source": [
    "**Pista:** Divida la cruz en cuatro partes iguales determinadas por los ejes $x$ y $y$. El resto es trigonometría básica."
   ]
  },
  {
   "cell_type": "markdown",
   "metadata": {},
   "source": [
    "$$ l = rsin(θ/2) $$\n",
    "$$ b = rcos(θ/2) $$\n",
    "\n",
    "$$ A_c= 4(2bl)-(2l)^2 $$\n",
    "\n",
    "$$ A_c= 4(2rcos(θ/2)rsin(θ/2))-(2rsin(θ/2))^2 $$\n",
    "\n",
    "$$ r = 2 $$\n",
    "$$ θ = x $$\n",
    "\n",
    "$$ A_c(x)= 4(2rcos(x/2))(rsin(x/2))-(2rsin(x/2))^2 $$\n",
    "$$ A_c(x)= 4(2(2cos(x/2))(2sin(x/2))-(2(2sin(x/2)))^2 $$"
   ]
  },
  {
   "cell_type": "code",
   "execution_count": 2,
   "metadata": {},
   "outputs": [],
   "source": [
    "import numpy as np\n",
    "import matplotlib.pyplot as plt\n",
    "%matplotlib inline\n",
    "import sympy as sp"
   ]
  },
  {
   "cell_type": "code",
   "execution_count": 3,
   "metadata": {},
   "outputs": [
    {
     "data": {
      "text/latex": [
       "$\\displaystyle - 16 \\sin^{2}{\\left(\\frac{x}{2} \\right)} + 32 \\sin{\\left(\\frac{x}{2} \\right)} \\cos{\\left(\\frac{x}{2} \\right)}$"
      ],
      "text/plain": [
       "-16*sin(x/2)**2 + 32*sin(x/2)*cos(x/2)"
      ]
     },
     "execution_count": 3,
     "metadata": {},
     "output_type": "execute_result"
    }
   ],
   "source": [
    "r = 2\n",
    "x = sp.var(\"x\")\n",
    "\n",
    "\n",
    "def A(x) :\n",
    "    return 4*(2*r*sp.cos(x/2))*(r*sp.sin(x/2))-(2*r*sp.sin(x/2))**2\n",
    "A(x)"
   ]
  },
  {
   "cell_type": "code",
   "execution_count": 4,
   "metadata": {},
   "outputs": [
    {
     "data": {
      "text/latex": [
       "$\\displaystyle - 16 \\sin^{2}{\\left(\\frac{x}{2} \\right)} - 16 \\sin{\\left(\\frac{x}{2} \\right)} \\cos{\\left(\\frac{x}{2} \\right)} + 16 \\cos^{2}{\\left(\\frac{x}{2} \\right)}$"
      ],
      "text/plain": [
       "-16*sin(x/2)**2 - 16*sin(x/2)*cos(x/2) + 16*cos(x/2)**2"
      ]
     },
     "execution_count": 4,
     "metadata": {},
     "output_type": "execute_result"
    }
   ],
   "source": [
    "dA = sp.diff(A(x), x)\n",
    "dA"
   ]
  },
  {
   "cell_type": "code",
   "execution_count": 18,
   "metadata": {},
   "outputs": [
    {
     "data": {
      "text/plain": [
       "[4*atan(-1/2 + sqrt(5)/2 + sqrt(2)*sqrt(5 - sqrt(5))/2),\n",
       " -4*atan(1/2 + sqrt(5)/2 + sqrt(2)*sqrt(sqrt(5) + 5)/2),\n",
       " -4*atan(-sqrt(5)/2 + 1/2 + sqrt(2)*sqrt(5 - sqrt(5))/2),\n",
       " -4*atan(-sqrt(2)*sqrt(sqrt(5) + 5)/2 + 1/2 + sqrt(5)/2)]"
      ]
     },
     "execution_count": 18,
     "metadata": {},
     "output_type": "execute_result"
    }
   ],
   "source": [
    "pc = sp.solve(dA, x)\n",
    "pc"
   ]
  },
  {
   "cell_type": "code",
   "execution_count": 19,
   "metadata": {},
   "outputs": [
    {
     "name": "stdout",
     "output_type": "stream",
     "text": [
      "-25.8885438199983\n",
      "9.88854381999832\n",
      "-25.8885438199983\n",
      "9.88854381999832\n"
     ]
    }
   ],
   "source": [
    "def As(x) :\n",
    "    return 4*(2*r*sp.cos(x/2))*(r*sp.sin(x/2))-(2*r*sp.sin(x/2))**2\n",
    "\n",
    "\n",
    "for valor in pc :\n",
    "    print(As(float(valor)))"
   ]
  },
  {
   "cell_type": "code",
   "execution_count": 20,
   "metadata": {},
   "outputs": [
    {
     "name": "stdout",
     "output_type": "stream",
     "text": [
      "4.2487413713838835\n",
      "-5.176036589385496\n",
      "-2.0344439357957027\n",
      "1.1071487177940904\n"
     ]
    }
   ],
   "source": [
    "for valor in pc :\n",
    "    print(float(valor))"
   ]
  },
  {
   "cell_type": "markdown",
   "metadata": {},
   "source": [
    "## Tenemos dos valores de x que maximizan el área de la cruz (-5.17 y 1.10), como x es un ángulo es más fácil quedarnos con el valor que es positivo."
   ]
  },
  {
   "cell_type": "markdown",
   "metadata": {},
   "source": [
    "### El área máxima de la cruz es de 9.88 y el valor de θ que lo permite es 1.107"
   ]
  },
  {
   "cell_type": "markdown",
   "metadata": {},
   "source": [
    "---\n",
    "# Segundo punto. Programación lineal (35 puntos)\n",
    "\n",
    "Un empresario pretende fabricar dos tipos de congeladores denominados A y B. Cada uno de ellos debe pasar por tres operaciones antes de su comercialización: \n",
    "<table>\n",
    "  <tr>\n",
    "      <th></th>\n",
    "      <th>Ensamblaje</th>\n",
    "      <th>Pintura</th>\n",
    "      <th>Calidad</th>\n",
    "  </tr>\n",
    "  <tr>\n",
    "      <th>Congeladores tipo A</th>\n",
    "      <td>2.5 horas</td>\n",
    "      <td>3 kg</td>\n",
    "      <td>14 horas</td>\n",
    "  </tr>\n",
    "  <tr style=\"border-bottom: 1px solid #000;\">\n",
    "      <th>Congeladores tipo B</th>\n",
    "      <td>3 horas</td>\n",
    "      <td>6 kg</td>\n",
    "      <td>10 horas</td>\n",
    "  </tr>\n",
    "  <tr>\n",
    "      <td>Disponibilidad</td>\n",
    "      <td>4500 horas</td>\n",
    "      <td>8400 kg</td>\n",
    "      <td>20000 horas</td>\n",
    "  </tr>\n",
    "</table>\n",
    "\n",
    "El empresario dispone semanalmente de:\n",
    "\n",
    "* Máximo 4500 horas para ensamblaje\n",
    "* Máximo 8400 Kg. de esmalte\n",
    "* 20000 horas máximo, para control de calidad\n",
    "\n",
    "Los costos totales de fabricación por unidad son, respectivamente, 30 y 28, y los precios de venta 52 y 48, todos ellos en miles de pesos. Además, los estudios de mercado muestran que la demanda semanal de congeladores no supera las 1700 unidades y que, en particular, la de tipo A es de, al menos 600 unidades.\n",
    "\n",
    "<table>\n",
    "  <tr>\n",
    "      <th></th>\n",
    "      <th>Costo</th>\n",
    "      <th>Precio de venta</th>\n",
    "  </tr>\n",
    "  <tr>\n",
    "      <th>Congeladores tipo A</th>\n",
    "      <td>30</td>\n",
    "      <td>52</td>\n",
    "  </tr>\n",
    "  <tr>\n",
    "      <th>Congeladores tipo B</th>\n",
    "      <td>28</td>\n",
    "      <td>48</td>\n",
    "  </tr>\n",
    "</table>\n",
    "\n",
    "Se desea conocer las unidades necesarias para **maximizar** la utilidad.\n",
    "\n",
    "1. Escriba la función a **minimizar** junto con las restricciones, explicando detalladamente cada paso (usando fórmulas en $\\LaTeX$, en celdas Markdown). Además escriba el problema en la forma \\begin{equation}\n",
    "\\begin{array}{ll}\n",
    "\\min_{\\boldsymbol{x}} & \\boldsymbol{c}^T\\boldsymbol{x} \\\\\n",
    "\\text{s. a. }        & \\boldsymbol{A}_{eq}\\boldsymbol{x}=\\boldsymbol{b}_{eq} \\\\\n",
    "                     & \\boldsymbol{A}\\boldsymbol{x}\\leq\\boldsymbol{b},\n",
    "\\end{array}\\qquad\\text{(25 puntos)}\n",
    "\\end{equation}\n",
    "2. Resuelva el problema utilizando la función `linprog`. ¿Cuántos congeladores de cada tipo se deben producir (valores enteros)?, ¿Cuál es la ganancia? (10 puntos)"
   ]
  },
  {
   "cell_type": "markdown",
   "metadata": {},
   "source": [
    "Utilidad de los congeladores en función de x:\n",
    "$$ (52 - 30)x_A $$\n",
    "$$ (48 - 28)x_B $$\n",
    "\n",
    "Función objetivo de maximizar Utilidad:\n",
    "$$ \\min_{x_A,\\dots,x_B}-22x_{A} - 20x_{B}$$\n",
    "\n",
    "Funciones de restricción:\n",
    "- $ x_A + x_B \\leq 1700 $\n",
    "- $ 2.5x_A + 3x_B \\leq 4500 $\n",
    "- $ 3x_A + 6x_B \\leq 8400 $\n",
    "- $ 14x_A + 10x_B \\leq 20000 $\n",
    "- $ -x_A \\leq -600 $"
   ]
  },
  {
   "cell_type": "code",
   "execution_count": 10,
   "metadata": {},
   "outputs": [
    {
     "data": {
      "text/plain": [
       "     con: array([], dtype=float64)\n",
       "     fun: -34705.8789979671\n",
       " message: 'Optimization terminated successfully.'\n",
       "     nit: 6\n",
       "   slack: array([5.29413396e+01, 4.65958063e-04, 1.16470672e+03, 1.81731722e-03,\n",
       "       2.82352895e+02])\n",
       "  status: 0\n",
       " success: True\n",
       "       x: array([882.35289457, 764.70576588])"
      ]
     },
     "execution_count": 10,
     "metadata": {},
     "output_type": "execute_result"
    }
   ],
   "source": [
    "import scipy.optimize as opt\n",
    "import numpy as np\n",
    "\n",
    "c = np.array([-22,-20])\n",
    "A = np.array([[1,1],[2.5,3],[3,6],[14,10],[-1,0]])\n",
    "b = np.array([1700,4500,8400,20000,-600])\n",
    "\n",
    "ans = opt.linprog(c,A,b, method=\"simplex\")\n",
    "\n",
    "opt.linprog(c,A,b)"
   ]
  },
  {
   "cell_type": "code",
   "execution_count": 11,
   "metadata": {},
   "outputs": [
    {
     "data": {
      "text/plain": [
       "array([882.35294118, 764.70588235])"
      ]
     },
     "execution_count": 11,
     "metadata": {},
     "output_type": "execute_result"
    }
   ],
   "source": [
    "ans.x"
   ]
  },
  {
   "cell_type": "markdown",
   "metadata": {},
   "source": [
    "Obtenemos que $x_A = 882.35$ y $x_B = 764.70$, lo redondeamos y obtenemos que $x_A = 882$ y $x_B = 765$\n",
    "Sustituimos los valores en nuestras ecuaciones de utilidad para obtener las ganancias totales\n",
    "- Congeladores tipo A: $882*22 = 19404$\n",
    "- Congeladores tipo B: $765*20 = 15300$\n",
    "\n",
    "Obtenemos los siguientes resultados para maximizar ganancias:\n",
    "- Producimos 882 congeladores tipo A\n",
    "- Producimos 765 congeladores tipo B\n",
    "- Obtenemos una Utilidad total de $34704"
   ]
  },
  {
   "cell_type": "markdown",
   "metadata": {},
   "source": [
    "---\n",
    "# Tercer punto. Ajuste de curvas (30 puntos)\n",
    "Los siguientes datos extraidos de Administrative Office of the U.S. Courts, representan el número de bancarrotas en miles entre los años 1988 y 2001. "
   ]
  },
  {
   "cell_type": "code",
   "execution_count": 23,
   "metadata": {},
   "outputs": [
    {
     "data": {
      "text/html": [
       "<div>\n",
       "<style scoped>\n",
       "    .dataframe tbody tr th:only-of-type {\n",
       "        vertical-align: middle;\n",
       "    }\n",
       "\n",
       "    .dataframe tbody tr th {\n",
       "        vertical-align: top;\n",
       "    }\n",
       "\n",
       "    .dataframe thead th {\n",
       "        text-align: right;\n",
       "    }\n",
       "</style>\n",
       "<table border=\"1\" class=\"dataframe\">\n",
       "  <thead>\n",
       "    <tr style=\"text-align: right;\">\n",
       "      <th></th>\n",
       "      <th>values</th>\n",
       "    </tr>\n",
       "    <tr>\n",
       "      <th>date</th>\n",
       "      <th></th>\n",
       "    </tr>\n",
       "  </thead>\n",
       "  <tbody>\n",
       "    <tr>\n",
       "      <th>1988-12-31</th>\n",
       "      <td>594.6</td>\n",
       "    </tr>\n",
       "    <tr>\n",
       "      <th>1989-12-31</th>\n",
       "      <td>643.0</td>\n",
       "    </tr>\n",
       "    <tr>\n",
       "      <th>1990-12-31</th>\n",
       "      <td>725.5</td>\n",
       "    </tr>\n",
       "    <tr>\n",
       "      <th>1991-12-31</th>\n",
       "      <td>880.4</td>\n",
       "    </tr>\n",
       "    <tr>\n",
       "      <th>1992-12-31</th>\n",
       "      <td>972.5</td>\n",
       "    </tr>\n",
       "    <tr>\n",
       "      <th>1993-12-31</th>\n",
       "      <td>918.7</td>\n",
       "    </tr>\n",
       "    <tr>\n",
       "      <th>1994-12-31</th>\n",
       "      <td>845.3</td>\n",
       "    </tr>\n",
       "    <tr>\n",
       "      <th>1995-12-31</th>\n",
       "      <td>858.1</td>\n",
       "    </tr>\n",
       "    <tr>\n",
       "      <th>1996-12-31</th>\n",
       "      <td>1042.1</td>\n",
       "    </tr>\n",
       "    <tr>\n",
       "      <th>1997-12-31</th>\n",
       "      <td>1317.0</td>\n",
       "    </tr>\n",
       "    <tr>\n",
       "      <th>1998-12-31</th>\n",
       "      <td>1429.5</td>\n",
       "    </tr>\n",
       "    <tr>\n",
       "      <th>1999-12-31</th>\n",
       "      <td>1392.0</td>\n",
       "    </tr>\n",
       "    <tr>\n",
       "      <th>2000-12-31</th>\n",
       "      <td>1277.0</td>\n",
       "    </tr>\n",
       "    <tr>\n",
       "      <th>2001-12-31</th>\n",
       "      <td>1386.6</td>\n",
       "    </tr>\n",
       "  </tbody>\n",
       "</table>\n",
       "</div>"
      ],
      "text/plain": [
       "            values\n",
       "date              \n",
       "1988-12-31   594.6\n",
       "1989-12-31   643.0\n",
       "1990-12-31   725.5\n",
       "1991-12-31   880.4\n",
       "1992-12-31   972.5\n",
       "1993-12-31   918.7\n",
       "1994-12-31   845.3\n",
       "1995-12-31   858.1\n",
       "1996-12-31  1042.1\n",
       "1997-12-31  1317.0\n",
       "1998-12-31  1429.5\n",
       "1999-12-31  1392.0\n",
       "2000-12-31  1277.0\n",
       "2001-12-31  1386.6"
      ]
     },
     "execution_count": 23,
     "metadata": {},
     "output_type": "execute_result"
    }
   ],
   "source": [
    "import numpy as np\n",
    "import pandas as pd\n",
    "import matplotlib.pyplot as plt\n",
    "\n",
    "date_rng=pd.date_range(start='1/1/1988', end='31/12/2001', freq='Y')\n",
    "ban=pd.DataFrame(date_rng, columns=['date'])\n",
    "ban = ban.set_index('date')\n",
    "ban['values'] = np.array([594.6,643.0,725.5,880.4,972.5,918.7,845.3,858.1,\n",
    "                           1042.1,1317.0,1429.5,1392.0,1277.0,1386.6])\n",
    "ban"
   ]
  },
  {
   "cell_type": "markdown",
   "metadata": {},
   "source": [
    "1. Ajuste los salarios con polinomios de grado 1 a 5 y muestre los errores de forma gráfica, ¿Qué polinómio se ajusta mejor? (20 puntos)\n",
    "2. Muestre en un gráfico los datos y el polinómio que mejor se ajuste (5 puntos)\n",
    "3. Usar el modelo para averiguar el número de bancarrotas a mdiados de 1995 y predecirlo para el año 2020. ¿Qué diferencias encuentra en cuanto a la interpolación y la extrapolación? (5 puntos)"
   ]
  },
  {
   "cell_type": "code",
   "execution_count": 24,
   "metadata": {
    "scrolled": false
   },
   "outputs": [
    {
     "data": {
      "text/html": [
       "<div>\n",
       "<style scoped>\n",
       "    .dataframe tbody tr th:only-of-type {\n",
       "        vertical-align: middle;\n",
       "    }\n",
       "\n",
       "    .dataframe tbody tr th {\n",
       "        vertical-align: top;\n",
       "    }\n",
       "\n",
       "    .dataframe thead th {\n",
       "        text-align: right;\n",
       "    }\n",
       "</style>\n",
       "<table border=\"1\" class=\"dataframe\">\n",
       "  <thead>\n",
       "    <tr style=\"text-align: right;\">\n",
       "      <th></th>\n",
       "      <th>date</th>\n",
       "      <th>values</th>\n",
       "    </tr>\n",
       "  </thead>\n",
       "  <tbody>\n",
       "    <tr>\n",
       "      <th>0</th>\n",
       "      <td>1988-12-31</td>\n",
       "      <td>594.6</td>\n",
       "    </tr>\n",
       "    <tr>\n",
       "      <th>1</th>\n",
       "      <td>1989-12-31</td>\n",
       "      <td>643.0</td>\n",
       "    </tr>\n",
       "    <tr>\n",
       "      <th>2</th>\n",
       "      <td>1990-12-31</td>\n",
       "      <td>725.5</td>\n",
       "    </tr>\n",
       "    <tr>\n",
       "      <th>3</th>\n",
       "      <td>1991-12-31</td>\n",
       "      <td>880.4</td>\n",
       "    </tr>\n",
       "    <tr>\n",
       "      <th>4</th>\n",
       "      <td>1992-12-31</td>\n",
       "      <td>972.5</td>\n",
       "    </tr>\n",
       "    <tr>\n",
       "      <th>5</th>\n",
       "      <td>1993-12-31</td>\n",
       "      <td>918.7</td>\n",
       "    </tr>\n",
       "    <tr>\n",
       "      <th>6</th>\n",
       "      <td>1994-12-31</td>\n",
       "      <td>845.3</td>\n",
       "    </tr>\n",
       "    <tr>\n",
       "      <th>7</th>\n",
       "      <td>1995-12-31</td>\n",
       "      <td>858.1</td>\n",
       "    </tr>\n",
       "    <tr>\n",
       "      <th>8</th>\n",
       "      <td>1996-12-31</td>\n",
       "      <td>1042.1</td>\n",
       "    </tr>\n",
       "    <tr>\n",
       "      <th>9</th>\n",
       "      <td>1997-12-31</td>\n",
       "      <td>1317.0</td>\n",
       "    </tr>\n",
       "    <tr>\n",
       "      <th>10</th>\n",
       "      <td>1998-12-31</td>\n",
       "      <td>1429.5</td>\n",
       "    </tr>\n",
       "    <tr>\n",
       "      <th>11</th>\n",
       "      <td>1999-12-31</td>\n",
       "      <td>1392.0</td>\n",
       "    </tr>\n",
       "    <tr>\n",
       "      <th>12</th>\n",
       "      <td>2000-12-31</td>\n",
       "      <td>1277.0</td>\n",
       "    </tr>\n",
       "    <tr>\n",
       "      <th>13</th>\n",
       "      <td>2001-12-31</td>\n",
       "      <td>1386.6</td>\n",
       "    </tr>\n",
       "  </tbody>\n",
       "</table>\n",
       "</div>"
      ],
      "text/plain": [
       "         date  values\n",
       "0  1988-12-31   594.6\n",
       "1  1989-12-31   643.0\n",
       "2  1990-12-31   725.5\n",
       "3  1991-12-31   880.4\n",
       "4  1992-12-31   972.5\n",
       "5  1993-12-31   918.7\n",
       "6  1994-12-31   845.3\n",
       "7  1995-12-31   858.1\n",
       "8  1996-12-31  1042.1\n",
       "9  1997-12-31  1317.0\n",
       "10 1998-12-31  1429.5\n",
       "11 1999-12-31  1392.0\n",
       "12 2000-12-31  1277.0\n",
       "13 2001-12-31  1386.6"
      ]
     },
     "execution_count": 24,
     "metadata": {},
     "output_type": "execute_result"
    }
   ],
   "source": [
    "l = np.arange(14)\n",
    "ban = pd.DataFrame(columns=['date','values'], index = l)\n",
    "ban['values'] = np.array([594.6,643.0,725.5,880.4,972.5,918.7,845.3,858.1,\n",
    "                           1042.1,1317.0,1429.5,1392.0,1277.0,1386.6])\n",
    "ban['date']=pd.date_range(start='1/1/1988', end='31/12/2001', freq='Y')\n",
    "ban"
   ]
  },
  {
   "cell_type": "markdown",
   "metadata": {},
   "source": [
    "### Creamos una tabla con los mismos valores pero que nos deje utilizar los valores como variables. Redondeo fechas a numeros enteros. (ej. 31/12/2001 = 2002)"
   ]
  },
  {
   "cell_type": "code",
   "execution_count": 46,
   "metadata": {},
   "outputs": [
    {
     "data": {
      "text/html": [
       "<div>\n",
       "<style scoped>\n",
       "    .dataframe tbody tr th:only-of-type {\n",
       "        vertical-align: middle;\n",
       "    }\n",
       "\n",
       "    .dataframe tbody tr th {\n",
       "        vertical-align: top;\n",
       "    }\n",
       "\n",
       "    .dataframe thead th {\n",
       "        text-align: right;\n",
       "    }\n",
       "</style>\n",
       "<table border=\"1\" class=\"dataframe\">\n",
       "  <thead>\n",
       "    <tr style=\"text-align: right;\">\n",
       "      <th></th>\n",
       "      <th>date</th>\n",
       "      <th>values</th>\n",
       "    </tr>\n",
       "  </thead>\n",
       "  <tbody>\n",
       "    <tr>\n",
       "      <th>0</th>\n",
       "      <td>1989</td>\n",
       "      <td>594.6</td>\n",
       "    </tr>\n",
       "    <tr>\n",
       "      <th>1</th>\n",
       "      <td>1990</td>\n",
       "      <td>643.0</td>\n",
       "    </tr>\n",
       "    <tr>\n",
       "      <th>2</th>\n",
       "      <td>1991</td>\n",
       "      <td>725.5</td>\n",
       "    </tr>\n",
       "    <tr>\n",
       "      <th>3</th>\n",
       "      <td>1992</td>\n",
       "      <td>880.4</td>\n",
       "    </tr>\n",
       "    <tr>\n",
       "      <th>4</th>\n",
       "      <td>1993</td>\n",
       "      <td>972.5</td>\n",
       "    </tr>\n",
       "    <tr>\n",
       "      <th>5</th>\n",
       "      <td>1994</td>\n",
       "      <td>918.7</td>\n",
       "    </tr>\n",
       "    <tr>\n",
       "      <th>6</th>\n",
       "      <td>1995</td>\n",
       "      <td>845.3</td>\n",
       "    </tr>\n",
       "    <tr>\n",
       "      <th>7</th>\n",
       "      <td>1996</td>\n",
       "      <td>858.1</td>\n",
       "    </tr>\n",
       "    <tr>\n",
       "      <th>8</th>\n",
       "      <td>1997</td>\n",
       "      <td>1042.1</td>\n",
       "    </tr>\n",
       "    <tr>\n",
       "      <th>9</th>\n",
       "      <td>1998</td>\n",
       "      <td>1317.0</td>\n",
       "    </tr>\n",
       "    <tr>\n",
       "      <th>10</th>\n",
       "      <td>1999</td>\n",
       "      <td>1429.5</td>\n",
       "    </tr>\n",
       "    <tr>\n",
       "      <th>11</th>\n",
       "      <td>2000</td>\n",
       "      <td>1392.0</td>\n",
       "    </tr>\n",
       "    <tr>\n",
       "      <th>12</th>\n",
       "      <td>2001</td>\n",
       "      <td>1277.0</td>\n",
       "    </tr>\n",
       "    <tr>\n",
       "      <th>13</th>\n",
       "      <td>2002</td>\n",
       "      <td>1386.6</td>\n",
       "    </tr>\n",
       "  </tbody>\n",
       "</table>\n",
       "</div>"
      ],
      "text/plain": [
       "    date  values\n",
       "0   1989   594.6\n",
       "1   1990   643.0\n",
       "2   1991   725.5\n",
       "3   1992   880.4\n",
       "4   1993   972.5\n",
       "5   1994   918.7\n",
       "6   1995   845.3\n",
       "7   1996   858.1\n",
       "8   1997  1042.1\n",
       "9   1998  1317.0\n",
       "10  1999  1429.5\n",
       "11  2000  1392.0\n",
       "12  2001  1277.0\n",
       "13  2002  1386.6"
      ]
     },
     "execution_count": 46,
     "metadata": {},
     "output_type": "execute_result"
    }
   ],
   "source": [
    "l = np.arange(14)\n",
    "ban = pd.DataFrame(columns=['date','values'], index = l)\n",
    "ban['values'] = np.array([594.6,643.0,725.5,880.4,972.5,918.7,845.3,858.1,\n",
    "                           1042.1,1317.0,1429.5,1392.0,1277.0,1386.6])\n",
    "ban['date']=np.array([1989,1990,1991,1992,1993,1994,1995,1996,1997,1998,1999,2000,2001,2002])\n",
    "ban"
   ]
  },
  {
   "cell_type": "markdown",
   "metadata": {},
   "source": [
    "### Grafico la tabla de los datos del problema. Para la variable x le resto el valor mínimo (1989) para que sea más fácil trabajar posteriormente."
   ]
  },
  {
   "cell_type": "code",
   "execution_count": 110,
   "metadata": {
    "scrolled": true
   },
   "outputs": [
    {
     "data": {
      "image/png": "[encoded data removed]",
      "text/plain": [
       "<Figure size 432x288 with 1 Axes>"
      ]
     },
     "metadata": {
      "needs_background": "light"
     },
     "output_type": "display_data"
    }
   ],
   "source": [
    "x = ban['date'] - 1989\n",
    "y = ban['values']\n",
    "\n",
    "plt.figure()\n",
    "plt.scatter(x,y,s = 100)\n",
    "plt.grid()"
   ]
  },
  {
   "cell_type": "markdown",
   "metadata": {},
   "source": [
    "### Función de la ecuación de grado 1"
   ]
  },
  {
   "cell_type": "code",
   "execution_count": 111,
   "metadata": {},
   "outputs": [
    {
     "data": {
      "text/plain": [
       "      fun: 155674.7628131868\n",
       " hess_inv: array([[ 0.00039053, -0.00016285],\n",
       "       [-0.00016285,  0.0002848 ]])\n",
       "      jac: array([0., 0.])\n",
       "  message: 'Optimization terminated successfully.'\n",
       "     nfev: 48\n",
       "      nit: 9\n",
       "     njev: 16\n",
       "   status: 0\n",
       "  success: True\n",
       "        x: array([602.76856796,  64.21472566])"
      ]
     },
     "execution_count": 111,
     "metadata": {},
     "output_type": "execute_result"
    }
   ],
   "source": [
    "import scipy.optimize as opt\n",
    "\n",
    "def funcion_1(theta,x,y):\n",
    "    prediccion = theta[0] + theta[1]*x\n",
    "    error = y - prediccion\n",
    "    error_2 = error**2\n",
    "    return np.sum(error_2)\n",
    "\n",
    "theta_inicial_1 = np.random.rand(2)\n",
    "ans = opt.minimize(funcion_1,\n",
    "                   theta_inicial_1,\n",
    "                   args = (x, y))\n",
    "br_1 = ans.fun\n",
    "resultado_1 = ans.x\n",
    "ans"
   ]
  },
  {
   "cell_type": "markdown",
   "metadata": {},
   "source": [
    "### Función de la ecuación de grado 2"
   ]
  },
  {
   "cell_type": "code",
   "execution_count": 112,
   "metadata": {},
   "outputs": [
    {
     "data": {
      "text/plain": [
       "      fun: 155674.61137089267\n",
       " hess_inv: array([[ 1.94760659e+00, -5.85145954e-01,  3.49019641e-02],\n",
       "       [-5.85145954e-01,  1.78683187e-01, -1.07888580e-02],\n",
       "       [ 3.49019641e-02, -1.07888580e-02,  6.62538655e-04]])\n",
       "      jac: array([0.00195312, 0.00390625, 0.00195312])\n",
       "  message: 'Desired error not necessarily achieved due to precision loss.'\n",
       "     nfev: 212\n",
       "      nit: 9\n",
       "     njev: 50\n",
       "   status: 2\n",
       "  success: False\n",
       "        x: array([6.02955999e+02, 6.41210042e+01, 7.20950417e-03])"
      ]
     },
     "execution_count": 112,
     "metadata": {},
     "output_type": "execute_result"
    }
   ],
   "source": [
    "def funcion_2(theta,x,y):\n",
    "    prediccion = theta[0] + theta[1]*x + theta[2]*x**2\n",
    "    error = y - prediccion\n",
    "    error_2 = error**2\n",
    "    return np.sum(error_2)\n",
    "\n",
    "theta_inicial_2 = np.random.rand(3)\n",
    "ans = opt.minimize(funcion_2,\n",
    "                   theta_inicial_2,\n",
    "                   args = (x, y))\n",
    "br_2 = ans.fun\n",
    "resultado_2 = ans.x\n",
    "ans"
   ]
  },
  {
   "cell_type": "markdown",
   "metadata": {},
   "source": [
    "### Función de la ecuación de grado 3"
   ]
  },
  {
   "cell_type": "code",
   "execution_count": 113,
   "metadata": {},
   "outputs": [
    {
     "data": {
      "text/plain": [
       "      fun: 152011.49482552835\n",
       " hess_inv: array([[ 4.98386297e-03, -4.98406379e-03,  2.43186123e-03,\n",
       "        -1.31447481e-04],\n",
       "       [-4.98406379e-03,  4.98427586e-03, -2.43196796e-03,\n",
       "         1.31453363e-04],\n",
       "       [ 2.43186123e-03, -2.43196796e-03,  1.23478368e-03,\n",
       "        -6.84813866e-05],\n",
       "       [-1.31447481e-04,  1.31453363e-04, -6.84813866e-05,\n",
       "         3.87273448e-06]])\n",
       "      jac: array([-0.00195312, -0.00195312, -0.00195312, -0.01757812])\n",
       "  message: 'Desired error not necessarily achieved due to precision loss.'\n",
       "     nfev: 555\n",
       "      nit: 16\n",
       "     njev: 107\n",
       "   status: 2\n",
       "  success: False\n",
       "        x: array([ 6.30711045e+02,  3.25164624e+01,  6.31517737e+00, -3.23485477e-01])"
      ]
     },
     "execution_count": 113,
     "metadata": {},
     "output_type": "execute_result"
    }
   ],
   "source": [
    "def funcion_3(theta,x,y):\n",
    "    prediccion = theta[0] + theta[1]*x + theta[2]*x**2 + theta[3]*x**3\n",
    "    error = y - prediccion\n",
    "    error_2 = error**2\n",
    "    return np.sum(error_2)\n",
    "\n",
    "theta_inicial_3 = np.random.rand(4)\n",
    "ans = opt.minimize(funcion_3,\n",
    "                   theta_inicial_3,\n",
    "                   args = (x, y))\n",
    "br_3 = ans.fun\n",
    "resultado_3 = ans.x\n",
    "ans"
   ]
  },
  {
   "cell_type": "markdown",
   "metadata": {},
   "source": [
    "### Función de la ecuación de grado 4"
   ]
  },
  {
   "cell_type": "code",
   "execution_count": 114,
   "metadata": {},
   "outputs": [
    {
     "data": {
      "text/plain": [
       "      fun: 106381.977607796\n",
       " hess_inv: array([[ 2.79334315e-01,  5.31932930e-01, -2.51355476e-01,\n",
       "         3.21148846e-02, -1.24336491e-03],\n",
       "       [ 5.31932930e-01,  1.02032718e+00, -4.85965981e-01,\n",
       "         6.23811432e-02, -2.42279042e-03],\n",
       "       [-2.51355476e-01, -4.85965981e-01,  2.33434862e-01,\n",
       "        -3.01136555e-02,  1.17344963e-03],\n",
       "       [ 3.21148846e-02,  6.23811432e-02, -3.01136555e-02,\n",
       "         3.89868091e-03, -1.52336720e-04],\n",
       "       [-1.24336491e-03, -2.42279042e-03,  1.17344963e-03,\n",
       "        -1.52336720e-04,  5.96582203e-06]])\n",
       "      jac: array([-0.00195312,  0.        ,  0.00195312,  0.00097656, -0.00488281])\n",
       "  message: 'Desired error not necessarily achieved due to precision loss.'\n",
       "     nfev: 474\n",
       "      nit: 11\n",
       "     njev: 77\n",
       "   status: 2\n",
       "  success: False\n",
       "        x: array([ 5.47916208e+02,  2.23195584e+02, -6.54307521e+01,  8.45779279e+00,\n",
       "       -3.37741500e-01])"
      ]
     },
     "execution_count": 114,
     "metadata": {},
     "output_type": "execute_result"
    }
   ],
   "source": [
    "def funcion_4(theta,x,y):\n",
    "    prediccion = theta[0] + theta[1]*x + theta[2]*x**2 + theta[3]*x**3 + theta[4]*x**4\n",
    "    error = y - prediccion\n",
    "    error_2 = error**2\n",
    "    return np.sum(error_2)\n",
    "\n",
    "theta_inicial_4 = np.random.rand(5)\n",
    "ans = opt.minimize(funcion_4,\n",
    "                   theta_inicial_4,\n",
    "                   args = (x, y))\n",
    "br_4 = ans.fun\n",
    "resultado_4 = ans.x\n",
    "ans"
   ]
  },
  {
   "cell_type": "markdown",
   "metadata": {},
   "source": [
    "### Función de la ecuación de grado 5"
   ]
  },
  {
   "cell_type": "code",
   "execution_count": 115,
   "metadata": {},
   "outputs": [
    {
     "data": {
      "text/plain": [
       "      fun: 105833.49110914138\n",
       " hess_inv: array([[ 4.69924362e-01, -5.65799781e-01,  2.16583171e-01,\n",
       "        -3.56012472e-02,  2.62417392e-03, -7.12774751e-05],\n",
       "       [-5.65799781e-01,  1.47414426e+00, -7.37713273e-01,\n",
       "         1.39629473e-01, -1.12339999e-02,  3.23909220e-04],\n",
       "       [ 2.16583171e-01, -7.37713273e-01,  4.05428795e-01,\n",
       "        -8.09311455e-02,  6.74277152e-03, -1.99289629e-04],\n",
       "       [-3.56012472e-02,  1.39629473e-01, -8.09311455e-02,\n",
       "         1.66978933e-02, -1.42363839e-03,  4.28032436e-05],\n",
       "       [ 2.62417392e-03, -1.12339999e-02,  6.74277152e-03,\n",
       "        -1.42363839e-03,  1.23439241e-04, -3.75962825e-06],\n",
       "       [-7.12774751e-05,  3.23909220e-04, -1.99289629e-04,\n",
       "         4.28032436e-05, -3.75962825e-06,  1.15680450e-07]])\n",
       "      jac: array([ -0.18457031,   0.25976562,  -0.67578125,  -1.71679688,\n",
       "        -6.65234375, -83.97460938])\n",
       "  message: 'Desired error not necessarily achieved due to precision loss.'\n",
       "     nfev: 390\n",
       "      nit: 10\n",
       "     njev: 54\n",
       "   status: 2\n",
       "  success: False\n",
       "        x: array([ 5.54697910e+02,  1.91521276e+02, -4.58400797e+01,  4.23961290e+00,\n",
       "        3.33178074e-02, -1.14286535e-02])"
      ]
     },
     "execution_count": 115,
     "metadata": {},
     "output_type": "execute_result"
    }
   ],
   "source": [
    "def funcion_5(theta,x,y):\n",
    "    prediccion = theta[0] + theta[1]*x + theta[2]*x**2 + theta[3]*x**3 + theta[4]*x**4 + theta[5]*x**5\n",
    "    error = y - prediccion\n",
    "    error_2 = error**2\n",
    "    return np.sum(error_2)\n",
    "\n",
    "theta_inicial_5 = np.random.rand(6)\n",
    "ans = opt.minimize(funcion_5,\n",
    "                   theta_inicial_5,\n",
    "                   args = (x, y))\n",
    "br_5 = ans.fun\n",
    "resultado_5 = ans.x\n",
    "ans"
   ]
  },
  {
   "cell_type": "markdown",
   "metadata": {},
   "source": [
    "### Gráfica de todas las funciones"
   ]
  },
  {
   "cell_type": "code",
   "execution_count": 139,
   "metadata": {
    "scrolled": true
   },
   "outputs": [
    {
     "data": {
      "text/plain": [
       "<matplotlib.legend.Legend at 0x7fc8c1750c70>"
      ]
     },
     "execution_count": 139,
     "metadata": {},
     "output_type": "execute_result"
    },
    {
     "data": {
      "image/png": "[encoded data removed]",
      "text/plain": [
       "<Figure size 432x288 with 1 Axes>"
      ]
     },
     "metadata": {
      "needs_background": "light"
     },
     "output_type": "display_data"
    }
   ],
   "source": [
    "xn = np.linspace(0, 17, 500)\n",
    "yn1 = resultado_1[0] + resultado_1[1]*xn\n",
    "yn2 = resultado_2[0] + resultado_2[1]*xn + resultado_2[2]*xn**2\n",
    "yn3 = resultado_3[0] + resultado_3[1]*xn + resultado_3[2]*xn**2 + resultado_3[3]*xn**3\n",
    "yn4 = resultado_4[0] + resultado_4[1]*xn + resultado_4[2]*xn**2 + resultado_4[3]*xn**3 + resultado_4[4]*xn**4\n",
    "yn5 = resultado_5[0] + resultado_5[1]*xn + resultado_5[2]*xn**2 + resultado_5[3]*xn**3 + resultado_5[4]*xn**4 + resultado_5[5]*xn**5\n",
    "\n",
    "plt.figure()\n",
    "plt.scatter(x, y, s=50)\n",
    "plt.plot(xn, yn1, label=\"Línea\")\n",
    "plt.plot(xn, yn2, label=\"Cuadrado\")\n",
    "plt.plot(xn, yn3, label=\"Cubo\")\n",
    "plt.plot(xn, yn4, label=\"Cuarta\")\n",
    "plt.plot(xn, yn5, label=\"Quinta\")\n",
    "plt.legend(loc=\"best\")"
   ]
  },
  {
   "cell_type": "markdown",
   "metadata": {},
   "source": [
    "### Predicción para el año 2020"
   ]
  },
  {
   "cell_type": "code",
   "execution_count": 128,
   "metadata": {},
   "outputs": [],
   "source": [
    "x2021 = 2021 - 1989\n",
    "pred1 = resultado_1[0] + resultado_1[1]*x2021\n",
    "pred2 = resultado_2[0] + resultado_2[1]*x2021 + resultado_2[2]*x2021**2\n",
    "pred3 = resultado_3[0] + resultado_3[1]*x2021 + resultado_3[2]*x2021**2 + resultado_3[3]*x2021**3\n",
    "pred4 = resultado_4[0] + resultado_4[1]*x2021 + resultado_4[2]*x2021**2 + resultado_4[3]*x2021**3 + resultado_4[4]*x2021**4\n",
    "pred5 = resultado_5[0] + resultado_5[1]*x2021 + resultado_5[2]*x2021**2 + resultado_5[3]*x2021**3 + resultado_5[4]*x2021**4 + resultado_5[5]*x2021**5"
   ]
  },
  {
   "cell_type": "code",
   "execution_count": 129,
   "metadata": {},
   "outputs": [
    {
     "data": {
      "image/png": "[encoded data removed]",
      "text/plain": [
       "<Figure size 432x288 with 1 Axes>"
      ]
     },
     "metadata": {
      "needs_background": "light"
     },
     "output_type": "display_data"
    }
   ],
   "source": [
    "plt.figure()\n",
    "plt.bar([1, 2, 3, 4,5], [pred1, pred2, pred3, pred4, pred5])\n",
    "plt.grid()"
   ]
  },
  {
   "cell_type": "markdown",
   "metadata": {},
   "source": [
    "### El error de las ecuaciones de grado 1 y 2 son prácticamente iguales, concluyo que la de grado 2 es ligeramente mejor por no ser lineal"
   ]
  },
  {
   "cell_type": "code",
   "execution_count": 130,
   "metadata": {},
   "outputs": [
    {
     "data": {
      "image/png": "[encoded data removed]",
      "text/plain": [
       "<Figure size 432x288 with 1 Axes>"
      ]
     },
     "metadata": {
      "needs_background": "light"
     },
     "output_type": "display_data"
    }
   ],
   "source": [
    "plt.figure()\n",
    "plt.bar([1, 2, 3], [pred1, pred2, pred3])\n",
    "plt.grid()"
   ]
  },
  {
   "cell_type": "markdown",
   "metadata": {},
   "source": [
    "## En 2020 habrá 2662.21 bancarrotas (expresado en miles)."
   ]
  },
  {
   "cell_type": "code",
   "execution_count": 145,
   "metadata": {},
   "outputs": [
    {
     "data": {
      "text/plain": [
       "2662.210667356162"
      ]
     },
     "execution_count": 145,
     "metadata": {},
     "output_type": "execute_result"
    }
   ],
   "source": [
    "pred2"
   ]
  },
  {
   "cell_type": "markdown",
   "metadata": {},
   "source": [
    "## La función que mejor se ajusta para predicción es la de grado 2"
   ]
  },
  {
   "cell_type": "code",
   "execution_count": 142,
   "metadata": {},
   "outputs": [
    {
     "data": {
      "text/plain": [
       "<matplotlib.legend.Legend at 0x7fc868123a00>"
      ]
     },
     "execution_count": 142,
     "metadata": {},
     "output_type": "execute_result"
    },
    {
     "data": {
      "image/png": "[encoded data removed]",
      "text/plain": [
       "<Figure size 432x288 with 1 Axes>"
      ]
     },
     "metadata": {
      "needs_background": "light"
     },
     "output_type": "display_data"
    }
   ],
   "source": [
    "plt.figure()\n",
    "plt.scatter(x, y, s=50)\n",
    "plt.plot(xn, yn2, label=\"Cuadrado\")\n",
    "plt.legend(loc=\"best\")"
   ]
  },
  {
   "cell_type": "code",
   "execution_count": 146,
   "metadata": {},
   "outputs": [],
   "source": [
    "x1995 = 1995.5 - 1989\n",
    "pred1 = resultado_1[0] + resultado_1[1]*x1995\n",
    "pred2 = resultado_2[0] + resultado_2[1]*x1995 + resultado_2[2]*x1995**2\n",
    "pred3 = resultado_3[0] + resultado_3[1]*x1995 + resultado_3[2]*x1995**2 + resultado_3[3]*x1995**3\n",
    "pred4 = resultado_4[0] + resultado_4[1]*x1995 + resultado_4[2]*x1995**2 + resultado_4[3]*x1995**3 + resultado_4[4]*x1995**4\n",
    "pred5 = resultado_5[0] + resultado_5[1]*x1995 + resultado_5[2]*x1995**2 + resultado_5[3]*x1995**3 + resultado_5[4]*x1995**4 + resultado_5[5]*x1995**5"
   ]
  },
  {
   "cell_type": "code",
   "execution_count": 147,
   "metadata": {},
   "outputs": [
    {
     "data": {
      "image/png": "[encoded data removed]",
      "text/plain": [
       "<Figure size 432x288 with 1 Axes>"
      ]
     },
     "metadata": {
      "needs_background": "light"
     },
     "output_type": "display_data"
    }
   ],
   "source": [
    "plt.figure()\n",
    "plt.bar([1, 2, 3, 4, 5, 6, 7], [pred1, pred2, pred3, pred4, pred5, 845.5, 858.1])\n",
    "plt.grid()"
   ]
  },
  {
   "cell_type": "markdown",
   "metadata": {},
   "source": [
    "### Las primeras 5 barras son nuestras predicciones utilizando nuestras ecuaciones desde grado 1 a 5 respectivamente. La barra 6 son los datos reales de finales de 1994. La barra 7 son los datos reales de finales de 1995"
   ]
  },
  {
   "cell_type": "code",
   "execution_count": 148,
   "metadata": {},
   "outputs": [
    {
     "data": {
      "text/plain": [
       "<matplotlib.legend.Legend at 0x7fc8c2121370>"
      ]
     },
     "execution_count": 148,
     "metadata": {},
     "output_type": "execute_result"
    },
    {
     "data": {
      "image/png": "[encoded data removed]",
      "text/plain": [
       "<Figure size 432x288 with 1 Axes>"
      ]
     },
     "metadata": {
      "needs_background": "light"
     },
     "output_type": "display_data"
    }
   ],
   "source": [
    "plt.figure()\n",
    "plt.scatter(x, y, s=50)\n",
    "plt.plot(xn, yn5, label=\"Quinta\")\n",
    "plt.legend(loc=\"best\")"
   ]
  },
  {
   "cell_type": "markdown",
   "metadata": {},
   "source": [
    "## Concluimos que la ecuación de 5 grado es la que se mejor se ajusta para predecir un valor que se encuentre dentro de los puntos que se nos dieron (desde 1988 hasta 2001). La ecuación de grado 2 es la mejor para predecir valores que se encuentren fuera del rango de nuestros puntos (2002 en adelante)."
   ]
  }
 ],
 "metadata": {
  "kernelspec": {
   "display_name": "Python 3 (ipykernel)",
   "language": "python",
   "name": "python3"
  },
  "language_info": {
   "codemirror_mode": {
    "name": "ipython",
    "version": 3
   },
   "file_extension": ".py",
   "mimetype": "text/x-python",
   "name": "python",
   "nbconvert_exporter": "python",
   "pygments_lexer": "ipython3",
   "version": "3.9.7"
  }
 },
 "nbformat": 4,
 "nbformat_minor": 2
}
