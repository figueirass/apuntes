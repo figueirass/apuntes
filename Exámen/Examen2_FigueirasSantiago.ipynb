{
 "cells": [
  {
   "cell_type": "markdown",
   "metadata": {
    "colab_type": "text",
    "id": "GJV4HZf_7eDM"
   },
   "source": [
    "# Examen Módulo 2 - Montecarlo. <font color=blue>Tipo de examen 2</font>.\n",
    "\n",
    "**Mantenga la calma y lea cuidadosamente las siguientes indicaciones antes de comenzar el examen:**\n",
    "- Para resolver el examen edite este mismo archivo y renómbrelo de la siguiente manera: *Examen2_ApellidoNombre*, donde *ApellidoNombre* corresponde a su apellido paterno con la inicial en mayúscula, seguido de su primer nombre con la inicial en mayúscula **sin acentos**. Por ejemplo, en mi caso el nombre del archivo sería *Examen2_ArellanoCarlos*.\n",
    "- Resuelva los puntos en el espacio provisto. Si requiere agregar más celdas para código o escritura, hágalo (`Esc`+`B`) o (`Esc`+`A`).\n",
    "- Recuerde que también se está evaluando su capacidad de interpretar los resultados. Escriba sus interpretaciones/conclusiones en celdas utilizando *Markdown*.\n",
    "- El formato de presentación de todo el examen en general debe ser adecuado. Use tamaños de letra, colores, etiquetas, etcétera.\n",
    "- No se resuelven dudas de ningún tipo por los profesores de la asignatura. Por favor, absténgase de preguntar.\n",
    "- Revise bien el tipo de examen. Sólo se le calificará si realiza el tipo de examen asignado."
   ]
  },
  {
   "cell_type": "code",
   "execution_count": 1,
   "metadata": {},
   "outputs": [],
   "source": [
    "import numpy as np\n",
    "import pandas as pd\n",
    "import matplotlib.pyplot as plt\n",
    "import sympy as sp\n",
    "import pandas_datareader.data as web"
   ]
  },
  {
   "cell_type": "markdown",
   "metadata": {
    "colab_type": "text",
    "id": "E287s7IJfdG_"
   },
   "source": [
    "---\n",
    "### Integración Montecarlo tipo 1 <font size='1'>(25 puntos)</font>\n",
    "\n",
    "La solución de una ecuación diferencial se puede encontrar de la siguiente manera:\n",
    "$$\n",
    "y(x_{k+1})=y(x_k)+\\int_{x_k}^{x_{k+1}}f(x,y)dx\n",
    "$$\n",
    "\n",
    "donde $f(x,y)=\\frac{dy}{dx}$.\n",
    "\n",
    "Encuentre la secuencia de $y(x)$ en el intervalo $1\\leq x\\leq2$ con un paso de integración de $x_{k+1}-x_k=0.2$, es decir $y(x)=[y(1),y(1.2),y(1.4),\\dots]$, para la siguiente ecuación diferencial:\n",
    "$$\n",
    "e^{x^3}\\frac{dy}{dx}=\\frac{\\ln(x^2)\\sin(x^3)}{xe^{-x^2}},\\quad y(1)=-0.1\n",
    "$$\n",
    "\n",
    "Para cada intervalo ($1\\leq x\\leq1.2$, $1.2\\leq x\\leq1.4$, $1.4\\leq x\\leq1.6$, etc), use integración montecarlo de tipo 1 con 10,000 puntos (Serán cinco integrales de la misma función con diferentes intervalos). "
   ]
  },
  {
   "cell_type": "markdown",
   "metadata": {
    "colab_type": "text",
    "id": "fZdnlrZlD-IF"
   },
   "source": [
    "1. Escriba la función de integración Montecarlo de tipo 1, con argumentos de entrada $f$, $a$, $b$ y $N$. Donde $f$ es la función a integrar, $a$ y $b$ son los límites de integración y $N$ es el número de puntos utilizados para la integración. Y que regrese el valor de la integral."
   ]
  },
  {
   "cell_type": "code",
   "execution_count": 89,
   "metadata": {
    "colab": {},
    "colab_type": "code",
    "id": "JcPup8MFhoCs"
   },
   "outputs": [],
   "source": [
    "def montecarlo1(f, a, b, N):\n",
    "    u = np.random.uniform(a, b, size=N)\n",
    "    return np.mean(f(u))*(b-a)"
   ]
  },
  {
   "cell_type": "markdown",
   "metadata": {
    "colab_type": "text",
    "id": "tLvr8o0bEiBs"
   },
   "source": [
    "2. Defina la función a integrar con argumentos de entrada $x$ y que regrese el valor de la derivada $\\frac{dy}{dx}$."
   ]
  },
  {
   "cell_type": "code",
   "execution_count": 99,
   "metadata": {
    "colab": {},
    "colab_type": "code",
    "id": "ndAUHX0pFQ_u"
   },
   "outputs": [],
   "source": [
    "def f(x):\n",
    "    return (np.log(x**2)*np.sin(x**3))/(x*np.exp(-x**2)*np.exp(x**3))"
   ]
  },
  {
   "cell_type": "markdown",
   "metadata": {
    "colab_type": "text",
    "id": "sqVY8RMXFW5s"
   },
   "source": [
    "3. Encuentre la aproximación de las integrales con el método de Montecarlo de tipo 1. Escriba sus resultados en un _DataFrame_ de _pandas_."
   ]
  },
  {
   "cell_type": "code",
   "execution_count": 100,
   "metadata": {
    "colab": {},
    "colab_type": "code",
    "id": "y7cs-CQ-FsdB",
    "scrolled": true
   },
   "outputs": [
    {
     "data": {
      "text/html": [
       "<div>\n",
       "<style scoped>\n",
       "    .dataframe tbody tr th:only-of-type {\n",
       "        vertical-align: middle;\n",
       "    }\n",
       "\n",
       "    .dataframe tbody tr th {\n",
       "        vertical-align: top;\n",
       "    }\n",
       "\n",
       "    .dataframe thead th {\n",
       "        text-align: right;\n",
       "    }\n",
       "</style>\n",
       "<table border=\"1\" class=\"dataframe\">\n",
       "  <thead>\n",
       "    <tr style=\"text-align: right;\">\n",
       "      <th></th>\n",
       "      <th>f1</th>\n",
       "      <th>f2</th>\n",
       "      <th>f3</th>\n",
       "      <th>f4</th>\n",
       "      <th>f5</th>\n",
       "    </tr>\n",
       "  </thead>\n",
       "  <tbody>\n",
       "    <tr>\n",
       "      <th>10.0</th>\n",
       "      <td>NaN</td>\n",
       "      <td>NaN</td>\n",
       "      <td>NaN</td>\n",
       "      <td>NaN</td>\n",
       "      <td>NaN</td>\n",
       "    </tr>\n",
       "    <tr>\n",
       "      <th>100.0</th>\n",
       "      <td>NaN</td>\n",
       "      <td>NaN</td>\n",
       "      <td>NaN</td>\n",
       "      <td>NaN</td>\n",
       "      <td>NaN</td>\n",
       "    </tr>\n",
       "    <tr>\n",
       "      <th>1000.0</th>\n",
       "      <td>NaN</td>\n",
       "      <td>NaN</td>\n",
       "      <td>NaN</td>\n",
       "      <td>NaN</td>\n",
       "      <td>NaN</td>\n",
       "    </tr>\n",
       "    <tr>\n",
       "      <th>10000.0</th>\n",
       "      <td>NaN</td>\n",
       "      <td>NaN</td>\n",
       "      <td>NaN</td>\n",
       "      <td>NaN</td>\n",
       "      <td>NaN</td>\n",
       "    </tr>\n",
       "  </tbody>\n",
       "</table>\n",
       "</div>"
      ],
      "text/plain": [
       "          f1   f2   f3   f4   f5\n",
       "10.0     NaN  NaN  NaN  NaN  NaN\n",
       "100.0    NaN  NaN  NaN  NaN  NaN\n",
       "1000.0   NaN  NaN  NaN  NaN  NaN\n",
       "10000.0  NaN  NaN  NaN  NaN  NaN"
      ]
     },
     "execution_count": 100,
     "metadata": {},
     "output_type": "execute_result"
    }
   ],
   "source": [
    "N = np.logspace(1, 4, 4)\n",
    "tabla = pd.DataFrame(index=N, columns=[\"f1\", \"f2\", \"f3\", \"f4\", \"f5\"])\n",
    "tabla"
   ]
  },
  {
   "cell_type": "code",
   "execution_count": 120,
   "metadata": {
    "scrolled": true
   },
   "outputs": [
    {
     "data": {
      "text/html": [
       "<div>\n",
       "<style scoped>\n",
       "    .dataframe tbody tr th:only-of-type {\n",
       "        vertical-align: middle;\n",
       "    }\n",
       "\n",
       "    .dataframe tbody tr th {\n",
       "        vertical-align: top;\n",
       "    }\n",
       "\n",
       "    .dataframe thead th {\n",
       "        text-align: right;\n",
       "    }\n",
       "</style>\n",
       "<table border=\"1\" class=\"dataframe\">\n",
       "  <thead>\n",
       "    <tr style=\"text-align: right;\">\n",
       "      <th></th>\n",
       "      <th>f1</th>\n",
       "      <th>f2</th>\n",
       "      <th>f3</th>\n",
       "      <th>f4</th>\n",
       "      <th>f5</th>\n",
       "    </tr>\n",
       "  </thead>\n",
       "  <tbody>\n",
       "    <tr>\n",
       "      <th>10.0</th>\n",
       "      <td>0.030187</td>\n",
       "      <td>0.036373</td>\n",
       "      <td>-0.002423</td>\n",
       "      <td>-0.016393</td>\n",
       "      <td>0.000409</td>\n",
       "    </tr>\n",
       "    <tr>\n",
       "      <th>100.0</th>\n",
       "      <td>0.026376</td>\n",
       "      <td>0.036587</td>\n",
       "      <td>-0.00592</td>\n",
       "      <td>-0.01476</td>\n",
       "      <td>0.001273</td>\n",
       "    </tr>\n",
       "    <tr>\n",
       "      <th>1000.0</th>\n",
       "      <td>0.027281</td>\n",
       "      <td>0.036826</td>\n",
       "      <td>-0.005837</td>\n",
       "      <td>-0.014789</td>\n",
       "      <td>0.001528</td>\n",
       "    </tr>\n",
       "    <tr>\n",
       "      <th>10000.0</th>\n",
       "      <td>0.027115</td>\n",
       "      <td>0.036479</td>\n",
       "      <td>-0.005918</td>\n",
       "      <td>-0.014857</td>\n",
       "      <td>0.001571</td>\n",
       "    </tr>\n",
       "  </tbody>\n",
       "</table>\n",
       "</div>"
      ],
      "text/plain": [
       "               f1        f2        f3        f4        f5\n",
       "10.0     0.030187  0.036373 -0.002423 -0.016393  0.000409\n",
       "100.0    0.026376  0.036587  -0.00592  -0.01476  0.001273\n",
       "1000.0   0.027281  0.036826 -0.005837 -0.014789  0.001528\n",
       "10000.0  0.027115  0.036479 -0.005918 -0.014857  0.001571"
      ]
     },
     "execution_count": 120,
     "metadata": {},
     "output_type": "execute_result"
    }
   ],
   "source": [
    "for n in N:\n",
    "    tabla.loc[n, \"f1\"] = montecarlo1(f, 1, 1.2, int(n))\n",
    "    tabla.loc[n, \"f2\"] = montecarlo1(f1, 1.2, 1.4, int(n))\n",
    "    tabla.loc[n, \"f3\"] = montecarlo1(f1, 1.4, 1.6, int(n))\n",
    "    tabla.loc[n, \"f4\"] = montecarlo1(f1, 1.6, 1.8, int(n))\n",
    "    tabla.loc[n, \"f5\"] = montecarlo1(f1, 1.8, 2, int(n))\n",
    "    \n",
    "tabla"
   ]
  },
  {
   "cell_type": "code",
   "execution_count": 124,
   "metadata": {},
   "outputs": [
    {
     "data": {
      "text/plain": [
       "-0.01485743727628064"
      ]
     },
     "execution_count": 124,
     "metadata": {},
     "output_type": "execute_result"
    }
   ],
   "source": [
    "tabla.iloc[3,3]"
   ]
  },
  {
   "cell_type": "markdown",
   "metadata": {
    "colab_type": "text",
    "id": "u81S5RcRFtpA"
   },
   "source": [
    "4. Escriba la secuencia de valores para la solución $y(x)$, esto es $[y(1), y(1.2), y(1.4), y(1.6),\\dots]$. Note que $y(1.2)=y(1)+\\int_1^{1.2}\\frac{dy}{dx}dx$, $y(1.4)=y(1.2)+\\int_{1.2}^{1.4}\\frac{dy}{dx}dx$, etc."
   ]
  },
  {
   "cell_type": "code",
   "execution_count": 128,
   "metadata": {
    "colab": {},
    "colab_type": "code",
    "id": "mjdK2KfyF9Lz"
   },
   "outputs": [
    {
     "data": {
      "text/plain": [
       "(0,\n",
       " 0.027114633212784144,\n",
       " 0.06359353095376136,\n",
       " 0.057675672421406594,\n",
       " 0.042818235145125956,\n",
       " 0.04438905004302019)"
      ]
     },
     "execution_count": 128,
     "metadata": {},
     "output_type": "execute_result"
    }
   ],
   "source": [
    "y1 = 0 + 0\n",
    "y1_2 = y1 + tabla.iloc[3,0]\n",
    "y1_4 = y1_2 + tabla.iloc[3, 1]\n",
    "y1_6 = y1_4 + tabla.iloc[3, 2]\n",
    "y1_8 = y1_6 + tabla.iloc[3, 3]\n",
    "y2 = y1_8 + tabla.iloc[3, 4]\n",
    "\n",
    "y1, y1_2, y1_4, y1_6, y1_8, y2"
   ]
  },
  {
   "cell_type": "markdown",
   "metadata": {
    "colab_type": "text",
    "id": "IUn6WvoMGV7Z"
   },
   "source": [
    "---\n",
    "### Integración Montecarlo tipo 2 <font size='1'>(25 puntos)</font>\n",
    "Dada una superfice en el espacio $f(x,y)$, una curva de nivel, es el corte transversal donde se cumple $f(x,y)=v$, con $v$ tal que pertenece al dominio de $f$. \n",
    "\n",
    "Encuentre el área de todas las curvas de nivel que cumplan $f(x,y)>v$, donde \n",
    "$$\n",
    "f(x,y)=-xy\\,e^{-x^2-y^2},\n",
    "$$\n",
    "y $v=0.1$"
   ]
  },
  {
   "cell_type": "markdown",
   "metadata": {
    "colab_type": "text",
    "id": "aKvXQflPIweM"
   },
   "source": [
    "1. Escriba la función que discrimine los puntos que satisfacen la restricción $f(x,y)>v$, con argumentos de entrada $x$ y $y$ y que regrese Verdadero o Falso."
   ]
  },
  {
   "cell_type": "code",
   "execution_count": 129,
   "metadata": {
    "colab": {},
    "colab_type": "code",
    "id": "lnOHGKL3JLlm"
   },
   "outputs": [],
   "source": [
    "def region(x, y):\n",
    "    return x*y*np.exp(-x**2-y**2) < -0.1"
   ]
  },
  {
   "cell_type": "markdown",
   "metadata": {
    "colab_type": "text",
    "id": "vYHLYKC5JMor"
   },
   "source": [
    "2. Encuentre los intervalos de integración $a$, $b$, $c$ y $d$ que limiten el área y grafique."
   ]
  },
  {
   "cell_type": "code",
   "execution_count": 135,
   "metadata": {
    "colab": {},
    "colab_type": "code",
    "id": "bZlKKTFrJplS"
   },
   "outputs": [
    {
     "data": {
      "text/plain": [
       "<matplotlib.collections.PathCollection at 0x7ff4401f7d30>"
      ]
     },
     "execution_count": 135,
     "metadata": {},
     "output_type": "execute_result"
    },
    {
     "data": {
      "image/png": "[encoded data removed]",
      "text/plain": [
       "<Figure size 432x432 with 1 Axes>"
      ]
     },
     "metadata": {
      "needs_background": "light"
     },
     "output_type": "display_data"
    }
   ],
   "source": [
    "a, b = -1.5, 1.5\n",
    "c, d = -1.5, 1.5\n",
    "\n",
    "x = np.random.uniform(a, b, size=300)\n",
    "y = np.random.uniform(c, d, size=300)\n",
    "X, Y = np.meshgrid(x, y)\n",
    "plt.figure(figsize=(6, 6))\n",
    "plt.scatter(X, Y, c=~region(X,Y), cmap=\"gray\", s=1)"
   ]
  },
  {
   "cell_type": "markdown",
   "metadata": {
    "colab_type": "text",
    "id": "SNMVh09zJrhu"
   },
   "source": [
    "3. Escriba la función para integrar con el método de Montegralo de tipo 2 con argumentos de entrada $f$, $a$, $b$, $c$, $d$, y $N$. Donde $f$ es una función que define la región de integración; $a$, $b$, $c$ y $d$ definen los límites de integración y $N$ el número de puntos en $x$ y $y$ para usar en la integración.\n"
   ]
  },
  {
   "cell_type": "code",
   "execution_count": 137,
   "metadata": {
    "colab": {},
    "colab_type": "code",
    "id": "9lx_xP1nKwuH"
   },
   "outputs": [],
   "source": [
    "def montecarlo2(region, a, b, c, d, N):\n",
    "    x = np.random.uniform(a, b, size=N)\n",
    "    y = np.random.uniform(c, d, size=N)\n",
    "    AR = (b1-a1)*(b2-a2)\n",
    "    B = region(x, y)\n",
    "    return np.mean(B)*AR"
   ]
  },
  {
   "cell_type": "markdown",
   "metadata": {
    "colab_type": "text",
    "id": "recZkMzsMWbc"
   },
   "source": [
    "4. En un _DataFrame_ de _pandas_ escriba el valor de las integrales y su error relativo de integración para $N=10,\\, 100,\\, 1000$."
   ]
  },
  {
   "cell_type": "code",
   "execution_count": 132,
   "metadata": {
    "colab": {},
    "colab_type": "code",
    "id": "Yxiw2ilFNPn9",
    "scrolled": true
   },
   "outputs": [
    {
     "data": {
      "text/html": [
       "<div>\n",
       "<style scoped>\n",
       "    .dataframe tbody tr th:only-of-type {\n",
       "        vertical-align: middle;\n",
       "    }\n",
       "\n",
       "    .dataframe tbody tr th {\n",
       "        vertical-align: top;\n",
       "    }\n",
       "\n",
       "    .dataframe thead th {\n",
       "        text-align: right;\n",
       "    }\n",
       "</style>\n",
       "<table border=\"1\" class=\"dataframe\">\n",
       "  <thead>\n",
       "    <tr style=\"text-align: right;\">\n",
       "      <th></th>\n",
       "      <th>Area</th>\n",
       "    </tr>\n",
       "  </thead>\n",
       "  <tbody>\n",
       "    <tr>\n",
       "      <th>10.0</th>\n",
       "      <td>NaN</td>\n",
       "    </tr>\n",
       "    <tr>\n",
       "      <th>100.0</th>\n",
       "      <td>NaN</td>\n",
       "    </tr>\n",
       "    <tr>\n",
       "      <th>1000.0</th>\n",
       "      <td>NaN</td>\n",
       "    </tr>\n",
       "  </tbody>\n",
       "</table>\n",
       "</div>"
      ],
      "text/plain": [
       "       Area\n",
       "10.0    NaN\n",
       "100.0   NaN\n",
       "1000.0  NaN"
      ]
     },
     "execution_count": 132,
     "metadata": {},
     "output_type": "execute_result"
    }
   ],
   "source": [
    "N = np.logspace(1, 3, 3)\n",
    "tabla = pd.DataFrame(index=N, columns=[\"Area\"])\n",
    "tabla"
   ]
  },
  {
   "cell_type": "code",
   "execution_count": 138,
   "metadata": {},
   "outputs": [
    {
     "data": {
      "text/html": [
       "<div>\n",
       "<style scoped>\n",
       "    .dataframe tbody tr th:only-of-type {\n",
       "        vertical-align: middle;\n",
       "    }\n",
       "\n",
       "    .dataframe tbody tr th {\n",
       "        vertical-align: top;\n",
       "    }\n",
       "\n",
       "    .dataframe thead th {\n",
       "        text-align: right;\n",
       "    }\n",
       "</style>\n",
       "<table border=\"1\" class=\"dataframe\">\n",
       "  <thead>\n",
       "    <tr style=\"text-align: right;\">\n",
       "      <th></th>\n",
       "      <th>Area</th>\n",
       "    </tr>\n",
       "  </thead>\n",
       "  <tbody>\n",
       "    <tr>\n",
       "      <th>10.0</th>\n",
       "      <td>1.6</td>\n",
       "    </tr>\n",
       "    <tr>\n",
       "      <th>100.0</th>\n",
       "      <td>1.28</td>\n",
       "    </tr>\n",
       "    <tr>\n",
       "      <th>1000.0</th>\n",
       "      <td>1.808</td>\n",
       "    </tr>\n",
       "  </tbody>\n",
       "</table>\n",
       "</div>"
      ],
      "text/plain": [
       "         Area\n",
       "10.0      1.6\n",
       "100.0    1.28\n",
       "1000.0  1.808"
      ]
     },
     "execution_count": 138,
     "metadata": {},
     "output_type": "execute_result"
    }
   ],
   "source": [
    "for n in N:\n",
    "    tabla.loc[n, \"Area\"] = montecarlo2(region, a1, b1, a1, b2, int(n))\n",
    "tabla"
   ]
  },
  {
   "cell_type": "markdown",
   "metadata": {
    "colab_type": "text",
    "id": "GtE9MajVSmjL"
   },
   "source": [
    "---\n",
    "### Generación de fractales <font size='1'>(25 puntos)</font>\n",
    "\n",
    "Los fractales de tipo Barnsley se generan con transformaciones afines con cierta probabilidad.\n",
    "\n",
    "Genere un cuadro perturbado tridimensional con la ecuación:\n",
    "$$\n",
    "\\begin{bmatrix}x_{k+1}\\\\y_{k+1}\\\\z_{k+1}\n",
    "\\end{bmatrix}=A_i\\begin{bmatrix}x_k\\\\y_k\\\\z_k\\end{bmatrix}+b_i\n",
    "$$\n",
    "Y sus respectivas matrices:"
   ]
  },
  {
   "cell_type": "code",
   "execution_count": 139,
   "metadata": {},
   "outputs": [],
   "source": [
    "import numpy as np\n",
    "\n",
    "A0 = np.array([[0.5,0.1853,0],[0.1667,0.3639,-0.0962],[0,0.1555,0.5]])\n",
    "b0 = np.array([-1.0462,-0.8914,1.2468]).reshape(-1, 1)\n",
    "\n",
    "A1 = np.array([[0.5,0.042,0],[-0.1667,0.3639,-0.0962],[0,-0.2382,0.5]])\n",
    "b1 = np.array([1.6029,-0.8914,0.2826]).reshape(-1, 1)\n",
    "\n",
    "A2 = np.array([[0.5,-0.2273,0],[0,-0.3639,0.1925],[0,0.0827,0.5]])\n",
    "b2 = np.array([-0.5567,-0.8914,-1.5294]).reshape(-1, 1)\n",
    "\n",
    "A3 = np.array([[0.383,0,0.3214],[0,0.5,0],[-0.3214,0,0.383]])\n",
    "b3 = np.array([0,1.2247,0]).reshape(-1, 1)\n",
    "\n",
    "pi = [0.1, 0.1, 0.1, 0.1]"
   ]
  },
  {
   "cell_type": "markdown",
   "metadata": {},
   "source": [
    "cuya probabilidad es la misma para cada $i=\\{0,1,2,3\\}$. Use la función scatter de una proyección 3D sobre los ejes:\n",
    "```\n",
    "import matplotlib.pyplot as plt\n",
    "%matplotlib inline\n",
    "from mpl_toolkits.mplot3d import Axes3D\n",
    "\n",
    "fig=plt.figure()\n",
    "ax= plt.axes(projection='3d')\n",
    "ax.scatter(x, y, z)\n",
    "```"
   ]
  },
  {
   "cell_type": "markdown",
   "metadata": {},
   "source": [
    "Tip: Usar el operador @ para hacer multiplicaciones de matrices"
   ]
  },
  {
   "cell_type": "code",
   "execution_count": 80,
   "metadata": {
    "scrolled": true
   },
   "outputs": [
    {
     "data": {
      "text/plain": [
       "array([[-1.0462],\n",
       "       [-0.8914],\n",
       "       [ 1.2468]])"
      ]
     },
     "execution_count": 80,
     "metadata": {},
     "output_type": "execute_result"
    }
   ],
   "source": [
    "A0 @ np.asarray([0, 0, 0]).reshape(-1, 1) + b0"
   ]
  },
  {
   "cell_type": "code",
   "execution_count": 148,
   "metadata": {},
   "outputs": [
    {
     "data": {
      "text/plain": [
       "array([0, 1, 2, 3])"
      ]
     },
     "execution_count": 148,
     "metadata": {},
     "output_type": "execute_result"
    }
   ],
   "source": [
    "import random\n",
    "i = np.arange(4)\n",
    "i"
   ]
  },
  {
   "cell_type": "code",
   "execution_count": 167,
   "metadata": {},
   "outputs": [
    {
     "name": "stdout",
     "output_type": "stream",
     "text": [
      "0\n"
     ]
    }
   ],
   "source": [
    "x = [0]\n",
    "y = [0]\n",
    "z = [0]\n",
    "\n",
    "for k in range(10000) :\n",
    "    if k % 10000 == 0 : print(k)\n",
    "    i_actual = random.choices(i, weights=pi)\n",
    "    \n",
    "    a = A1*i_actual\n",
    "    b = b1*i_actual\n",
    "    \n",
    "    xn = a*x[-1] + b\n",
    "    yn = a*y[-1] + b\n",
    "    zn = a*z[-1] + b\n",
    "    \n",
    "    x.append(xn)\n",
    "    y.append(yn)\n",
    "    z.append(zn)"
   ]
  },
  {
   "cell_type": "code",
   "execution_count": 168,
   "metadata": {},
   "outputs": [
    {
     "name": "stderr",
     "output_type": "stream",
     "text": [
      "/Users/santiago/opt/anaconda3/lib/python3.9/site-packages/numpy/ma/core.py:636: VisibleDeprecationWarning: Creating an ndarray from ragged nested sequences (which is a list-or-tuple of lists-or-tuples-or ndarrays with different lengths or shapes) is deprecated. If you meant to do this, you must specify 'dtype=object' when creating the ndarray.\n",
      "  return np.array(a)\n",
      "<__array_function__ internals>:5: VisibleDeprecationWarning: Creating an ndarray from ragged nested sequences (which is a list-or-tuple of lists-or-tuples-or ndarrays with different lengths or shapes) is deprecated. If you meant to do this, you must specify 'dtype=object' when creating the ndarray.\n"
     ]
    },
    {
     "ename": "ValueError",
     "evalue": "setting an array element with a sequence.",
     "output_type": "error",
     "traceback": [
      "\u001b[0;31m---------------------------------------------------------------------------\u001b[0m",
      "\u001b[0;31mTypeError\u001b[0m                                 Traceback (most recent call last)",
      "\u001b[0;31mTypeError\u001b[0m: only size-1 arrays can be converted to Python scalars",
      "\nThe above exception was the direct cause of the following exception:\n",
      "\u001b[0;31mValueError\u001b[0m                                Traceback (most recent call last)",
      "\u001b[0;32m/var/folders/m1/c3l2ts6d4cx6gmd20z4qcw1r0000gn/T/ipykernel_5498/705134728.py\u001b[0m in \u001b[0;36m<module>\u001b[0;34m\u001b[0m\n\u001b[1;32m      5\u001b[0m \u001b[0mfig\u001b[0m\u001b[0;34m=\u001b[0m\u001b[0mplt\u001b[0m\u001b[0;34m.\u001b[0m\u001b[0mfigure\u001b[0m\u001b[0;34m(\u001b[0m\u001b[0;34m)\u001b[0m\u001b[0;34m\u001b[0m\u001b[0;34m\u001b[0m\u001b[0m\n\u001b[1;32m      6\u001b[0m \u001b[0max\u001b[0m\u001b[0;34m=\u001b[0m \u001b[0mplt\u001b[0m\u001b[0;34m.\u001b[0m\u001b[0maxes\u001b[0m\u001b[0;34m(\u001b[0m\u001b[0mprojection\u001b[0m\u001b[0;34m=\u001b[0m\u001b[0;34m'3d'\u001b[0m\u001b[0;34m)\u001b[0m\u001b[0;34m\u001b[0m\u001b[0;34m\u001b[0m\u001b[0m\n\u001b[0;32m----> 7\u001b[0;31m \u001b[0max\u001b[0m\u001b[0;34m.\u001b[0m\u001b[0mscatter\u001b[0m\u001b[0;34m(\u001b[0m\u001b[0mx\u001b[0m\u001b[0;34m,\u001b[0m \u001b[0my\u001b[0m\u001b[0;34m,\u001b[0m \u001b[0mz\u001b[0m\u001b[0;34m)\u001b[0m\u001b[0;34m\u001b[0m\u001b[0;34m\u001b[0m\u001b[0m\n\u001b[0m",
      "\u001b[0;32m~/opt/anaconda3/lib/python3.9/site-packages/mpl_toolkits/mplot3d/axes3d.py\u001b[0m in \u001b[0;36mscatter\u001b[0;34m(self, xs, ys, zs, zdir, s, c, depthshade, *args, **kwargs)\u001b[0m\n\u001b[1;32m   2414\u001b[0m             \u001b[0mzs\u001b[0m \u001b[0;34m=\u001b[0m \u001b[0mzs\u001b[0m\u001b[0;34m.\u001b[0m\u001b[0mcopy\u001b[0m\u001b[0;34m(\u001b[0m\u001b[0;34m)\u001b[0m\u001b[0;34m\u001b[0m\u001b[0;34m\u001b[0m\u001b[0m\n\u001b[1;32m   2415\u001b[0m \u001b[0;34m\u001b[0m\u001b[0m\n\u001b[0;32m-> 2416\u001b[0;31m         \u001b[0mpatches\u001b[0m \u001b[0;34m=\u001b[0m \u001b[0msuper\u001b[0m\u001b[0;34m(\u001b[0m\u001b[0;34m)\u001b[0m\u001b[0;34m.\u001b[0m\u001b[0mscatter\u001b[0m\u001b[0;34m(\u001b[0m\u001b[0mxs\u001b[0m\u001b[0;34m,\u001b[0m \u001b[0mys\u001b[0m\u001b[0;34m,\u001b[0m \u001b[0ms\u001b[0m\u001b[0;34m=\u001b[0m\u001b[0ms\u001b[0m\u001b[0;34m,\u001b[0m \u001b[0mc\u001b[0m\u001b[0;34m=\u001b[0m\u001b[0mc\u001b[0m\u001b[0;34m,\u001b[0m \u001b[0;34m*\u001b[0m\u001b[0margs\u001b[0m\u001b[0;34m,\u001b[0m \u001b[0;34m**\u001b[0m\u001b[0mkwargs\u001b[0m\u001b[0;34m)\u001b[0m\u001b[0;34m\u001b[0m\u001b[0;34m\u001b[0m\u001b[0m\n\u001b[0m\u001b[1;32m   2417\u001b[0m         art3d.patch_collection_2d_to_3d(patches, zs=zs, zdir=zdir,\n\u001b[1;32m   2418\u001b[0m                                         depthshade=depthshade)\n",
      "\u001b[0;32m~/opt/anaconda3/lib/python3.9/site-packages/matplotlib/__init__.py\u001b[0m in \u001b[0;36minner\u001b[0;34m(ax, data, *args, **kwargs)\u001b[0m\n\u001b[1;32m   1359\u001b[0m     \u001b[0;32mdef\u001b[0m \u001b[0minner\u001b[0m\u001b[0;34m(\u001b[0m\u001b[0max\u001b[0m\u001b[0;34m,\u001b[0m \u001b[0;34m*\u001b[0m\u001b[0margs\u001b[0m\u001b[0;34m,\u001b[0m \u001b[0mdata\u001b[0m\u001b[0;34m=\u001b[0m\u001b[0;32mNone\u001b[0m\u001b[0;34m,\u001b[0m \u001b[0;34m**\u001b[0m\u001b[0mkwargs\u001b[0m\u001b[0;34m)\u001b[0m\u001b[0;34m:\u001b[0m\u001b[0;34m\u001b[0m\u001b[0;34m\u001b[0m\u001b[0m\n\u001b[1;32m   1360\u001b[0m         \u001b[0;32mif\u001b[0m \u001b[0mdata\u001b[0m \u001b[0;32mis\u001b[0m \u001b[0;32mNone\u001b[0m\u001b[0;34m:\u001b[0m\u001b[0;34m\u001b[0m\u001b[0;34m\u001b[0m\u001b[0m\n\u001b[0;32m-> 1361\u001b[0;31m             \u001b[0;32mreturn\u001b[0m \u001b[0mfunc\u001b[0m\u001b[0;34m(\u001b[0m\u001b[0max\u001b[0m\u001b[0;34m,\u001b[0m \u001b[0;34m*\u001b[0m\u001b[0mmap\u001b[0m\u001b[0;34m(\u001b[0m\u001b[0msanitize_sequence\u001b[0m\u001b[0;34m,\u001b[0m \u001b[0margs\u001b[0m\u001b[0;34m)\u001b[0m\u001b[0;34m,\u001b[0m \u001b[0;34m**\u001b[0m\u001b[0mkwargs\u001b[0m\u001b[0;34m)\u001b[0m\u001b[0;34m\u001b[0m\u001b[0;34m\u001b[0m\u001b[0m\n\u001b[0m\u001b[1;32m   1362\u001b[0m \u001b[0;34m\u001b[0m\u001b[0m\n\u001b[1;32m   1363\u001b[0m         \u001b[0mbound\u001b[0m \u001b[0;34m=\u001b[0m \u001b[0mnew_sig\u001b[0m\u001b[0;34m.\u001b[0m\u001b[0mbind\u001b[0m\u001b[0;34m(\u001b[0m\u001b[0max\u001b[0m\u001b[0;34m,\u001b[0m \u001b[0;34m*\u001b[0m\u001b[0margs\u001b[0m\u001b[0;34m,\u001b[0m \u001b[0;34m**\u001b[0m\u001b[0mkwargs\u001b[0m\u001b[0;34m)\u001b[0m\u001b[0;34m\u001b[0m\u001b[0;34m\u001b[0m\u001b[0m\n",
      "\u001b[0;32m~/opt/anaconda3/lib/python3.9/site-packages/matplotlib/axes/_axes.py\u001b[0m in \u001b[0;36mscatter\u001b[0;34m(self, x, y, s, c, marker, cmap, norm, vmin, vmax, alpha, linewidths, edgecolors, plotnonfinite, **kwargs)\u001b[0m\n\u001b[1;32m   4585\u001b[0m         \u001b[0moffsets\u001b[0m \u001b[0;34m=\u001b[0m \u001b[0mnp\u001b[0m\u001b[0;34m.\u001b[0m\u001b[0mma\u001b[0m\u001b[0;34m.\u001b[0m\u001b[0mcolumn_stack\u001b[0m\u001b[0;34m(\u001b[0m\u001b[0;34m[\u001b[0m\u001b[0mx\u001b[0m\u001b[0;34m,\u001b[0m \u001b[0my\u001b[0m\u001b[0;34m]\u001b[0m\u001b[0;34m)\u001b[0m\u001b[0;34m\u001b[0m\u001b[0;34m\u001b[0m\u001b[0m\n\u001b[1;32m   4586\u001b[0m \u001b[0;34m\u001b[0m\u001b[0m\n\u001b[0;32m-> 4587\u001b[0;31m         collection = mcoll.PathCollection(\n\u001b[0m\u001b[1;32m   4588\u001b[0m                 \u001b[0;34m(\u001b[0m\u001b[0mpath\u001b[0m\u001b[0;34m,\u001b[0m\u001b[0;34m)\u001b[0m\u001b[0;34m,\u001b[0m \u001b[0mscales\u001b[0m\u001b[0;34m,\u001b[0m\u001b[0;34m\u001b[0m\u001b[0;34m\u001b[0m\u001b[0m\n\u001b[1;32m   4589\u001b[0m                 \u001b[0mfacecolors\u001b[0m\u001b[0;34m=\u001b[0m\u001b[0mcolors\u001b[0m\u001b[0;34m,\u001b[0m\u001b[0;34m\u001b[0m\u001b[0;34m\u001b[0m\u001b[0m\n",
      "\u001b[0;32m~/opt/anaconda3/lib/python3.9/site-packages/matplotlib/collections.py\u001b[0m in \u001b[0;36m__init__\u001b[0;34m(self, paths, sizes, **kwargs)\u001b[0m\n\u001b[1;32m   1032\u001b[0m         \"\"\"\n\u001b[1;32m   1033\u001b[0m \u001b[0;34m\u001b[0m\u001b[0m\n\u001b[0;32m-> 1034\u001b[0;31m         \u001b[0msuper\u001b[0m\u001b[0;34m(\u001b[0m\u001b[0;34m)\u001b[0m\u001b[0;34m.\u001b[0m\u001b[0m__init__\u001b[0m\u001b[0;34m(\u001b[0m\u001b[0;34m**\u001b[0m\u001b[0mkwargs\u001b[0m\u001b[0;34m)\u001b[0m\u001b[0;34m\u001b[0m\u001b[0;34m\u001b[0m\u001b[0m\n\u001b[0m\u001b[1;32m   1035\u001b[0m         \u001b[0mself\u001b[0m\u001b[0;34m.\u001b[0m\u001b[0mset_paths\u001b[0m\u001b[0;34m(\u001b[0m\u001b[0mpaths\u001b[0m\u001b[0;34m)\u001b[0m\u001b[0;34m\u001b[0m\u001b[0;34m\u001b[0m\u001b[0m\n\u001b[1;32m   1036\u001b[0m         \u001b[0mself\u001b[0m\u001b[0;34m.\u001b[0m\u001b[0mset_sizes\u001b[0m\u001b[0;34m(\u001b[0m\u001b[0msizes\u001b[0m\u001b[0;34m)\u001b[0m\u001b[0;34m\u001b[0m\u001b[0;34m\u001b[0m\u001b[0m\n",
      "\u001b[0;32m~/opt/anaconda3/lib/python3.9/site-packages/matplotlib/_api/deprecation.py\u001b[0m in \u001b[0;36mwrapper\u001b[0;34m(*inner_args, **inner_kwargs)\u001b[0m\n\u001b[1;32m    429\u001b[0m                          \u001b[0;32melse\u001b[0m \u001b[0mdeprecation_addendum\u001b[0m\u001b[0;34m,\u001b[0m\u001b[0;34m\u001b[0m\u001b[0;34m\u001b[0m\u001b[0m\n\u001b[1;32m    430\u001b[0m                 **kwargs)\n\u001b[0;32m--> 431\u001b[0;31m         \u001b[0;32mreturn\u001b[0m \u001b[0mfunc\u001b[0m\u001b[0;34m(\u001b[0m\u001b[0;34m*\u001b[0m\u001b[0minner_args\u001b[0m\u001b[0;34m,\u001b[0m \u001b[0;34m**\u001b[0m\u001b[0minner_kwargs\u001b[0m\u001b[0;34m)\u001b[0m\u001b[0;34m\u001b[0m\u001b[0;34m\u001b[0m\u001b[0m\n\u001b[0m\u001b[1;32m    432\u001b[0m \u001b[0;34m\u001b[0m\u001b[0m\n\u001b[1;32m    433\u001b[0m     \u001b[0;32mreturn\u001b[0m \u001b[0mwrapper\u001b[0m\u001b[0;34m\u001b[0m\u001b[0;34m\u001b[0m\u001b[0m\n",
      "\u001b[0;32m~/opt/anaconda3/lib/python3.9/site-packages/matplotlib/collections.py\u001b[0m in \u001b[0;36m__init__\u001b[0;34m(self, edgecolors, facecolors, linewidths, linestyles, capstyle, joinstyle, antialiaseds, offsets, transOffset, norm, cmap, pickradius, hatch, urls, offset_position, zorder, **kwargs)\u001b[0m\n\u001b[1;32m    204\u001b[0m         \u001b[0mself\u001b[0m\u001b[0;34m.\u001b[0m\u001b[0m_uniform_offsets\u001b[0m \u001b[0;34m=\u001b[0m \u001b[0;32mNone\u001b[0m\u001b[0;34m\u001b[0m\u001b[0;34m\u001b[0m\u001b[0m\n\u001b[1;32m    205\u001b[0m         \u001b[0;32mif\u001b[0m \u001b[0moffsets\u001b[0m \u001b[0;32mis\u001b[0m \u001b[0;32mnot\u001b[0m \u001b[0;32mNone\u001b[0m\u001b[0;34m:\u001b[0m\u001b[0;34m\u001b[0m\u001b[0;34m\u001b[0m\u001b[0m\n\u001b[0;32m--> 206\u001b[0;31m             \u001b[0moffsets\u001b[0m \u001b[0;34m=\u001b[0m \u001b[0mnp\u001b[0m\u001b[0;34m.\u001b[0m\u001b[0masanyarray\u001b[0m\u001b[0;34m(\u001b[0m\u001b[0moffsets\u001b[0m\u001b[0;34m,\u001b[0m \u001b[0mfloat\u001b[0m\u001b[0;34m)\u001b[0m\u001b[0;34m\u001b[0m\u001b[0;34m\u001b[0m\u001b[0m\n\u001b[0m\u001b[1;32m    207\u001b[0m             \u001b[0;31m# Broadcast (2,) -> (1, 2) but nothing else.\u001b[0m\u001b[0;34m\u001b[0m\u001b[0;34m\u001b[0m\u001b[0m\n\u001b[1;32m    208\u001b[0m             \u001b[0;32mif\u001b[0m \u001b[0moffsets\u001b[0m\u001b[0;34m.\u001b[0m\u001b[0mshape\u001b[0m \u001b[0;34m==\u001b[0m \u001b[0;34m(\u001b[0m\u001b[0;36m2\u001b[0m\u001b[0;34m,\u001b[0m\u001b[0;34m)\u001b[0m\u001b[0;34m:\u001b[0m\u001b[0;34m\u001b[0m\u001b[0;34m\u001b[0m\u001b[0m\n",
      "\u001b[0;32m~/opt/anaconda3/lib/python3.9/site-packages/numpy/core/_asarray.py\u001b[0m in \u001b[0;36masanyarray\u001b[0;34m(a, dtype, order, like)\u001b[0m\n\u001b[1;32m    169\u001b[0m         \u001b[0;32mreturn\u001b[0m \u001b[0m_asanyarray_with_like\u001b[0m\u001b[0;34m(\u001b[0m\u001b[0ma\u001b[0m\u001b[0;34m,\u001b[0m \u001b[0mdtype\u001b[0m\u001b[0;34m=\u001b[0m\u001b[0mdtype\u001b[0m\u001b[0;34m,\u001b[0m \u001b[0morder\u001b[0m\u001b[0;34m=\u001b[0m\u001b[0morder\u001b[0m\u001b[0;34m,\u001b[0m \u001b[0mlike\u001b[0m\u001b[0;34m=\u001b[0m\u001b[0mlike\u001b[0m\u001b[0;34m)\u001b[0m\u001b[0;34m\u001b[0m\u001b[0;34m\u001b[0m\u001b[0m\n\u001b[1;32m    170\u001b[0m \u001b[0;34m\u001b[0m\u001b[0m\n\u001b[0;32m--> 171\u001b[0;31m     \u001b[0;32mreturn\u001b[0m \u001b[0marray\u001b[0m\u001b[0;34m(\u001b[0m\u001b[0ma\u001b[0m\u001b[0;34m,\u001b[0m \u001b[0mdtype\u001b[0m\u001b[0;34m,\u001b[0m \u001b[0mcopy\u001b[0m\u001b[0;34m=\u001b[0m\u001b[0;32mFalse\u001b[0m\u001b[0;34m,\u001b[0m \u001b[0morder\u001b[0m\u001b[0;34m=\u001b[0m\u001b[0morder\u001b[0m\u001b[0;34m,\u001b[0m \u001b[0msubok\u001b[0m\u001b[0;34m=\u001b[0m\u001b[0;32mTrue\u001b[0m\u001b[0;34m)\u001b[0m\u001b[0;34m\u001b[0m\u001b[0;34m\u001b[0m\u001b[0m\n\u001b[0m\u001b[1;32m    172\u001b[0m \u001b[0;34m\u001b[0m\u001b[0m\n\u001b[1;32m    173\u001b[0m \u001b[0;34m\u001b[0m\u001b[0m\n",
      "\u001b[0;31mValueError\u001b[0m: setting an array element with a sequence."
     ]
    },
    {
     "data": {
      "image/png": "[encoded data removed]",
      "text/plain": [
       "<Figure size 432x288 with 1 Axes>"
      ]
     },
     "metadata": {
      "needs_background": "light"
     },
     "output_type": "display_data"
    }
   ],
   "source": [
    "import matplotlib.pyplot as plt\n",
    "%matplotlib inline\n",
    "from mpl_toolkits.mplot3d import Axes3D\n",
    "\n",
    "fig=plt.figure()\n",
    "ax= plt.axes(projection='3d')\n",
    "ax.scatter(x, y, z)"
   ]
  },
  {
   "cell_type": "markdown",
   "metadata": {
    "colab_type": "text",
    "id": "RfYMRwkTVNue"
   },
   "source": [
    "---\n",
    "### Probabilidad Precio-Umbral <font size='1'>(25 puntos)</font>\n",
    "\n",
    "Suponga que desea invertir en Tesla o Netflix. Evalúe la probabilidad de obtener un rendimiento del 20% en seis meses a partr de abril del presente año."
   ]
  },
  {
   "cell_type": "markdown",
   "metadata": {
    "colab_type": "text",
    "id": "gSUl8v7Ti4f3"
   },
   "source": [
    "1. Describa una función para obtener los precios de cierre ajustados para dividendos y divisiones (Adj Close) desde *YAHOO finance*, usando el paquete de *pandas-datareader*. Donde los argumentos de entrada sean los nombres de las empresas y las fechas de inicio y fin a los cuales se obtendrán los datos."
   ]
  },
  {
   "cell_type": "code",
   "execution_count": 9,
   "metadata": {
    "colab": {},
    "colab_type": "code",
    "id": "Qsi3GcAzoiGr"
   },
   "outputs": [],
   "source": [
    "names = [\"TSLA\", \"NFLX\"]\n",
    "start = \"2021-04-01\"\n",
    "end = \"2022-04-01\"\n",
    "\n",
    "def getClose(name, start, end):\n",
    "    return web.DataReader(name, \"yahoo\", start, end)[\"Adj Close\"]\n",
    "\n",
    "data = getClose(names, start, end)"
   ]
  },
  {
   "cell_type": "markdown",
   "metadata": {
    "colab_type": "text",
    "id": "gznSJ_HlojDN"
   },
   "source": [
    "2. Obtenga los precios de cierre ajustados para Tesla (TSLA) y Netflix (NFLX) desde el 1 de abril del 2019 al 31 de marzo del 2020."
   ]
  },
  {
   "cell_type": "code",
   "execution_count": 10,
   "metadata": {
    "colab": {},
    "colab_type": "code",
    "id": "6G3_EkJPrrhJ"
   },
   "outputs": [
    {
     "data": {
      "text/html": [
       "<div>\n",
       "<style scoped>\n",
       "    .dataframe tbody tr th:only-of-type {\n",
       "        vertical-align: middle;\n",
       "    }\n",
       "\n",
       "    .dataframe tbody tr th {\n",
       "        vertical-align: top;\n",
       "    }\n",
       "\n",
       "    .dataframe thead th {\n",
       "        text-align: right;\n",
       "    }\n",
       "</style>\n",
       "<table border=\"1\" class=\"dataframe\">\n",
       "  <thead>\n",
       "    <tr style=\"text-align: right;\">\n",
       "      <th>Symbols</th>\n",
       "      <th>TSLA</th>\n",
       "      <th>NFLX</th>\n",
       "    </tr>\n",
       "    <tr>\n",
       "      <th>Date</th>\n",
       "      <th></th>\n",
       "      <th></th>\n",
       "    </tr>\n",
       "  </thead>\n",
       "  <tbody>\n",
       "    <tr>\n",
       "      <th>2019-04-01</th>\n",
       "      <td>57.835999</td>\n",
       "      <td>366.959991</td>\n",
       "    </tr>\n",
       "    <tr>\n",
       "      <th>2019-04-02</th>\n",
       "      <td>57.175999</td>\n",
       "      <td>367.720001</td>\n",
       "    </tr>\n",
       "    <tr>\n",
       "      <th>2019-04-03</th>\n",
       "      <td>58.362000</td>\n",
       "      <td>369.750000</td>\n",
       "    </tr>\n",
       "    <tr>\n",
       "      <th>2019-04-04</th>\n",
       "      <td>53.556000</td>\n",
       "      <td>367.880005</td>\n",
       "    </tr>\n",
       "    <tr>\n",
       "      <th>2019-04-05</th>\n",
       "      <td>54.992001</td>\n",
       "      <td>365.489990</td>\n",
       "    </tr>\n",
       "    <tr>\n",
       "      <th>...</th>\n",
       "      <td>...</td>\n",
       "      <td>...</td>\n",
       "    </tr>\n",
       "    <tr>\n",
       "      <th>2020-03-25</th>\n",
       "      <td>107.849998</td>\n",
       "      <td>342.390015</td>\n",
       "    </tr>\n",
       "    <tr>\n",
       "      <th>2020-03-26</th>\n",
       "      <td>105.632004</td>\n",
       "      <td>362.989990</td>\n",
       "    </tr>\n",
       "    <tr>\n",
       "      <th>2020-03-27</th>\n",
       "      <td>102.872002</td>\n",
       "      <td>357.119995</td>\n",
       "    </tr>\n",
       "    <tr>\n",
       "      <th>2020-03-30</th>\n",
       "      <td>100.426003</td>\n",
       "      <td>370.959991</td>\n",
       "    </tr>\n",
       "    <tr>\n",
       "      <th>2020-03-31</th>\n",
       "      <td>104.800003</td>\n",
       "      <td>375.500000</td>\n",
       "    </tr>\n",
       "  </tbody>\n",
       "</table>\n",
       "<p>253 rows × 2 columns</p>\n",
       "</div>"
      ],
      "text/plain": [
       "Symbols           TSLA        NFLX\n",
       "Date                              \n",
       "2019-04-01   57.835999  366.959991\n",
       "2019-04-02   57.175999  367.720001\n",
       "2019-04-03   58.362000  369.750000\n",
       "2019-04-04   53.556000  367.880005\n",
       "2019-04-05   54.992001  365.489990\n",
       "...                ...         ...\n",
       "2020-03-25  107.849998  342.390015\n",
       "2020-03-26  105.632004  362.989990\n",
       "2020-03-27  102.872002  357.119995\n",
       "2020-03-30  100.426003  370.959991\n",
       "2020-03-31  104.800003  375.500000\n",
       "\n",
       "[253 rows x 2 columns]"
      ]
     },
     "execution_count": 10,
     "metadata": {},
     "output_type": "execute_result"
    }
   ],
   "source": [
    "start = \"2019-04-01\"\n",
    "end = \"2020-03-31\"\n",
    "\n",
    "def getClose(name, start, end):\n",
    "    return web.DataReader(name, \"yahoo\", start, end)[\"Adj Close\"]\n",
    "\n",
    "data = getClose(names, start, end)\n",
    "data"
   ]
  },
  {
   "cell_type": "markdown",
   "metadata": {
    "colab_type": "text",
    "id": "F9kW5HN-sp21"
   },
   "source": [
    "3. Calcule el rendimiento (simple o logaritmico) para ambas empresas."
   ]
  },
  {
   "cell_type": "code",
   "execution_count": 13,
   "metadata": {
    "colab": {},
    "colab_type": "code",
    "id": "-KeOGcjgt26a"
   },
   "outputs": [
    {
     "data": {
      "text/plain": [
       "array([[<AxesSubplot:title={'center':'TSLA'}>,\n",
       "        <AxesSubplot:title={'center':'NFLX'}>]], dtype=object)"
      ]
     },
     "execution_count": 13,
     "metadata": {},
     "output_type": "execute_result"
    },
    {
     "data": {
      "image/png": "[encoded data removed]",
      "text/plain": [
       "<Figure size 432x288 with 2 Axes>"
      ]
     },
     "metadata": {
      "needs_background": "light"
     },
     "output_type": "display_data"
    }
   ],
   "source": [
    "R = ((data - data.shift()) / data.shift()).dropna()\n",
    "R.hist(bins=100)"
   ]
  },
  {
   "cell_type": "code",
   "execution_count": 14,
   "metadata": {},
   "outputs": [
    {
     "data": {
      "text/html": [
       "<div>\n",
       "<style scoped>\n",
       "    .dataframe tbody tr th:only-of-type {\n",
       "        vertical-align: middle;\n",
       "    }\n",
       "\n",
       "    .dataframe tbody tr th {\n",
       "        vertical-align: top;\n",
       "    }\n",
       "\n",
       "    .dataframe thead th {\n",
       "        text-align: right;\n",
       "    }\n",
       "</style>\n",
       "<table border=\"1\" class=\"dataframe\">\n",
       "  <thead>\n",
       "    <tr style=\"text-align: right;\">\n",
       "      <th>Symbols</th>\n",
       "      <th>TSLA</th>\n",
       "      <th>NFLX</th>\n",
       "    </tr>\n",
       "  </thead>\n",
       "  <tbody>\n",
       "    <tr>\n",
       "      <th>count</th>\n",
       "      <td>252.000000</td>\n",
       "      <td>252.000000</td>\n",
       "    </tr>\n",
       "    <tr>\n",
       "      <th>mean</th>\n",
       "      <td>0.003402</td>\n",
       "      <td>0.000414</td>\n",
       "    </tr>\n",
       "    <tr>\n",
       "      <th>std</th>\n",
       "      <td>0.045645</td>\n",
       "      <td>0.025328</td>\n",
       "    </tr>\n",
       "    <tr>\n",
       "      <th>min</th>\n",
       "      <td>-0.185778</td>\n",
       "      <td>-0.111389</td>\n",
       "    </tr>\n",
       "    <tr>\n",
       "      <th>25%</th>\n",
       "      <td>-0.011721</td>\n",
       "      <td>-0.013387</td>\n",
       "    </tr>\n",
       "    <tr>\n",
       "      <th>50%</th>\n",
       "      <td>0.002315</td>\n",
       "      <td>0.000150</td>\n",
       "    </tr>\n",
       "    <tr>\n",
       "      <th>75%</th>\n",
       "      <td>0.019798</td>\n",
       "      <td>0.015496</td>\n",
       "    </tr>\n",
       "    <tr>\n",
       "      <th>max</th>\n",
       "      <td>0.198949</td>\n",
       "      <td>0.082445</td>\n",
       "    </tr>\n",
       "  </tbody>\n",
       "</table>\n",
       "</div>"
      ],
      "text/plain": [
       "Symbols        TSLA        NFLX\n",
       "count    252.000000  252.000000\n",
       "mean       0.003402    0.000414\n",
       "std        0.045645    0.025328\n",
       "min       -0.185778   -0.111389\n",
       "25%       -0.011721   -0.013387\n",
       "50%        0.002315    0.000150\n",
       "75%        0.019798    0.015496\n",
       "max        0.198949    0.082445"
      ]
     },
     "execution_count": 14,
     "metadata": {},
     "output_type": "execute_result"
    }
   ],
   "source": [
    "R.describe()"
   ]
  },
  {
   "cell_type": "markdown",
   "metadata": {
    "colab_type": "text",
    "id": "BCzastJgzUnY"
   },
   "source": [
    "4. Escriba una función que, dando la media y desviación estandar, simule N escenarios de rendimientos y los regrese en un _DataFrame_ de _pandas_ cuyos índices sean las **fechas de inicio a fin (y NO la fecha de inicio y el número de días)**, también estas fechas dadas como argumentos. Sugerencia: use la función *len(dates)* para medir la longitud de los días a simular, y así saber el tamaño de la matriz aleatoria."
   ]
  },
  {
   "cell_type": "code",
   "execution_count": 17,
   "metadata": {},
   "outputs": [
    {
     "name": "stdout",
     "output_type": "stream",
     "text": [
      "182\n"
     ]
    }
   ],
   "source": [
    "from datetime import date\n",
    "\n",
    "d0 = date(2020, 4, 1)\n",
    "d1 = date(2020, 9, 30)\n",
    "delta = d1 - d0\n",
    "print(delta.days)"
   ]
  },
  {
   "cell_type": "code",
   "execution_count": 20,
   "metadata": {
    "colab": {},
    "colab_type": "code",
    "id": "sYrk3UgA00Va"
   },
   "outputs": [],
   "source": [
    "start = \"2020-04-01\"\n",
    "end = \"2020-09-30\"\n",
    "\n",
    "def simR(media, std, start, end, N) :\n",
    "    R_simulado = np.random.normal(media, std, size=(182, N))\n",
    "    fechas = pd.date_range(start, end)\n",
    "    return pd.DataFrame(data=R_simulado, index=fechas)"
   ]
  },
  {
   "cell_type": "markdown",
   "metadata": {
    "colab_type": "text",
    "id": "YWSW7kvpt3sw"
   },
   "source": [
    "5. Calcule la media y desviación estandar de los rendimientos y simule 1000 escenarios desde el 1 de abril del 2020 al 30 de septiembre del 2020."
   ]
  },
  {
   "cell_type": "code",
   "execution_count": 21,
   "metadata": {},
   "outputs": [
    {
     "data": {
      "text/html": [
       "<div>\n",
       "<style scoped>\n",
       "    .dataframe tbody tr th:only-of-type {\n",
       "        vertical-align: middle;\n",
       "    }\n",
       "\n",
       "    .dataframe tbody tr th {\n",
       "        vertical-align: top;\n",
       "    }\n",
       "\n",
       "    .dataframe thead th {\n",
       "        text-align: right;\n",
       "    }\n",
       "</style>\n",
       "<table border=\"1\" class=\"dataframe\">\n",
       "  <thead>\n",
       "    <tr style=\"text-align: right;\">\n",
       "      <th>Symbols</th>\n",
       "      <th>TSLA</th>\n",
       "      <th>NFLX</th>\n",
       "    </tr>\n",
       "    <tr>\n",
       "      <th>Date</th>\n",
       "      <th></th>\n",
       "      <th></th>\n",
       "    </tr>\n",
       "  </thead>\n",
       "  <tbody>\n",
       "    <tr>\n",
       "      <th>2020-04-01</th>\n",
       "      <td>96.311996</td>\n",
       "      <td>364.079987</td>\n",
       "    </tr>\n",
       "    <tr>\n",
       "      <th>2020-04-02</th>\n",
       "      <td>90.893997</td>\n",
       "      <td>370.079987</td>\n",
       "    </tr>\n",
       "    <tr>\n",
       "      <th>2020-04-03</th>\n",
       "      <td>96.001999</td>\n",
       "      <td>361.760010</td>\n",
       "    </tr>\n",
       "    <tr>\n",
       "      <th>2020-04-06</th>\n",
       "      <td>103.248001</td>\n",
       "      <td>379.959991</td>\n",
       "    </tr>\n",
       "    <tr>\n",
       "      <th>2020-04-07</th>\n",
       "      <td>109.089996</td>\n",
       "      <td>372.279999</td>\n",
       "    </tr>\n",
       "    <tr>\n",
       "      <th>...</th>\n",
       "      <td>...</td>\n",
       "      <td>...</td>\n",
       "    </tr>\n",
       "    <tr>\n",
       "      <th>2020-09-24</th>\n",
       "      <td>387.790009</td>\n",
       "      <td>473.079987</td>\n",
       "    </tr>\n",
       "    <tr>\n",
       "      <th>2020-09-25</th>\n",
       "      <td>407.339996</td>\n",
       "      <td>482.880005</td>\n",
       "    </tr>\n",
       "    <tr>\n",
       "      <th>2020-09-28</th>\n",
       "      <td>421.200012</td>\n",
       "      <td>490.649994</td>\n",
       "    </tr>\n",
       "    <tr>\n",
       "      <th>2020-09-29</th>\n",
       "      <td>419.070007</td>\n",
       "      <td>493.480011</td>\n",
       "    </tr>\n",
       "    <tr>\n",
       "      <th>2020-09-30</th>\n",
       "      <td>429.010010</td>\n",
       "      <td>500.029999</td>\n",
       "    </tr>\n",
       "  </tbody>\n",
       "</table>\n",
       "<p>127 rows × 2 columns</p>\n",
       "</div>"
      ],
      "text/plain": [
       "Symbols           TSLA        NFLX\n",
       "Date                              \n",
       "2020-04-01   96.311996  364.079987\n",
       "2020-04-02   90.893997  370.079987\n",
       "2020-04-03   96.001999  361.760010\n",
       "2020-04-06  103.248001  379.959991\n",
       "2020-04-07  109.089996  372.279999\n",
       "...                ...         ...\n",
       "2020-09-24  387.790009  473.079987\n",
       "2020-09-25  407.339996  482.880005\n",
       "2020-09-28  421.200012  490.649994\n",
       "2020-09-29  419.070007  493.480011\n",
       "2020-09-30  429.010010  500.029999\n",
       "\n",
       "[127 rows x 2 columns]"
      ]
     },
     "execution_count": 21,
     "metadata": {},
     "output_type": "execute_result"
    }
   ],
   "source": [
    "def getClose(name, start, end):\n",
    "    return web.DataReader(name, \"yahoo\", start, end)[\"Adj Close\"]\n",
    "\n",
    "data = getClose(names, start, end)\n",
    "data"
   ]
  },
  {
   "cell_type": "code",
   "execution_count": 31,
   "metadata": {
    "colab": {},
    "colab_type": "code",
    "id": "qDSctY-85ijN"
   },
   "outputs": [
    {
     "data": {
      "text/plain": [
       "Symbols\n",
       "TSLA    0.013359\n",
       "NFLX    0.002875\n",
       "dtype: float64"
      ]
     },
     "execution_count": 31,
     "metadata": {},
     "output_type": "execute_result"
    }
   ],
   "source": [
    "R = ((data - data.shift())/data.shift()).dropna()\n",
    "R.mean()"
   ]
  },
  {
   "cell_type": "code",
   "execution_count": 28,
   "metadata": {},
   "outputs": [
    {
     "data": {
      "text/plain": [
       "Symbols\n",
       "TSLA    0.053693\n",
       "NFLX    0.026874\n",
       "dtype: float64"
      ]
     },
     "execution_count": 28,
     "metadata": {},
     "output_type": "execute_result"
    }
   ],
   "source": [
    "R.std()"
   ]
  },
  {
   "cell_type": "markdown",
   "metadata": {
    "colab_type": "text",
    "id": "DqDhJkDt5mqR"
   },
   "source": [
    "6. Use los datos de simulación para obtener los precios para ambas empresas en estos meses."
   ]
  },
  {
   "cell_type": "code",
   "execution_count": null,
   "metadata": {
    "colab": {},
    "colab_type": "code",
    "id": "9ireSE7p5FfE"
   },
   "outputs": [],
   "source": []
  },
  {
   "cell_type": "markdown",
   "metadata": {
    "colab_type": "text",
    "id": "hHTBK46z5tkH"
   },
   "source": [
    "7. En un gráfico muestre la evolución de ambas probabilidades de obtener un retorno del 20% en seis meses a partir de abril de 2020."
   ]
  },
  {
   "cell_type": "code",
   "execution_count": 32,
   "metadata": {
    "colab": {},
    "colab_type": "code",
    "id": "-LvPPojS6hDt"
   },
   "outputs": [],
   "source": [
    "media_T = R[\"TSLA\"].mean()\n",
    "std_T = R[\"TSLA\"].std()\n",
    "media_N = R[\"NFLX\"].mean()\n",
    "std_N = R[\"NFLX\"].std()"
   ]
  },
  {
   "cell_type": "code",
   "execution_count": 76,
   "metadata": {},
   "outputs": [
    {
     "data": {
      "text/html": [
       "<div>\n",
       "<style scoped>\n",
       "    .dataframe tbody tr th:only-of-type {\n",
       "        vertical-align: middle;\n",
       "    }\n",
       "\n",
       "    .dataframe tbody tr th {\n",
       "        vertical-align: top;\n",
       "    }\n",
       "\n",
       "    .dataframe thead th {\n",
       "        text-align: right;\n",
       "    }\n",
       "</style>\n",
       "<table border=\"1\" class=\"dataframe\">\n",
       "  <thead>\n",
       "    <tr style=\"text-align: right;\">\n",
       "      <th></th>\n",
       "      <th>0</th>\n",
       "      <th>1</th>\n",
       "      <th>2</th>\n",
       "      <th>3</th>\n",
       "      <th>4</th>\n",
       "      <th>5</th>\n",
       "      <th>6</th>\n",
       "      <th>7</th>\n",
       "      <th>8</th>\n",
       "      <th>9</th>\n",
       "      <th>...</th>\n",
       "      <th>990</th>\n",
       "      <th>991</th>\n",
       "      <th>992</th>\n",
       "      <th>993</th>\n",
       "      <th>994</th>\n",
       "      <th>995</th>\n",
       "      <th>996</th>\n",
       "      <th>997</th>\n",
       "      <th>998</th>\n",
       "      <th>999</th>\n",
       "    </tr>\n",
       "  </thead>\n",
       "  <tbody>\n",
       "    <tr>\n",
       "      <th>2020-04-01</th>\n",
       "      <td>0.021985</td>\n",
       "      <td>0.001935</td>\n",
       "      <td>-0.016086</td>\n",
       "      <td>0.015690</td>\n",
       "      <td>0.054762</td>\n",
       "      <td>0.023822</td>\n",
       "      <td>0.042366</td>\n",
       "      <td>-0.012431</td>\n",
       "      <td>0.036406</td>\n",
       "      <td>-0.015138</td>\n",
       "      <td>...</td>\n",
       "      <td>-0.034527</td>\n",
       "      <td>0.047213</td>\n",
       "      <td>-0.013282</td>\n",
       "      <td>0.016614</td>\n",
       "      <td>-0.022712</td>\n",
       "      <td>0.018048</td>\n",
       "      <td>0.032190</td>\n",
       "      <td>-0.017659</td>\n",
       "      <td>-0.011199</td>\n",
       "      <td>0.020777</td>\n",
       "    </tr>\n",
       "    <tr>\n",
       "      <th>2020-04-02</th>\n",
       "      <td>0.057836</td>\n",
       "      <td>-0.021429</td>\n",
       "      <td>0.032616</td>\n",
       "      <td>0.017020</td>\n",
       "      <td>-0.000247</td>\n",
       "      <td>0.010919</td>\n",
       "      <td>0.006032</td>\n",
       "      <td>-0.023168</td>\n",
       "      <td>-0.011922</td>\n",
       "      <td>-0.000853</td>\n",
       "      <td>...</td>\n",
       "      <td>0.037094</td>\n",
       "      <td>0.002464</td>\n",
       "      <td>0.043401</td>\n",
       "      <td>-0.012639</td>\n",
       "      <td>0.029823</td>\n",
       "      <td>-0.018015</td>\n",
       "      <td>0.033508</td>\n",
       "      <td>-0.027393</td>\n",
       "      <td>-0.049923</td>\n",
       "      <td>-0.000538</td>\n",
       "    </tr>\n",
       "    <tr>\n",
       "      <th>2020-04-03</th>\n",
       "      <td>0.032380</td>\n",
       "      <td>0.018752</td>\n",
       "      <td>-0.012673</td>\n",
       "      <td>-0.028395</td>\n",
       "      <td>0.005292</td>\n",
       "      <td>0.011719</td>\n",
       "      <td>0.012186</td>\n",
       "      <td>-0.006490</td>\n",
       "      <td>-0.001416</td>\n",
       "      <td>-0.018292</td>\n",
       "      <td>...</td>\n",
       "      <td>-0.002450</td>\n",
       "      <td>-0.003970</td>\n",
       "      <td>0.018143</td>\n",
       "      <td>-0.010456</td>\n",
       "      <td>0.048311</td>\n",
       "      <td>0.003520</td>\n",
       "      <td>0.009719</td>\n",
       "      <td>-0.011680</td>\n",
       "      <td>-0.033357</td>\n",
       "      <td>-0.016258</td>\n",
       "    </tr>\n",
       "    <tr>\n",
       "      <th>2020-04-04</th>\n",
       "      <td>-0.003989</td>\n",
       "      <td>0.023988</td>\n",
       "      <td>0.008028</td>\n",
       "      <td>0.037431</td>\n",
       "      <td>-0.016282</td>\n",
       "      <td>0.017068</td>\n",
       "      <td>0.013906</td>\n",
       "      <td>-0.006632</td>\n",
       "      <td>-0.006944</td>\n",
       "      <td>0.018452</td>\n",
       "      <td>...</td>\n",
       "      <td>-0.039555</td>\n",
       "      <td>-0.035458</td>\n",
       "      <td>-0.005909</td>\n",
       "      <td>0.040392</td>\n",
       "      <td>0.037798</td>\n",
       "      <td>-0.001374</td>\n",
       "      <td>-0.064154</td>\n",
       "      <td>-0.014197</td>\n",
       "      <td>-0.018499</td>\n",
       "      <td>-0.016580</td>\n",
       "    </tr>\n",
       "    <tr>\n",
       "      <th>2020-04-05</th>\n",
       "      <td>-0.046258</td>\n",
       "      <td>-0.003110</td>\n",
       "      <td>-0.011647</td>\n",
       "      <td>0.015383</td>\n",
       "      <td>-0.016253</td>\n",
       "      <td>-0.011617</td>\n",
       "      <td>-0.034751</td>\n",
       "      <td>0.030852</td>\n",
       "      <td>-0.025614</td>\n",
       "      <td>0.019072</td>\n",
       "      <td>...</td>\n",
       "      <td>0.026499</td>\n",
       "      <td>0.002387</td>\n",
       "      <td>0.005119</td>\n",
       "      <td>0.013090</td>\n",
       "      <td>0.007385</td>\n",
       "      <td>-0.009312</td>\n",
       "      <td>0.007348</td>\n",
       "      <td>0.019308</td>\n",
       "      <td>0.033846</td>\n",
       "      <td>-0.000918</td>\n",
       "    </tr>\n",
       "    <tr>\n",
       "      <th>...</th>\n",
       "      <td>...</td>\n",
       "      <td>...</td>\n",
       "      <td>...</td>\n",
       "      <td>...</td>\n",
       "      <td>...</td>\n",
       "      <td>...</td>\n",
       "      <td>...</td>\n",
       "      <td>...</td>\n",
       "      <td>...</td>\n",
       "      <td>...</td>\n",
       "      <td>...</td>\n",
       "      <td>...</td>\n",
       "      <td>...</td>\n",
       "      <td>...</td>\n",
       "      <td>...</td>\n",
       "      <td>...</td>\n",
       "      <td>...</td>\n",
       "      <td>...</td>\n",
       "      <td>...</td>\n",
       "      <td>...</td>\n",
       "      <td>...</td>\n",
       "    </tr>\n",
       "    <tr>\n",
       "      <th>2020-09-26</th>\n",
       "      <td>0.017652</td>\n",
       "      <td>0.035761</td>\n",
       "      <td>-0.020326</td>\n",
       "      <td>-0.001545</td>\n",
       "      <td>-0.017171</td>\n",
       "      <td>-0.011550</td>\n",
       "      <td>-0.006405</td>\n",
       "      <td>-0.022160</td>\n",
       "      <td>0.025501</td>\n",
       "      <td>-0.024675</td>\n",
       "      <td>...</td>\n",
       "      <td>0.052932</td>\n",
       "      <td>-0.003437</td>\n",
       "      <td>-0.011728</td>\n",
       "      <td>-0.016555</td>\n",
       "      <td>0.040738</td>\n",
       "      <td>-0.012349</td>\n",
       "      <td>0.040651</td>\n",
       "      <td>0.056082</td>\n",
       "      <td>-0.007494</td>\n",
       "      <td>0.023294</td>\n",
       "    </tr>\n",
       "    <tr>\n",
       "      <th>2020-09-27</th>\n",
       "      <td>0.036721</td>\n",
       "      <td>-0.009536</td>\n",
       "      <td>0.015071</td>\n",
       "      <td>0.012333</td>\n",
       "      <td>0.018353</td>\n",
       "      <td>0.045348</td>\n",
       "      <td>0.021083</td>\n",
       "      <td>-0.001311</td>\n",
       "      <td>0.050266</td>\n",
       "      <td>0.055312</td>\n",
       "      <td>...</td>\n",
       "      <td>0.014128</td>\n",
       "      <td>-0.028343</td>\n",
       "      <td>0.023555</td>\n",
       "      <td>0.026751</td>\n",
       "      <td>0.010473</td>\n",
       "      <td>-0.014677</td>\n",
       "      <td>0.029810</td>\n",
       "      <td>0.045773</td>\n",
       "      <td>0.021475</td>\n",
       "      <td>0.025892</td>\n",
       "    </tr>\n",
       "    <tr>\n",
       "      <th>2020-09-28</th>\n",
       "      <td>0.002974</td>\n",
       "      <td>0.025747</td>\n",
       "      <td>-0.005010</td>\n",
       "      <td>-0.000460</td>\n",
       "      <td>0.002879</td>\n",
       "      <td>0.023365</td>\n",
       "      <td>-0.031474</td>\n",
       "      <td>0.022380</td>\n",
       "      <td>0.012193</td>\n",
       "      <td>0.004317</td>\n",
       "      <td>...</td>\n",
       "      <td>0.035865</td>\n",
       "      <td>0.026129</td>\n",
       "      <td>0.047130</td>\n",
       "      <td>0.000438</td>\n",
       "      <td>-0.032448</td>\n",
       "      <td>-0.002543</td>\n",
       "      <td>-0.017442</td>\n",
       "      <td>0.033504</td>\n",
       "      <td>0.011947</td>\n",
       "      <td>0.000037</td>\n",
       "    </tr>\n",
       "    <tr>\n",
       "      <th>2020-09-29</th>\n",
       "      <td>-0.029638</td>\n",
       "      <td>0.053436</td>\n",
       "      <td>0.003342</td>\n",
       "      <td>-0.054937</td>\n",
       "      <td>0.042001</td>\n",
       "      <td>-0.008526</td>\n",
       "      <td>0.031857</td>\n",
       "      <td>-0.009195</td>\n",
       "      <td>0.032292</td>\n",
       "      <td>0.036186</td>\n",
       "      <td>...</td>\n",
       "      <td>-0.040899</td>\n",
       "      <td>-0.012762</td>\n",
       "      <td>0.035264</td>\n",
       "      <td>-0.028711</td>\n",
       "      <td>0.009985</td>\n",
       "      <td>-0.038305</td>\n",
       "      <td>-0.017060</td>\n",
       "      <td>-0.012333</td>\n",
       "      <td>0.013140</td>\n",
       "      <td>0.026212</td>\n",
       "    </tr>\n",
       "    <tr>\n",
       "      <th>2020-09-30</th>\n",
       "      <td>0.009879</td>\n",
       "      <td>0.034604</td>\n",
       "      <td>-0.008827</td>\n",
       "      <td>-0.034720</td>\n",
       "      <td>-0.012719</td>\n",
       "      <td>-0.014364</td>\n",
       "      <td>-0.000778</td>\n",
       "      <td>0.011980</td>\n",
       "      <td>0.026482</td>\n",
       "      <td>0.016477</td>\n",
       "      <td>...</td>\n",
       "      <td>-0.017507</td>\n",
       "      <td>-0.031968</td>\n",
       "      <td>-0.013277</td>\n",
       "      <td>0.021514</td>\n",
       "      <td>-0.009163</td>\n",
       "      <td>-0.022119</td>\n",
       "      <td>0.028033</td>\n",
       "      <td>-0.044665</td>\n",
       "      <td>-0.034779</td>\n",
       "      <td>0.010597</td>\n",
       "    </tr>\n",
       "  </tbody>\n",
       "</table>\n",
       "<p>183 rows × 1000 columns</p>\n",
       "</div>"
      ],
      "text/plain": [
       "                 0         1         2         3         4         5    \\\n",
       "2020-04-01  0.021985  0.001935 -0.016086  0.015690  0.054762  0.023822   \n",
       "2020-04-02  0.057836 -0.021429  0.032616  0.017020 -0.000247  0.010919   \n",
       "2020-04-03  0.032380  0.018752 -0.012673 -0.028395  0.005292  0.011719   \n",
       "2020-04-04 -0.003989  0.023988  0.008028  0.037431 -0.016282  0.017068   \n",
       "2020-04-05 -0.046258 -0.003110 -0.011647  0.015383 -0.016253 -0.011617   \n",
       "...              ...       ...       ...       ...       ...       ...   \n",
       "2020-09-26  0.017652  0.035761 -0.020326 -0.001545 -0.017171 -0.011550   \n",
       "2020-09-27  0.036721 -0.009536  0.015071  0.012333  0.018353  0.045348   \n",
       "2020-09-28  0.002974  0.025747 -0.005010 -0.000460  0.002879  0.023365   \n",
       "2020-09-29 -0.029638  0.053436  0.003342 -0.054937  0.042001 -0.008526   \n",
       "2020-09-30  0.009879  0.034604 -0.008827 -0.034720 -0.012719 -0.014364   \n",
       "\n",
       "                 6         7         8         9    ...       990       991  \\\n",
       "2020-04-01  0.042366 -0.012431  0.036406 -0.015138  ... -0.034527  0.047213   \n",
       "2020-04-02  0.006032 -0.023168 -0.011922 -0.000853  ...  0.037094  0.002464   \n",
       "2020-04-03  0.012186 -0.006490 -0.001416 -0.018292  ... -0.002450 -0.003970   \n",
       "2020-04-04  0.013906 -0.006632 -0.006944  0.018452  ... -0.039555 -0.035458   \n",
       "2020-04-05 -0.034751  0.030852 -0.025614  0.019072  ...  0.026499  0.002387   \n",
       "...              ...       ...       ...       ...  ...       ...       ...   \n",
       "2020-09-26 -0.006405 -0.022160  0.025501 -0.024675  ...  0.052932 -0.003437   \n",
       "2020-09-27  0.021083 -0.001311  0.050266  0.055312  ...  0.014128 -0.028343   \n",
       "2020-09-28 -0.031474  0.022380  0.012193  0.004317  ...  0.035865  0.026129   \n",
       "2020-09-29  0.031857 -0.009195  0.032292  0.036186  ... -0.040899 -0.012762   \n",
       "2020-09-30 -0.000778  0.011980  0.026482  0.016477  ... -0.017507 -0.031968   \n",
       "\n",
       "                 992       993       994       995       996       997  \\\n",
       "2020-04-01 -0.013282  0.016614 -0.022712  0.018048  0.032190 -0.017659   \n",
       "2020-04-02  0.043401 -0.012639  0.029823 -0.018015  0.033508 -0.027393   \n",
       "2020-04-03  0.018143 -0.010456  0.048311  0.003520  0.009719 -0.011680   \n",
       "2020-04-04 -0.005909  0.040392  0.037798 -0.001374 -0.064154 -0.014197   \n",
       "2020-04-05  0.005119  0.013090  0.007385 -0.009312  0.007348  0.019308   \n",
       "...              ...       ...       ...       ...       ...       ...   \n",
       "2020-09-26 -0.011728 -0.016555  0.040738 -0.012349  0.040651  0.056082   \n",
       "2020-09-27  0.023555  0.026751  0.010473 -0.014677  0.029810  0.045773   \n",
       "2020-09-28  0.047130  0.000438 -0.032448 -0.002543 -0.017442  0.033504   \n",
       "2020-09-29  0.035264 -0.028711  0.009985 -0.038305 -0.017060 -0.012333   \n",
       "2020-09-30 -0.013277  0.021514 -0.009163 -0.022119  0.028033 -0.044665   \n",
       "\n",
       "                 998       999  \n",
       "2020-04-01 -0.011199  0.020777  \n",
       "2020-04-02 -0.049923 -0.000538  \n",
       "2020-04-03 -0.033357 -0.016258  \n",
       "2020-04-04 -0.018499 -0.016580  \n",
       "2020-04-05  0.033846 -0.000918  \n",
       "...              ...       ...  \n",
       "2020-09-26 -0.007494  0.023294  \n",
       "2020-09-27  0.021475  0.025892  \n",
       "2020-09-28  0.011947  0.000037  \n",
       "2020-09-29  0.013140  0.026212  \n",
       "2020-09-30 -0.034779  0.010597  \n",
       "\n",
       "[183 rows x 1000 columns]"
      ]
     },
     "execution_count": 76,
     "metadata": {},
     "output_type": "execute_result"
    }
   ],
   "source": [
    "R_sim_T = np.random.normal(media_T, std_T, size=(183, 1000))\n",
    "R_sim_N = np.random.normal(media_N, std_N, size=(183, 1000))\n",
    "\n",
    "def simR(names, means, stds, start, end, N):\n",
    "    sims = {}\n",
    "    fechas = pd.date_range(start, end)\n",
    "    for name, mean, std in zip(names, means, stds):\n",
    "        R_sim = np.random.normal(mean, std, size=(183, N))\n",
    "        sims[name] = pd.DataFrame(data=R_sim, index=fechas)\n",
    "    return sims\n",
    "\n",
    "names = [\"TSLA\", \"NFLX\"]\n",
    "means = [media_T, media_N]\n",
    "stds = [std_T, std_N]\n",
    "\n",
    "sims = simR(names, means, stds, \"2020-04-01\", \"2020-09-30\", 1000)\n",
    "sims[\"NFLX\"]"
   ]
  },
  {
   "cell_type": "code",
   "execution_count": 77,
   "metadata": {},
   "outputs": [
    {
     "data": {
      "text/html": [
       "<div>\n",
       "<style scoped>\n",
       "    .dataframe tbody tr th:only-of-type {\n",
       "        vertical-align: middle;\n",
       "    }\n",
       "\n",
       "    .dataframe tbody tr th {\n",
       "        vertical-align: top;\n",
       "    }\n",
       "\n",
       "    .dataframe thead th {\n",
       "        text-align: right;\n",
       "    }\n",
       "</style>\n",
       "<table border=\"1\" class=\"dataframe\">\n",
       "  <thead>\n",
       "    <tr style=\"text-align: right;\">\n",
       "      <th></th>\n",
       "      <th>0</th>\n",
       "      <th>1</th>\n",
       "      <th>2</th>\n",
       "      <th>3</th>\n",
       "      <th>4</th>\n",
       "      <th>5</th>\n",
       "      <th>6</th>\n",
       "      <th>7</th>\n",
       "      <th>8</th>\n",
       "      <th>9</th>\n",
       "      <th>...</th>\n",
       "      <th>990</th>\n",
       "      <th>991</th>\n",
       "      <th>992</th>\n",
       "      <th>993</th>\n",
       "      <th>994</th>\n",
       "      <th>995</th>\n",
       "      <th>996</th>\n",
       "      <th>997</th>\n",
       "      <th>998</th>\n",
       "      <th>999</th>\n",
       "    </tr>\n",
       "  </thead>\n",
       "  <tbody>\n",
       "    <tr>\n",
       "      <th>2020-04-01</th>\n",
       "      <td>False</td>\n",
       "      <td>False</td>\n",
       "      <td>False</td>\n",
       "      <td>False</td>\n",
       "      <td>False</td>\n",
       "      <td>False</td>\n",
       "      <td>False</td>\n",
       "      <td>False</td>\n",
       "      <td>False</td>\n",
       "      <td>False</td>\n",
       "      <td>...</td>\n",
       "      <td>False</td>\n",
       "      <td>False</td>\n",
       "      <td>False</td>\n",
       "      <td>False</td>\n",
       "      <td>False</td>\n",
       "      <td>False</td>\n",
       "      <td>False</td>\n",
       "      <td>False</td>\n",
       "      <td>False</td>\n",
       "      <td>False</td>\n",
       "    </tr>\n",
       "    <tr>\n",
       "      <th>2020-04-02</th>\n",
       "      <td>False</td>\n",
       "      <td>False</td>\n",
       "      <td>False</td>\n",
       "      <td>False</td>\n",
       "      <td>False</td>\n",
       "      <td>False</td>\n",
       "      <td>False</td>\n",
       "      <td>False</td>\n",
       "      <td>False</td>\n",
       "      <td>False</td>\n",
       "      <td>...</td>\n",
       "      <td>False</td>\n",
       "      <td>False</td>\n",
       "      <td>False</td>\n",
       "      <td>False</td>\n",
       "      <td>False</td>\n",
       "      <td>False</td>\n",
       "      <td>False</td>\n",
       "      <td>False</td>\n",
       "      <td>False</td>\n",
       "      <td>False</td>\n",
       "    </tr>\n",
       "    <tr>\n",
       "      <th>2020-04-03</th>\n",
       "      <td>False</td>\n",
       "      <td>False</td>\n",
       "      <td>False</td>\n",
       "      <td>False</td>\n",
       "      <td>False</td>\n",
       "      <td>False</td>\n",
       "      <td>False</td>\n",
       "      <td>False</td>\n",
       "      <td>False</td>\n",
       "      <td>False</td>\n",
       "      <td>...</td>\n",
       "      <td>False</td>\n",
       "      <td>False</td>\n",
       "      <td>False</td>\n",
       "      <td>False</td>\n",
       "      <td>False</td>\n",
       "      <td>False</td>\n",
       "      <td>False</td>\n",
       "      <td>False</td>\n",
       "      <td>False</td>\n",
       "      <td>False</td>\n",
       "    </tr>\n",
       "    <tr>\n",
       "      <th>2020-04-04</th>\n",
       "      <td>False</td>\n",
       "      <td>False</td>\n",
       "      <td>False</td>\n",
       "      <td>False</td>\n",
       "      <td>False</td>\n",
       "      <td>False</td>\n",
       "      <td>False</td>\n",
       "      <td>False</td>\n",
       "      <td>False</td>\n",
       "      <td>False</td>\n",
       "      <td>...</td>\n",
       "      <td>False</td>\n",
       "      <td>False</td>\n",
       "      <td>False</td>\n",
       "      <td>False</td>\n",
       "      <td>False</td>\n",
       "      <td>False</td>\n",
       "      <td>False</td>\n",
       "      <td>False</td>\n",
       "      <td>False</td>\n",
       "      <td>False</td>\n",
       "    </tr>\n",
       "    <tr>\n",
       "      <th>2020-04-05</th>\n",
       "      <td>False</td>\n",
       "      <td>False</td>\n",
       "      <td>False</td>\n",
       "      <td>False</td>\n",
       "      <td>False</td>\n",
       "      <td>False</td>\n",
       "      <td>False</td>\n",
       "      <td>False</td>\n",
       "      <td>False</td>\n",
       "      <td>False</td>\n",
       "      <td>...</td>\n",
       "      <td>False</td>\n",
       "      <td>False</td>\n",
       "      <td>False</td>\n",
       "      <td>False</td>\n",
       "      <td>False</td>\n",
       "      <td>False</td>\n",
       "      <td>False</td>\n",
       "      <td>False</td>\n",
       "      <td>False</td>\n",
       "      <td>False</td>\n",
       "    </tr>\n",
       "    <tr>\n",
       "      <th>...</th>\n",
       "      <td>...</td>\n",
       "      <td>...</td>\n",
       "      <td>...</td>\n",
       "      <td>...</td>\n",
       "      <td>...</td>\n",
       "      <td>...</td>\n",
       "      <td>...</td>\n",
       "      <td>...</td>\n",
       "      <td>...</td>\n",
       "      <td>...</td>\n",
       "      <td>...</td>\n",
       "      <td>...</td>\n",
       "      <td>...</td>\n",
       "      <td>...</td>\n",
       "      <td>...</td>\n",
       "      <td>...</td>\n",
       "      <td>...</td>\n",
       "      <td>...</td>\n",
       "      <td>...</td>\n",
       "      <td>...</td>\n",
       "      <td>...</td>\n",
       "    </tr>\n",
       "    <tr>\n",
       "      <th>2020-09-26</th>\n",
       "      <td>True</td>\n",
       "      <td>False</td>\n",
       "      <td>True</td>\n",
       "      <td>True</td>\n",
       "      <td>False</td>\n",
       "      <td>True</td>\n",
       "      <td>True</td>\n",
       "      <td>True</td>\n",
       "      <td>True</td>\n",
       "      <td>True</td>\n",
       "      <td>...</td>\n",
       "      <td>False</td>\n",
       "      <td>True</td>\n",
       "      <td>False</td>\n",
       "      <td>True</td>\n",
       "      <td>False</td>\n",
       "      <td>False</td>\n",
       "      <td>True</td>\n",
       "      <td>True</td>\n",
       "      <td>False</td>\n",
       "      <td>False</td>\n",
       "    </tr>\n",
       "    <tr>\n",
       "      <th>2020-09-27</th>\n",
       "      <td>True</td>\n",
       "      <td>False</td>\n",
       "      <td>True</td>\n",
       "      <td>True</td>\n",
       "      <td>False</td>\n",
       "      <td>True</td>\n",
       "      <td>True</td>\n",
       "      <td>True</td>\n",
       "      <td>True</td>\n",
       "      <td>True</td>\n",
       "      <td>...</td>\n",
       "      <td>True</td>\n",
       "      <td>True</td>\n",
       "      <td>False</td>\n",
       "      <td>True</td>\n",
       "      <td>False</td>\n",
       "      <td>False</td>\n",
       "      <td>True</td>\n",
       "      <td>True</td>\n",
       "      <td>False</td>\n",
       "      <td>False</td>\n",
       "    </tr>\n",
       "    <tr>\n",
       "      <th>2020-09-28</th>\n",
       "      <td>True</td>\n",
       "      <td>False</td>\n",
       "      <td>True</td>\n",
       "      <td>True</td>\n",
       "      <td>False</td>\n",
       "      <td>True</td>\n",
       "      <td>True</td>\n",
       "      <td>True</td>\n",
       "      <td>True</td>\n",
       "      <td>True</td>\n",
       "      <td>...</td>\n",
       "      <td>True</td>\n",
       "      <td>True</td>\n",
       "      <td>False</td>\n",
       "      <td>True</td>\n",
       "      <td>False</td>\n",
       "      <td>False</td>\n",
       "      <td>True</td>\n",
       "      <td>True</td>\n",
       "      <td>False</td>\n",
       "      <td>False</td>\n",
       "    </tr>\n",
       "    <tr>\n",
       "      <th>2020-09-29</th>\n",
       "      <td>True</td>\n",
       "      <td>True</td>\n",
       "      <td>True</td>\n",
       "      <td>True</td>\n",
       "      <td>False</td>\n",
       "      <td>True</td>\n",
       "      <td>True</td>\n",
       "      <td>True</td>\n",
       "      <td>True</td>\n",
       "      <td>True</td>\n",
       "      <td>...</td>\n",
       "      <td>False</td>\n",
       "      <td>True</td>\n",
       "      <td>False</td>\n",
       "      <td>True</td>\n",
       "      <td>False</td>\n",
       "      <td>False</td>\n",
       "      <td>True</td>\n",
       "      <td>True</td>\n",
       "      <td>False</td>\n",
       "      <td>False</td>\n",
       "    </tr>\n",
       "    <tr>\n",
       "      <th>2020-09-30</th>\n",
       "      <td>True</td>\n",
       "      <td>True</td>\n",
       "      <td>True</td>\n",
       "      <td>True</td>\n",
       "      <td>False</td>\n",
       "      <td>True</td>\n",
       "      <td>True</td>\n",
       "      <td>True</td>\n",
       "      <td>True</td>\n",
       "      <td>True</td>\n",
       "      <td>...</td>\n",
       "      <td>False</td>\n",
       "      <td>True</td>\n",
       "      <td>False</td>\n",
       "      <td>True</td>\n",
       "      <td>False</td>\n",
       "      <td>False</td>\n",
       "      <td>True</td>\n",
       "      <td>True</td>\n",
       "      <td>False</td>\n",
       "      <td>False</td>\n",
       "    </tr>\n",
       "  </tbody>\n",
       "</table>\n",
       "<p>183 rows × 1000 columns</p>\n",
       "</div>"
      ],
      "text/plain": [
       "              0      1      2      3      4      5      6      7      8    \\\n",
       "2020-04-01  False  False  False  False  False  False  False  False  False   \n",
       "2020-04-02  False  False  False  False  False  False  False  False  False   \n",
       "2020-04-03  False  False  False  False  False  False  False  False  False   \n",
       "2020-04-04  False  False  False  False  False  False  False  False  False   \n",
       "2020-04-05  False  False  False  False  False  False  False  False  False   \n",
       "...           ...    ...    ...    ...    ...    ...    ...    ...    ...   \n",
       "2020-09-26   True  False   True   True  False   True   True   True   True   \n",
       "2020-09-27   True  False   True   True  False   True   True   True   True   \n",
       "2020-09-28   True  False   True   True  False   True   True   True   True   \n",
       "2020-09-29   True   True   True   True  False   True   True   True   True   \n",
       "2020-09-30   True   True   True   True  False   True   True   True   True   \n",
       "\n",
       "              9    ...    990    991    992    993    994    995    996  \\\n",
       "2020-04-01  False  ...  False  False  False  False  False  False  False   \n",
       "2020-04-02  False  ...  False  False  False  False  False  False  False   \n",
       "2020-04-03  False  ...  False  False  False  False  False  False  False   \n",
       "2020-04-04  False  ...  False  False  False  False  False  False  False   \n",
       "2020-04-05  False  ...  False  False  False  False  False  False  False   \n",
       "...           ...  ...    ...    ...    ...    ...    ...    ...    ...   \n",
       "2020-09-26   True  ...  False   True  False   True  False  False   True   \n",
       "2020-09-27   True  ...   True   True  False   True  False  False   True   \n",
       "2020-09-28   True  ...   True   True  False   True  False  False   True   \n",
       "2020-09-29   True  ...  False   True  False   True  False  False   True   \n",
       "2020-09-30   True  ...  False   True  False   True  False  False   True   \n",
       "\n",
       "              997    998    999  \n",
       "2020-04-01  False  False  False  \n",
       "2020-04-02  False  False  False  \n",
       "2020-04-03  False  False  False  \n",
       "2020-04-04  False  False  False  \n",
       "2020-04-05  False  False  False  \n",
       "...           ...    ...    ...  \n",
       "2020-09-26   True  False  False  \n",
       "2020-09-27   True  False  False  \n",
       "2020-09-28   True  False  False  \n",
       "2020-09-29   True  False  False  \n",
       "2020-09-30   True  False  False  \n",
       "\n",
       "[183 rows x 1000 columns]"
      ]
     },
     "execution_count": 77,
     "metadata": {},
     "output_type": "execute_result"
    }
   ],
   "source": [
    "sims[\"TSLA\"] = (sims[\"TSLA\"] + 1).cumprod()*data[\"TSLA\"].iloc[-1]\n",
    "sims[\"NFLX\"] = (sims[\"NFLX\"] + 1).cumprod()*data[\"NFLX\"].iloc[-1]\n",
    "\n",
    "valor_deseado_T = data[\"TSLA\"].iloc[-1]*1.2\n",
    "valor_deseado_N = data[\"NFLX\"].iloc[-1]*1.2\n",
    "\n",
    "B_T = sims[\"TSLA\"] >= valor_deseado_T\n",
    "B_N = sims[\"NFLX\"] >= valor_deseado_N\n",
    "B_N"
   ]
  },
  {
   "cell_type": "code",
   "execution_count": 78,
   "metadata": {},
   "outputs": [
    {
     "data": {
      "text/plain": [
       "<AxesSubplot:>"
      ]
     },
     "execution_count": 78,
     "metadata": {},
     "output_type": "execute_result"
    },
    {
     "data": {
      "image/png": "[encoded data removed]",
      "text/plain": [
       "<Figure size 432x288 with 1 Axes>"
      ]
     },
     "metadata": {
      "needs_background": "light"
     },
     "output_type": "display_data"
    }
   ],
   "source": [
    "P_T = B_T.mean(axis=1)\n",
    "P_T.columns = [\"TSLA\"]\n",
    "P_N = B_N.mean(axis=1)\n",
    "P_N.columns = [\"NFLX\"]\n",
    "\n",
    "P_T.plot(grid=True)\n",
    "P_N.plot(grid=True)"
   ]
  },
  {
   "cell_type": "code",
   "execution_count": null,
   "metadata": {},
   "outputs": [],
   "source": []
  }
 ],
 "metadata": {
  "colab": {
   "name": "ExamenMontecarlo2.ipynb",
   "provenance": []
  },
  "kernelspec": {
   "display_name": "Python 3 (ipykernel)",
   "language": "python",
   "name": "python3"
  },
  "language_info": {
   "codemirror_mode": {
    "name": "ipython",
    "version": 3
   },
   "file_extension": ".py",
   "mimetype": "text/x-python",
   "name": "python",
   "nbconvert_exporter": "python",
   "pygments_lexer": "ipython3",
   "version": "3.9.7"
  }
 },
 "nbformat": 4,
 "nbformat_minor": 1
}
