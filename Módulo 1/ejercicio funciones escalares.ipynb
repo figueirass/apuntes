{
 "cells": [
  {
   "cell_type": "markdown",
   "id": "c5a3871b",
   "metadata": {},
   "source": [
    "$f(x)=2520+234x-18x^2$"
   ]
  },
  {
   "cell_type": "code",
   "execution_count": 2,
   "id": "91a4a726",
   "metadata": {},
   "outputs": [],
   "source": [
    "import numpy as np\n",
    "import matplotlib.pyplot as plt\n",
    "import sympy as sp"
   ]
  },
  {
   "cell_type": "code",
   "execution_count": 6,
   "id": "bc739e80",
   "metadata": {
    "scrolled": true
   },
   "outputs": [
    {
     "data": {
      "text/latex": [
       "$\\displaystyle - 18 x^{2} + 234 x + 2520$"
      ],
      "text/plain": [
       "-18*x**2 + 234*x + 2520"
      ]
     },
     "execution_count": 6,
     "metadata": {},
     "output_type": "execute_result"
    }
   ],
   "source": [
    "sp.var(\"x\")\n",
    "def f(x):\n",
    "    return 2520 + 234*x - 18*x**2\n",
    "f(x)"
   ]
  },
  {
   "cell_type": "code",
   "execution_count": 9,
   "id": "41a78482",
   "metadata": {},
   "outputs": [
    {
     "data": {
      "text/latex": [
       "$\\displaystyle 234 - 36 x$"
      ],
      "text/plain": [
       "234 - 36*x"
      ]
     },
     "execution_count": 9,
     "metadata": {},
     "output_type": "execute_result"
    }
   ],
   "source": [
    "df = sp.diff(f(x), x)\n",
    "df"
   ]
  },
  {
   "cell_type": "code",
   "execution_count": 10,
   "id": "c36a2808",
   "metadata": {},
   "outputs": [
    {
     "data": {
      "text/plain": [
       "[13/2]"
      ]
     },
     "execution_count": 10,
     "metadata": {},
     "output_type": "execute_result"
    }
   ],
   "source": [
    "pc = sp.solve(df, x)\n",
    "pc"
   ]
  },
  {
   "cell_type": "code",
   "execution_count": 12,
   "id": "2139b670",
   "metadata": {},
   "outputs": [
    {
     "data": {
      "text/latex": [
       "$\\displaystyle \\frac{13}{2}$"
      ],
      "text/plain": [
       "13/2"
      ]
     },
     "execution_count": 12,
     "metadata": {},
     "output_type": "execute_result"
    }
   ],
   "source": [
    "pc = pc[0]\n",
    "pc"
   ]
  },
  {
   "cell_type": "code",
   "execution_count": 13,
   "id": "c9ff4e69",
   "metadata": {},
   "outputs": [
    {
     "data": {
      "text/latex": [
       "$\\displaystyle -36$"
      ],
      "text/plain": [
       "-36"
      ]
     },
     "execution_count": 13,
     "metadata": {},
     "output_type": "execute_result"
    }
   ],
   "source": [
    "ddf = sp.diff(df, x)\n",
    "ddf"
   ]
  },
  {
   "cell_type": "code",
   "execution_count": 14,
   "id": "91a43803",
   "metadata": {},
   "outputs": [
    {
     "name": "stdout",
     "output_type": "stream",
     "text": [
      "max\n"
     ]
    }
   ],
   "source": [
    "criterio_segunda_derivada = ddf.subs(x, pc)\n",
    "if criterio_segunda_derivada < 0:\n",
    "    print(\"max\")\n",
    "elif criterio_segunda_derivada > 0:\n",
    "    print(\"min\")\n",
    "else:\n",
    "    print(\"error\")"
   ]
  },
  {
   "cell_type": "code",
   "execution_count": 15,
   "id": "c50d22d3",
   "metadata": {},
   "outputs": [
    {
     "data": {
      "text/plain": [
       "[<matplotlib.lines.Line2D at 0x7fa6b80d2d00>]"
      ]
     },
     "execution_count": 15,
     "metadata": {},
     "output_type": "execute_result"
    },
    {
     "data": {
      "image/png": "[encoded data removed]",
      "text/plain": [
       "<Figure size 432x288 with 1 Axes>"
      ]
     },
     "metadata": {
      "needs_background": "light"
     },
     "output_type": "display_data"
    }
   ],
   "source": [
    "plt.figure()\n",
    "xn = np.linspace(-50,50,10000)\n",
    "yn = f(xn)\n",
    "\n",
    "plt.plot(xn, yn)\n",
    "\n",
    "plt.plot(pc, f(pc), \"*r\", ms = 10)"
   ]
  },
  {
   "cell_type": "code",
   "execution_count": null,
   "id": "d09f922d",
   "metadata": {},
   "outputs": [],
   "source": []
  }
 ],
 "metadata": {
  "kernelspec": {
   "display_name": "Python 3 (ipykernel)",
   "language": "python",
   "name": "python3"
  },
  "language_info": {
   "codemirror_mode": {
    "name": "ipython",
    "version": 3
   },
   "file_extension": ".py",
   "mimetype": "text/x-python",
   "name": "python",
   "nbconvert_exporter": "python",
   "pygments_lexer": "ipython3",
   "version": "3.9.7"
  }
 },
 "nbformat": 4,
 "nbformat_minor": 5
}
