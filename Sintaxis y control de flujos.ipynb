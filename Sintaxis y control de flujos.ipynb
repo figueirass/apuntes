{
 "cells": [
  {
   "cell_type": "code",
   "execution_count": 2,
   "id": "ac20bb55",
   "metadata": {},
   "outputs": [],
   "source": [
    "a = 2\n",
    "b = 3"
   ]
  },
  {
   "cell_type": "code",
   "execution_count": 3,
   "id": "53414966",
   "metadata": {},
   "outputs": [
    {
     "data": {
      "text/plain": [
       "2"
      ]
     },
     "execution_count": 3,
     "metadata": {},
     "output_type": "execute_result"
    }
   ],
   "source": [
    "a"
   ]
  },
  {
   "cell_type": "code",
   "execution_count": 4,
   "id": "2f4d62a1",
   "metadata": {},
   "outputs": [
    {
     "data": {
      "text/plain": [
       "3"
      ]
     },
     "execution_count": 4,
     "metadata": {},
     "output_type": "execute_result"
    }
   ],
   "source": [
    "b"
   ]
  },
  {
   "cell_type": "code",
   "execution_count": 5,
   "id": "faa9f8f0",
   "metadata": {},
   "outputs": [
    {
     "name": "stdout",
     "output_type": "stream",
     "text": [
      "Flujo 2\n"
     ]
    }
   ],
   "source": [
    "condicion = False\n",
    "\n",
    "if(condicion == True) :\n",
    "    print(\"Flujo 1\")\n",
    "else :\n",
    "    print(\"Flujo 2\")"
   ]
  },
  {
   "cell_type": "code",
   "execution_count": 7,
   "id": "f474ef3a",
   "metadata": {},
   "outputs": [
    {
     "name": "stdout",
     "output_type": "stream",
     "text": [
      "Estoy en la iteración0\n",
      "Estoy en la iteración1\n",
      "Estoy en la iteración2\n",
      "Estoy en la iteración3\n",
      "Estoy en la iteración4\n"
     ]
    }
   ],
   "source": [
    "contador = 0\n",
    "while(contador < 5):\n",
    "    print(\"Estoy en la iteración \" + str(contador))\n",
    "    contador += 1 # condator = contador +1"
   ]
  },
  {
   "cell_type": "code",
   "execution_count": 8,
   "id": "78d1206d",
   "metadata": {},
   "outputs": [
    {
     "name": "stdout",
     "output_type": "stream",
     "text": [
      "Estoy en la iteración 0\n",
      "Estoy en la iteración 1\n",
      "Estoy en la iteración 2\n",
      "Estoy en la iteración 3\n",
      "Estoy en la iteración 4\n"
     ]
    }
   ],
   "source": [
    "for contador in range(5):\n",
    "    print(\"Estoy en la iteración \" + str(contador))"
   ]
  },
  {
   "cell_type": "code",
   "execution_count": 9,
   "id": "0f353c76",
   "metadata": {},
   "outputs": [
    {
     "name": "stdout",
     "output_type": "stream",
     "text": [
      "Estoy en la iteración 0\n",
      "Estoy en la iteración 2\n",
      "Estoy en la iteración 4\n",
      "Estoy en la iteración 6\n",
      "Estoy en la iteración 8\n"
     ]
    }
   ],
   "source": [
    "for contador in range(10):\n",
    "    if (contador%2 == 0):\n",
    "        print(\"Estoy en la iteración \" + str(contador))"
   ]
  },
  {
   "cell_type": "code",
   "execution_count": 11,
   "id": "f3b431f3",
   "metadata": {},
   "outputs": [
    {
     "data": {
      "text/plain": [
       "5"
      ]
     },
     "execution_count": 11,
     "metadata": {},
     "output_type": "execute_result"
    }
   ],
   "source": [
    "a = 2\n",
    "b = 3\n",
    "\n",
    "a + b"
   ]
  },
  {
   "cell_type": "code",
   "execution_count": 12,
   "id": "e06e9f35",
   "metadata": {},
   "outputs": [
    {
     "data": {
      "text/plain": [
       "-1"
      ]
     },
     "execution_count": 12,
     "metadata": {},
     "output_type": "execute_result"
    }
   ],
   "source": [
    "a - b"
   ]
  },
  {
   "cell_type": "code",
   "execution_count": 14,
   "id": "222d951d",
   "metadata": {},
   "outputs": [
    {
     "data": {
      "text/plain": [
       "6"
      ]
     },
     "execution_count": 14,
     "metadata": {},
     "output_type": "execute_result"
    }
   ],
   "source": [
    "a * b"
   ]
  },
  {
   "cell_type": "code",
   "execution_count": 15,
   "id": "9a1dd727",
   "metadata": {},
   "outputs": [
    {
     "data": {
      "text/plain": [
       "8"
      ]
     },
     "execution_count": 15,
     "metadata": {},
     "output_type": "execute_result"
    }
   ],
   "source": [
    "a**b"
   ]
  },
  {
   "cell_type": "code",
   "execution_count": 16,
   "id": "e0fa5f10",
   "metadata": {},
   "outputs": [
    {
     "data": {
      "text/plain": [
       "0.6666666666666666"
      ]
     },
     "execution_count": 16,
     "metadata": {},
     "output_type": "execute_result"
    }
   ],
   "source": [
    "a/b"
   ]
  },
  {
   "cell_type": "code",
   "execution_count": 17,
   "id": "cb08ed1f",
   "metadata": {},
   "outputs": [
    {
     "data": {
      "text/plain": [
       "2"
      ]
     },
     "execution_count": 17,
     "metadata": {},
     "output_type": "execute_result"
    }
   ],
   "source": [
    "a%b"
   ]
  },
  {
   "cell_type": "code",
   "execution_count": null,
   "id": "8cfba337",
   "metadata": {},
   "outputs": [],
   "source": []
  }
 ],
 "metadata": {
  "kernelspec": {
   "display_name": "Python 3 (ipykernel)",
   "language": "python",
   "name": "python3"
  },
  "language_info": {
   "codemirror_mode": {
    "name": "ipython",
    "version": 3
   },
   "file_extension": ".py",
   "mimetype": "text/x-python",
   "name": "python",
   "nbconvert_exporter": "python",
   "pygments_lexer": "ipython3",
   "version": "3.9.7"
  }
 },
 "nbformat": 4,
 "nbformat_minor": 5
}
