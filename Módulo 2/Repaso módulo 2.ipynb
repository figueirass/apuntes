{
 "cells": [
  {
   "cell_type": "markdown",
   "metadata": {},
   "source": [
    "# Repaso - Módulo 2"
   ]
  },
  {
   "cell_type": "markdown",
   "metadata": {},
   "source": [
    "---\n",
    "## Problema 1.1. Evaluación numérica de integrales utilizando Montecarlo\n",
    "Escriba la función para integrar por el método Montecarlo de tipo 1"
   ]
  },
  {
   "cell_type": "code",
   "execution_count": 1,
   "metadata": {},
   "outputs": [],
   "source": [
    "import numpy as np\n",
    "import pandas as pd\n",
    "import matplotlib.pyplot as plt\n",
    "import sympy as sp"
   ]
  },
  {
   "cell_type": "code",
   "execution_count": 2,
   "metadata": {},
   "outputs": [],
   "source": [
    "def montecarlo1(f, a, b, N):\n",
    "    u = np.random.uniform(a, b, size=N)\n",
    "    return np.mean(f(u))*(b-a)"
   ]
  },
  {
   "cell_type": "markdown",
   "metadata": {
    "collapsed": true
   },
   "source": [
    "Considere las funciones $f_1(x)=\\sqrt{1+x^{4}}$, $f_2(x)=\\ln(\\ln x)$, $f_3(x)=\\frac {1}{\\ln x}$, y $f_4(x)=e^{-{\\frac {x^{2}}{2}}}$.\n",
    "\n",
    "Utilizar la función anterior para realizar la evaluación numérica de las integrales de las funciones anteriores en el intervalo $(4,5)$. Poner los resultados en una tabla cuyas filas correspondan a la cantidad de términos utilizados en la aproximación (usar 10, 100, 1000, 10000 y 100000 términos) y cuyas columnas correspondan a las funciones."
   ]
  },
  {
   "cell_type": "code",
   "execution_count": 3,
   "metadata": {},
   "outputs": [],
   "source": [
    "def f1(x):\n",
    "    return np.sqrt( 1+ x**4)\n",
    "\n",
    "def f2(x):\n",
    "    return np.log(np.log(x))\n",
    "\n",
    "def f3(x):\n",
    "    return 1/np.log(x)\n",
    "\n",
    "def f4(x):\n",
    "    return np.exp(-x**2 / 2)"
   ]
  },
  {
   "cell_type": "code",
   "execution_count": 4,
   "metadata": {
    "scrolled": true
   },
   "outputs": [
    {
     "data": {
      "text/html": [
       "<div>\n",
       "<style scoped>\n",
       "    .dataframe tbody tr th:only-of-type {\n",
       "        vertical-align: middle;\n",
       "    }\n",
       "\n",
       "    .dataframe tbody tr th {\n",
       "        vertical-align: top;\n",
       "    }\n",
       "\n",
       "    .dataframe thead th {\n",
       "        text-align: right;\n",
       "    }\n",
       "</style>\n",
       "<table border=\"1\" class=\"dataframe\">\n",
       "  <thead>\n",
       "    <tr style=\"text-align: right;\">\n",
       "      <th></th>\n",
       "      <th>f1</th>\n",
       "      <th>f2</th>\n",
       "      <th>f3</th>\n",
       "      <th>f4</th>\n",
       "    </tr>\n",
       "  </thead>\n",
       "  <tbody>\n",
       "    <tr>\n",
       "      <th>10.0</th>\n",
       "      <td>NaN</td>\n",
       "      <td>NaN</td>\n",
       "      <td>NaN</td>\n",
       "      <td>NaN</td>\n",
       "    </tr>\n",
       "    <tr>\n",
       "      <th>100.0</th>\n",
       "      <td>NaN</td>\n",
       "      <td>NaN</td>\n",
       "      <td>NaN</td>\n",
       "      <td>NaN</td>\n",
       "    </tr>\n",
       "    <tr>\n",
       "      <th>1000.0</th>\n",
       "      <td>NaN</td>\n",
       "      <td>NaN</td>\n",
       "      <td>NaN</td>\n",
       "      <td>NaN</td>\n",
       "    </tr>\n",
       "    <tr>\n",
       "      <th>10000.0</th>\n",
       "      <td>NaN</td>\n",
       "      <td>NaN</td>\n",
       "      <td>NaN</td>\n",
       "      <td>NaN</td>\n",
       "    </tr>\n",
       "    <tr>\n",
       "      <th>100000.0</th>\n",
       "      <td>NaN</td>\n",
       "      <td>NaN</td>\n",
       "      <td>NaN</td>\n",
       "      <td>NaN</td>\n",
       "    </tr>\n",
       "  </tbody>\n",
       "</table>\n",
       "</div>"
      ],
      "text/plain": [
       "           f1   f2   f3   f4\n",
       "10.0      NaN  NaN  NaN  NaN\n",
       "100.0     NaN  NaN  NaN  NaN\n",
       "1000.0    NaN  NaN  NaN  NaN\n",
       "10000.0   NaN  NaN  NaN  NaN\n",
       "100000.0  NaN  NaN  NaN  NaN"
      ]
     },
     "execution_count": 4,
     "metadata": {},
     "output_type": "execute_result"
    }
   ],
   "source": [
    "N = np.logspace(1, 5, 5)\n",
    "tabla = pd.DataFrame(index=N, columns=[\"f1\", \"f2\", \"f3\", \"f4\"])\n",
    "tabla"
   ]
  },
  {
   "cell_type": "code",
   "execution_count": 5,
   "metadata": {},
   "outputs": [
    {
     "data": {
      "text/html": [
       "<div>\n",
       "<style scoped>\n",
       "    .dataframe tbody tr th:only-of-type {\n",
       "        vertical-align: middle;\n",
       "    }\n",
       "\n",
       "    .dataframe tbody tr th {\n",
       "        vertical-align: top;\n",
       "    }\n",
       "\n",
       "    .dataframe thead th {\n",
       "        text-align: right;\n",
       "    }\n",
       "</style>\n",
       "<table border=\"1\" class=\"dataframe\">\n",
       "  <thead>\n",
       "    <tr style=\"text-align: right;\">\n",
       "      <th></th>\n",
       "      <th>f1</th>\n",
       "      <th>f2</th>\n",
       "      <th>f3</th>\n",
       "      <th>f4</th>\n",
       "    </tr>\n",
       "  </thead>\n",
       "  <tbody>\n",
       "    <tr>\n",
       "      <th>10.0</th>\n",
       "      <td>20.078207</td>\n",
       "      <td>0.405629</td>\n",
       "      <td>0.65668</td>\n",
       "      <td>0.000054</td>\n",
       "    </tr>\n",
       "    <tr>\n",
       "      <th>100.0</th>\n",
       "      <td>20.458743</td>\n",
       "      <td>0.408817</td>\n",
       "      <td>0.667341</td>\n",
       "      <td>0.000065</td>\n",
       "    </tr>\n",
       "    <tr>\n",
       "      <th>1000.0</th>\n",
       "      <td>20.320045</td>\n",
       "      <td>0.404213</td>\n",
       "      <td>0.666312</td>\n",
       "      <td>0.000082</td>\n",
       "    </tr>\n",
       "    <tr>\n",
       "      <th>10000.0</th>\n",
       "      <td>20.328797</td>\n",
       "      <td>0.404877</td>\n",
       "      <td>0.667133</td>\n",
       "      <td>0.000078</td>\n",
       "    </tr>\n",
       "    <tr>\n",
       "      <th>100000.0</th>\n",
       "      <td>20.353697</td>\n",
       "      <td>0.405896</td>\n",
       "      <td>0.666982</td>\n",
       "      <td>0.000078</td>\n",
       "    </tr>\n",
       "  </tbody>\n",
       "</table>\n",
       "</div>"
      ],
      "text/plain": [
       "                 f1        f2        f3        f4\n",
       "10.0      20.078207  0.405629   0.65668  0.000054\n",
       "100.0     20.458743  0.408817  0.667341  0.000065\n",
       "1000.0    20.320045  0.404213  0.666312  0.000082\n",
       "10000.0   20.328797  0.404877  0.667133  0.000078\n",
       "100000.0  20.353697  0.405896  0.666982  0.000078"
      ]
     },
     "execution_count": 5,
     "metadata": {},
     "output_type": "execute_result"
    }
   ],
   "source": [
    "a = 4\n",
    "b = 5\n",
    "for n in N:\n",
    "    tabla.loc[n, \"f1\"] = montecarlo1(f1, a, b, int(n))\n",
    "    tabla.loc[n, \"f2\"] = montecarlo1(f2, a, b, int(n))\n",
    "    tabla.loc[n, \"f3\"] = montecarlo1(f3, a, b, int(n))\n",
    "    tabla.loc[n, \"f4\"] = montecarlo1(f4, a, b, int(n))\n",
    "    \n",
    "tabla"
   ]
  },
  {
   "cell_type": "markdown",
   "metadata": {},
   "source": [
    "## Problema 1.2.\n",
    "Aproximar el área de la región descrita por\n",
    "\n",
    "$$x^2+2y^2\\leq-2x+8y-7$$\n",
    "\n",
    "Poner los resultados en una tabla cuyas filas correspondan a la cantidad de términos utilizados en la aproximación (usar 10, 100, 1000, 10000 y 100000 términos) y en las columnas el valor de aproximación y el error de integración.\n",
    "\n",
    "Definir unos límites adecuados $a_1$, $b_1$, $a_2$ y $b_2$, para la región $R=\\left[a_1,b_1\\right]\\times\\left[a_2,b_2\\right]$ y grafíque esta región."
   ]
  },
  {
   "cell_type": "code",
   "execution_count": 6,
   "metadata": {},
   "outputs": [],
   "source": [
    "def region(x, y):\n",
    "    return x**2 + 2*y**2 <= -2*x + 8*y - 7"
   ]
  },
  {
   "cell_type": "code",
   "execution_count": 7,
   "metadata": {},
   "outputs": [
    {
     "data": {
      "text/plain": [
       "<matplotlib.collections.PathCollection at 0x7ff659579670>"
      ]
     },
     "execution_count": 7,
     "metadata": {},
     "output_type": "execute_result"
    },
    {
     "data": {
      "image/png": "[encoded data removed]",
      "text/plain": [
       "<Figure size 360x360 with 1 Axes>"
      ]
     },
     "metadata": {
      "needs_background": "light"
     },
     "output_type": "display_data"
    }
   ],
   "source": [
    "a1, b1 = -5, 5\n",
    "a2, b2 = -5, 5\n",
    "\n",
    "x = np.random.uniform(a1, b1, size=300)\n",
    "y = np.random.uniform(a2, b2, size=300)\n",
    "X, Y = np.meshgrid(x, y)\n",
    "plt.figure(figsize=(5, 5))\n",
    "plt.scatter(X, Y, c=~region(X,Y), cmap=\"gray\", s=1)"
   ]
  },
  {
   "cell_type": "markdown",
   "metadata": {},
   "source": [
    "Defina la función para resolver el área con el método 2 visto en clase"
   ]
  },
  {
   "cell_type": "code",
   "execution_count": 8,
   "metadata": {},
   "outputs": [],
   "source": [
    "def montecarlo2(region, a1, b1, a2, b2, N):\n",
    "    x = np.random.uniform(a1, b1, size=N)\n",
    "    y = np.random.uniform(a2, b2, size=N)\n",
    "    AR = (b1-a1)*(b2-a2)\n",
    "    B = region(x, y)\n",
    "    return np.mean(B)*AR"
   ]
  },
  {
   "cell_type": "code",
   "execution_count": 9,
   "metadata": {},
   "outputs": [
    {
     "data": {
      "text/html": [
       "<div>\n",
       "<style scoped>\n",
       "    .dataframe tbody tr th:only-of-type {\n",
       "        vertical-align: middle;\n",
       "    }\n",
       "\n",
       "    .dataframe tbody tr th {\n",
       "        vertical-align: top;\n",
       "    }\n",
       "\n",
       "    .dataframe thead th {\n",
       "        text-align: right;\n",
       "    }\n",
       "</style>\n",
       "<table border=\"1\" class=\"dataframe\">\n",
       "  <thead>\n",
       "    <tr style=\"text-align: right;\">\n",
       "      <th></th>\n",
       "      <th>Area</th>\n",
       "    </tr>\n",
       "  </thead>\n",
       "  <tbody>\n",
       "    <tr>\n",
       "      <th>10.0</th>\n",
       "      <td>NaN</td>\n",
       "    </tr>\n",
       "    <tr>\n",
       "      <th>100.0</th>\n",
       "      <td>NaN</td>\n",
       "    </tr>\n",
       "    <tr>\n",
       "      <th>1000.0</th>\n",
       "      <td>NaN</td>\n",
       "    </tr>\n",
       "    <tr>\n",
       "      <th>10000.0</th>\n",
       "      <td>NaN</td>\n",
       "    </tr>\n",
       "    <tr>\n",
       "      <th>100000.0</th>\n",
       "      <td>NaN</td>\n",
       "    </tr>\n",
       "  </tbody>\n",
       "</table>\n",
       "</div>"
      ],
      "text/plain": [
       "         Area\n",
       "10.0      NaN\n",
       "100.0     NaN\n",
       "1000.0    NaN\n",
       "10000.0   NaN\n",
       "100000.0  NaN"
      ]
     },
     "execution_count": 9,
     "metadata": {},
     "output_type": "execute_result"
    }
   ],
   "source": [
    "N = np.logspace(1, 5, 5) # [(10 a la 1), (10 a la 5), (espacios)]\n",
    "tabla = pd.DataFrame(index=N, columns=[\"Area\"])\n",
    "tabla"
   ]
  },
  {
   "cell_type": "markdown",
   "metadata": {},
   "source": [
    "Encontrar el área con el número de términos deseados"
   ]
  },
  {
   "cell_type": "code",
   "execution_count": 10,
   "metadata": {},
   "outputs": [
    {
     "data": {
      "text/html": [
       "<div>\n",
       "<style scoped>\n",
       "    .dataframe tbody tr th:only-of-type {\n",
       "        vertical-align: middle;\n",
       "    }\n",
       "\n",
       "    .dataframe tbody tr th {\n",
       "        vertical-align: top;\n",
       "    }\n",
       "\n",
       "    .dataframe thead th {\n",
       "        text-align: right;\n",
       "    }\n",
       "</style>\n",
       "<table border=\"1\" class=\"dataframe\">\n",
       "  <thead>\n",
       "    <tr style=\"text-align: right;\">\n",
       "      <th></th>\n",
       "      <th>Area</th>\n",
       "    </tr>\n",
       "  </thead>\n",
       "  <tbody>\n",
       "    <tr>\n",
       "      <th>10.0</th>\n",
       "      <td>10.0</td>\n",
       "    </tr>\n",
       "    <tr>\n",
       "      <th>100.0</th>\n",
       "      <td>5.0</td>\n",
       "    </tr>\n",
       "    <tr>\n",
       "      <th>1000.0</th>\n",
       "      <td>4.8</td>\n",
       "    </tr>\n",
       "    <tr>\n",
       "      <th>10000.0</th>\n",
       "      <td>4.28</td>\n",
       "    </tr>\n",
       "    <tr>\n",
       "      <th>100000.0</th>\n",
       "      <td>4.303</td>\n",
       "    </tr>\n",
       "  </tbody>\n",
       "</table>\n",
       "</div>"
      ],
      "text/plain": [
       "           Area\n",
       "10.0       10.0\n",
       "100.0       5.0\n",
       "1000.0      4.8\n",
       "10000.0    4.28\n",
       "100000.0  4.303"
      ]
     },
     "execution_count": 10,
     "metadata": {},
     "output_type": "execute_result"
    }
   ],
   "source": [
    "for n in N:\n",
    "    tabla.loc[n, \"Area\"] = montecarlo2(region, a1, b1, a1, b2, int(n))\n",
    "tabla"
   ]
  },
  {
   "cell_type": "markdown",
   "metadata": {},
   "source": [
    "---\n",
    "## Problema 2. Fractal aleatorio tipo Barnsley\n",
    "\n",
    "- En la clase de fractales aleatorios vimos que el fractal helecho de Barnsley se generaba a través de cuatro transformaciones afines que se elegían con cierta probabilidad.\n",
    "- Vimos que este helecho representaba de manera muy aproximada helechos reales.\n",
    "- Vimos que modificando parámetros de la tabla, se podían generar mutaciones de el helecho.\n",
    "\n",
    "Pues bien, usando la misma idea de transformaciones afines que se escogen con cierta probabilidad, se pueden generar una infinidad inimaginable de fractales. Incluso, se pueden generar fractales aleatorios que poseen un atractor determinístico.\n",
    "\n",
    "**Referencia:**\n",
    "- Barnsley, Michael F. *Fractals Everywhere: New Edition*, ISBN: 9780486320342."
   ]
  },
  {
   "cell_type": "markdown",
   "metadata": {},
   "source": [
    "Usando la siguiente tabla, evalúe el fractal de Barnsley para 100 000 puntos."
   ]
  },
  {
   "cell_type": "code",
   "execution_count": 11,
   "metadata": {},
   "outputs": [],
   "source": [
    "import pandas as pd\n",
    "import numpy as np"
   ]
  },
  {
   "cell_type": "code",
   "execution_count": 12,
   "metadata": {},
   "outputs": [
    {
     "data": {
      "text/html": [
       "<div>\n",
       "<style scoped>\n",
       "    .dataframe tbody tr th:only-of-type {\n",
       "        vertical-align: middle;\n",
       "    }\n",
       "\n",
       "    .dataframe tbody tr th {\n",
       "        vertical-align: top;\n",
       "    }\n",
       "\n",
       "    .dataframe thead th {\n",
       "        text-align: right;\n",
       "    }\n",
       "</style>\n",
       "<table border=\"1\" class=\"dataframe\">\n",
       "  <thead>\n",
       "    <tr style=\"text-align: right;\">\n",
       "      <th></th>\n",
       "      <th>$a_i$</th>\n",
       "      <th>$b_i$</th>\n",
       "      <th>$c_i$</th>\n",
       "      <th>$d_i$</th>\n",
       "      <th>$e_i$</th>\n",
       "      <th>$f_i$</th>\n",
       "      <th>$p_i$</th>\n",
       "    </tr>\n",
       "    <tr>\n",
       "      <th>$i$</th>\n",
       "      <th></th>\n",
       "      <th></th>\n",
       "      <th></th>\n",
       "      <th></th>\n",
       "      <th></th>\n",
       "      <th></th>\n",
       "      <th></th>\n",
       "    </tr>\n",
       "  </thead>\n",
       "  <tbody>\n",
       "    <tr>\n",
       "      <th>0</th>\n",
       "      <td>0.5</td>\n",
       "      <td>0.0</td>\n",
       "      <td>0.0</td>\n",
       "      <td>0.5</td>\n",
       "      <td>1.0</td>\n",
       "      <td>1.0</td>\n",
       "      <td>0.1</td>\n",
       "    </tr>\n",
       "    <tr>\n",
       "      <th>1</th>\n",
       "      <td>0.5</td>\n",
       "      <td>0.0</td>\n",
       "      <td>0.0</td>\n",
       "      <td>0.5</td>\n",
       "      <td>50.0</td>\n",
       "      <td>1.0</td>\n",
       "      <td>0.2</td>\n",
       "    </tr>\n",
       "    <tr>\n",
       "      <th>2</th>\n",
       "      <td>0.5</td>\n",
       "      <td>0.0</td>\n",
       "      <td>0.0</td>\n",
       "      <td>0.5</td>\n",
       "      <td>1.0</td>\n",
       "      <td>50.0</td>\n",
       "      <td>0.3</td>\n",
       "    </tr>\n",
       "    <tr>\n",
       "      <th>3</th>\n",
       "      <td>0.5</td>\n",
       "      <td>0.0</td>\n",
       "      <td>0.0</td>\n",
       "      <td>0.5</td>\n",
       "      <td>50.0</td>\n",
       "      <td>50.0</td>\n",
       "      <td>0.4</td>\n",
       "    </tr>\n",
       "  </tbody>\n",
       "</table>\n",
       "</div>"
      ],
      "text/plain": [
       "     $a_i$  $b_i$  $c_i$  $d_i$  $e_i$  $f_i$  $p_i$\n",
       "$i$                                                 \n",
       "0      0.5    0.0    0.0    0.5    1.0    1.0    0.1\n",
       "1      0.5    0.0    0.0    0.5   50.0    1.0    0.2\n",
       "2      0.5    0.0    0.0    0.5    1.0   50.0    0.3\n",
       "3      0.5    0.0    0.0    0.5   50.0   50.0    0.4"
      ]
     },
     "execution_count": 12,
     "metadata": {},
     "output_type": "execute_result"
    }
   ],
   "source": [
    "i = np.arange(4)\n",
    "\n",
    "df = pd.DataFrame(index=i,columns=['$a_i$', '$b_i$', '$c_i$', '$d_i$', '$e_i$', '$f_i$', '$p_i$'], dtype='float')\n",
    "df.index.name = \"$i$\"\n",
    "\n",
    "df['$a_i$'] = [0.5, 0.5, 0.5, 0.5]\n",
    "df['$b_i$'] = [0.0, 0.0, 0.0, 0.0]\n",
    "df['$c_i$'] = [0.0, 0.0, 0.0, 0.0]\n",
    "df['$d_i$'] = [0.5, 0.5, 0.5, 0.5]\n",
    "df['$e_i$'] = [1.0, 50.0, 1.0, 50.0]\n",
    "df['$f_i$'] = [1.0, 1.0, 50.0, 50.0]\n",
    "df['$p_i$'] = [0.1, 0.2, 0.3, 0.4]\n",
    "\n",
    "df.round(2)"
   ]
  },
  {
   "cell_type": "code",
   "execution_count": 13,
   "metadata": {},
   "outputs": [],
   "source": [
    "x = [0]\n",
    "y = [0]\n",
    "\n",
    "for i in range(100):\n",
    "    k = np.random.choice(df.index, p=df[\"$p_i$\"])\n",
    "    a = df[\"$a_i$\"][k]\n",
    "    b = df[\"$b_i$\"][k]\n",
    "    c = df[\"$c_i$\"][k]\n",
    "    d = df[\"$d_i$\"][k]\n",
    "    e = df[\"$e_i$\"][k]\n",
    "    f = df[\"$f_i$\"][k]\n",
    "    \n",
    "xn = a*x[-1] + b*y[-1] + e\n",
    "yn = c*x[-1] + d*y[-1] + f\n",
    "x.append(xn)\n",
    "y.append(yn)"
   ]
  },
  {
   "cell_type": "markdown",
   "metadata": {},
   "source": [
    "---\n",
    "## Problema 3. Probabilidad Precio-Umbral\n",
    "\n",
    "dEn las últimas clases vimos una aplicación de simulación montecarlo. Consistía en descargar datos históricos de precio de cierre de acciones de alguna compañía, proyectar esos precios y sacar la probabilidad de que los precios en el siguiente año sobrepasaran cierto precio umbral.\n",
    "\n",
    "En este ejemplo evaluaremos dos compañías con tendencias más o menos similares (Apple y Microsoft) veremos cuál tiene más probabilidades de darnos un interés deseado.\n",
    "\n",
    "Además, descargaremos los datos del año 2020 para ver si el análisis concuerda."
   ]
  },
  {
   "cell_type": "markdown",
   "metadata": {},
   "source": [
    "Descargue datos para Apple y Microsoft desde enero de 2015 a diciembre de 2019 y muestre sus gráficas."
   ]
  },
  {
   "cell_type": "code",
   "execution_count": 14,
   "metadata": {},
   "outputs": [],
   "source": [
    "import pandas_datareader.data as web"
   ]
  },
  {
   "cell_type": "code",
   "execution_count": 20,
   "metadata": {
    "scrolled": true
   },
   "outputs": [
    {
     "data": {
      "text/html": [
       "<div>\n",
       "<style scoped>\n",
       "    .dataframe tbody tr th:only-of-type {\n",
       "        vertical-align: middle;\n",
       "    }\n",
       "\n",
       "    .dataframe tbody tr th {\n",
       "        vertical-align: top;\n",
       "    }\n",
       "\n",
       "    .dataframe thead th {\n",
       "        text-align: right;\n",
       "    }\n",
       "</style>\n",
       "<table border=\"1\" class=\"dataframe\">\n",
       "  <thead>\n",
       "    <tr style=\"text-align: right;\">\n",
       "      <th>Symbols</th>\n",
       "      <th>AAPL</th>\n",
       "      <th>MSFT</th>\n",
       "    </tr>\n",
       "    <tr>\n",
       "      <th>Date</th>\n",
       "      <th></th>\n",
       "      <th></th>\n",
       "    </tr>\n",
       "  </thead>\n",
       "  <tbody>\n",
       "    <tr>\n",
       "      <th>2015-01-02</th>\n",
       "      <td>24.714508</td>\n",
       "      <td>41.108833</td>\n",
       "    </tr>\n",
       "    <tr>\n",
       "      <th>2015-01-05</th>\n",
       "      <td>24.018267</td>\n",
       "      <td>40.730808</td>\n",
       "    </tr>\n",
       "    <tr>\n",
       "      <th>2015-01-06</th>\n",
       "      <td>24.020517</td>\n",
       "      <td>40.132992</td>\n",
       "    </tr>\n",
       "    <tr>\n",
       "      <th>2015-01-07</th>\n",
       "      <td>24.357342</td>\n",
       "      <td>40.642887</td>\n",
       "    </tr>\n",
       "    <tr>\n",
       "      <th>2015-01-08</th>\n",
       "      <td>25.293205</td>\n",
       "      <td>41.838539</td>\n",
       "    </tr>\n",
       "  </tbody>\n",
       "</table>\n",
       "</div>"
      ],
      "text/plain": [
       "Symbols          AAPL       MSFT\n",
       "Date                            \n",
       "2015-01-02  24.714508  41.108833\n",
       "2015-01-05  24.018267  40.730808\n",
       "2015-01-06  24.020517  40.132992\n",
       "2015-01-07  24.357342  40.642887\n",
       "2015-01-08  25.293205  41.838539"
      ]
     },
     "execution_count": 20,
     "metadata": {},
     "output_type": "execute_result"
    }
   ],
   "source": [
    "names = [\"AAPL\", \"MSFT\"]\n",
    "start = \"2015-01-01\"\n",
    "end = \"2019-12-31\"\n",
    "\n",
    "def getClose(name, start, end):\n",
    "    return web.DataReader(name, \"yahoo\", start, end)[\"Adj Close\"]\n",
    "\n",
    "data = getClose(names, start, end)\n",
    "data.head()"
   ]
  },
  {
   "cell_type": "code",
   "execution_count": 21,
   "metadata": {},
   "outputs": [
    {
     "data": {
      "text/plain": [
       "<AxesSubplot:xlabel='Date'>"
      ]
     },
     "execution_count": 21,
     "metadata": {},
     "output_type": "execute_result"
    },
    {
     "data": {
      "image/png": "[encoded data removed]",
      "text/plain": [
       "<Figure size 432x288 with 1 Axes>"
      ]
     },
     "metadata": {
      "needs_background": "light"
     },
     "output_type": "display_data"
    }
   ],
   "source": [
    "data.plot(grid=True)"
   ]
  },
  {
   "cell_type": "markdown",
   "metadata": {},
   "source": [
    "Calcule los rendimientos diarios junto con sus características estadísticas"
   ]
  },
  {
   "cell_type": "code",
   "execution_count": 22,
   "metadata": {
    "scrolled": true
   },
   "outputs": [
    {
     "data": {
      "text/plain": [
       "array([[<AxesSubplot:title={'center':'AAPL'}>,\n",
       "        <AxesSubplot:title={'center':'MSFT'}>]], dtype=object)"
      ]
     },
     "execution_count": 22,
     "metadata": {},
     "output_type": "execute_result"
    },
    {
     "data": {
      "image/png": "[encoded data removed]",
      "text/plain": [
       "<Figure size 432x288 with 2 Axes>"
      ]
     },
     "metadata": {
      "needs_background": "light"
     },
     "output_type": "display_data"
    }
   ],
   "source": [
    "R = ((data - data.shift()) / data.shift()).dropna()\n",
    "R.hist(bins=50)"
   ]
  },
  {
   "cell_type": "code",
   "execution_count": 23,
   "metadata": {},
   "outputs": [
    {
     "data": {
      "text/html": [
       "<div>\n",
       "<style scoped>\n",
       "    .dataframe tbody tr th:only-of-type {\n",
       "        vertical-align: middle;\n",
       "    }\n",
       "\n",
       "    .dataframe tbody tr th {\n",
       "        vertical-align: top;\n",
       "    }\n",
       "\n",
       "    .dataframe thead th {\n",
       "        text-align: right;\n",
       "    }\n",
       "</style>\n",
       "<table border=\"1\" class=\"dataframe\">\n",
       "  <thead>\n",
       "    <tr style=\"text-align: right;\">\n",
       "      <th>Symbols</th>\n",
       "      <th>AAPL</th>\n",
       "      <th>MSFT</th>\n",
       "    </tr>\n",
       "  </thead>\n",
       "  <tbody>\n",
       "    <tr>\n",
       "      <th>count</th>\n",
       "      <td>1257.000000</td>\n",
       "      <td>1257.000000</td>\n",
       "    </tr>\n",
       "    <tr>\n",
       "      <th>mean</th>\n",
       "      <td>0.000976</td>\n",
       "      <td>0.001161</td>\n",
       "    </tr>\n",
       "    <tr>\n",
       "      <th>std</th>\n",
       "      <td>0.015646</td>\n",
       "      <td>0.014686</td>\n",
       "    </tr>\n",
       "    <tr>\n",
       "      <th>min</th>\n",
       "      <td>-0.099607</td>\n",
       "      <td>-0.092534</td>\n",
       "    </tr>\n",
       "    <tr>\n",
       "      <th>25%</th>\n",
       "      <td>-0.005857</td>\n",
       "      <td>-0.005401</td>\n",
       "    </tr>\n",
       "    <tr>\n",
       "      <th>50%</th>\n",
       "      <td>0.000893</td>\n",
       "      <td>0.000868</td>\n",
       "    </tr>\n",
       "    <tr>\n",
       "      <th>75%</th>\n",
       "      <td>0.008918</td>\n",
       "      <td>0.008053</td>\n",
       "    </tr>\n",
       "    <tr>\n",
       "      <th>max</th>\n",
       "      <td>0.070422</td>\n",
       "      <td>0.104522</td>\n",
       "    </tr>\n",
       "  </tbody>\n",
       "</table>\n",
       "</div>"
      ],
      "text/plain": [
       "Symbols         AAPL         MSFT\n",
       "count    1257.000000  1257.000000\n",
       "mean        0.000976     0.001161\n",
       "std         0.015646     0.014686\n",
       "min        -0.099607    -0.092534\n",
       "25%        -0.005857    -0.005401\n",
       "50%         0.000893     0.000868\n",
       "75%         0.008918     0.008053\n",
       "max         0.070422     0.104522"
      ]
     },
     "execution_count": 23,
     "metadata": {},
     "output_type": "execute_result"
    }
   ],
   "source": [
    "R.describe()"
   ]
  },
  {
   "cell_type": "markdown",
   "metadata": {},
   "source": [
    "Simule 1000 escenarios de rendimientos diarios para el 2020 (para cada una de las empresas)"
   ]
  },
  {
   "cell_type": "code",
   "execution_count": 24,
   "metadata": {},
   "outputs": [
    {
     "data": {
      "text/plain": [
       "(0.0009763164002248644, 0.01564608149448404)"
      ]
     },
     "execution_count": 24,
     "metadata": {},
     "output_type": "execute_result"
    }
   ],
   "source": [
    "media_AAPL = R[\"AAPL\"].mean()\n",
    "std_AAPL = R[\"AAPL\"].std()\n",
    "media_AAPL, std_AAPL"
   ]
  },
  {
   "cell_type": "code",
   "execution_count": 25,
   "metadata": {},
   "outputs": [
    {
     "data": {
      "text/plain": [
       "(0.0011609049252470345, 0.014685832081902111)"
      ]
     },
     "execution_count": 25,
     "metadata": {},
     "output_type": "execute_result"
    }
   ],
   "source": [
    "media_MSFT = R[\"MSFT\"].mean()\n",
    "std_MSFT = R[\"MSFT\"].std()\n",
    "media_MSFT, std_MSFT"
   ]
  },
  {
   "cell_type": "code",
   "execution_count": 26,
   "metadata": {
    "scrolled": true
   },
   "outputs": [
    {
     "data": {
      "text/plain": [
       "<AxesSubplot:>"
      ]
     },
     "execution_count": 26,
     "metadata": {},
     "output_type": "execute_result"
    },
    {
     "data": {
      "image/png": "[encoded data removed]",
      "text/plain": [
       "<Figure size 432x288 with 1 Axes>"
      ]
     },
     "metadata": {
      "needs_background": "light"
     },
     "output_type": "display_data"
    }
   ],
   "source": [
    "R_sim_AAPL = np.random.normal(media_AAPL, std_AAPL, size=(365, 1000))\n",
    "R_sim_MSFT = np.random.normal(media_MSFT, std_MSFT, size=(365, 1000))\n",
    "\n",
    "def simR(names, means, stds, start, dias, N):\n",
    "    sims = {}\n",
    "    fechas = pd.date_range(start, periods=dias)\n",
    "    for name, mean, std in zip(names, means, stds):\n",
    "        R_sim = np.random.normal(mean, std, size=(dias, N))\n",
    "        sims[name] = pd.DataFrame(data=R_sim, index=fechas)\n",
    "    return sims\n",
    "\n",
    "names = [\"AAPL\", \"MSFT\"]\n",
    "means = [media_AAPL, media_MSFT]\n",
    "stds = [std_AAPL, std_MSFT]\n",
    "\n",
    "sims = simR(names, means, stds, \"2020-01-01\", 365, 10)\n",
    "sims[\"AAPL\"].plot(grid=True)"
   ]
  },
  {
   "cell_type": "code",
   "execution_count": 27,
   "metadata": {},
   "outputs": [],
   "source": [
    "#sims = simR(names, means, stds, \"2020-01-01\", 365, 1000)\n",
    "#sims[\"AAPL\"].plot(grid=True)"
   ]
  },
  {
   "cell_type": "code",
   "execution_count": 28,
   "metadata": {},
   "outputs": [
    {
     "data": {
      "text/html": [
       "<div>\n",
       "<style scoped>\n",
       "    .dataframe tbody tr th:only-of-type {\n",
       "        vertical-align: middle;\n",
       "    }\n",
       "\n",
       "    .dataframe tbody tr th {\n",
       "        vertical-align: top;\n",
       "    }\n",
       "\n",
       "    .dataframe thead th {\n",
       "        text-align: right;\n",
       "    }\n",
       "</style>\n",
       "<table border=\"1\" class=\"dataframe\">\n",
       "  <thead>\n",
       "    <tr style=\"text-align: right;\">\n",
       "      <th></th>\n",
       "      <th>0</th>\n",
       "      <th>1</th>\n",
       "      <th>2</th>\n",
       "      <th>3</th>\n",
       "      <th>4</th>\n",
       "      <th>5</th>\n",
       "      <th>6</th>\n",
       "      <th>7</th>\n",
       "      <th>8</th>\n",
       "      <th>9</th>\n",
       "      <th>...</th>\n",
       "      <th>990</th>\n",
       "      <th>991</th>\n",
       "      <th>992</th>\n",
       "      <th>993</th>\n",
       "      <th>994</th>\n",
       "      <th>995</th>\n",
       "      <th>996</th>\n",
       "      <th>997</th>\n",
       "      <th>998</th>\n",
       "      <th>999</th>\n",
       "    </tr>\n",
       "  </thead>\n",
       "  <tbody>\n",
       "    <tr>\n",
       "      <th>2020-01-01</th>\n",
       "      <td>154.985207</td>\n",
       "      <td>156.618840</td>\n",
       "      <td>154.316170</td>\n",
       "      <td>156.510744</td>\n",
       "      <td>154.322909</td>\n",
       "      <td>155.561709</td>\n",
       "      <td>152.988534</td>\n",
       "      <td>157.029930</td>\n",
       "      <td>155.618403</td>\n",
       "      <td>152.641797</td>\n",
       "      <td>...</td>\n",
       "      <td>155.972207</td>\n",
       "      <td>157.484261</td>\n",
       "      <td>158.589104</td>\n",
       "      <td>154.553579</td>\n",
       "      <td>155.764950</td>\n",
       "      <td>155.887166</td>\n",
       "      <td>159.173474</td>\n",
       "      <td>152.642383</td>\n",
       "      <td>153.178198</td>\n",
       "      <td>152.264961</td>\n",
       "    </tr>\n",
       "    <tr>\n",
       "      <th>2020-01-02</th>\n",
       "      <td>158.979263</td>\n",
       "      <td>151.580185</td>\n",
       "      <td>153.196597</td>\n",
       "      <td>157.996390</td>\n",
       "      <td>154.550862</td>\n",
       "      <td>159.390303</td>\n",
       "      <td>148.434100</td>\n",
       "      <td>153.617287</td>\n",
       "      <td>150.606335</td>\n",
       "      <td>153.675417</td>\n",
       "      <td>...</td>\n",
       "      <td>159.871657</td>\n",
       "      <td>158.615839</td>\n",
       "      <td>160.450967</td>\n",
       "      <td>154.442725</td>\n",
       "      <td>155.390346</td>\n",
       "      <td>157.216236</td>\n",
       "      <td>161.939938</td>\n",
       "      <td>156.219731</td>\n",
       "      <td>153.673407</td>\n",
       "      <td>154.621241</td>\n",
       "    </tr>\n",
       "    <tr>\n",
       "      <th>2020-01-03</th>\n",
       "      <td>159.532469</td>\n",
       "      <td>148.706564</td>\n",
       "      <td>149.777256</td>\n",
       "      <td>156.832631</td>\n",
       "      <td>154.760995</td>\n",
       "      <td>159.518327</td>\n",
       "      <td>150.320723</td>\n",
       "      <td>154.955996</td>\n",
       "      <td>153.117349</td>\n",
       "      <td>152.333339</td>\n",
       "      <td>...</td>\n",
       "      <td>156.223643</td>\n",
       "      <td>163.485480</td>\n",
       "      <td>161.146243</td>\n",
       "      <td>152.225096</td>\n",
       "      <td>153.640109</td>\n",
       "      <td>159.066419</td>\n",
       "      <td>163.228215</td>\n",
       "      <td>159.234112</td>\n",
       "      <td>153.935947</td>\n",
       "      <td>154.732155</td>\n",
       "    </tr>\n",
       "    <tr>\n",
       "      <th>2020-01-04</th>\n",
       "      <td>155.875314</td>\n",
       "      <td>150.213057</td>\n",
       "      <td>148.605722</td>\n",
       "      <td>157.366802</td>\n",
       "      <td>153.566952</td>\n",
       "      <td>159.197390</td>\n",
       "      <td>154.940856</td>\n",
       "      <td>153.494373</td>\n",
       "      <td>148.112781</td>\n",
       "      <td>153.132614</td>\n",
       "      <td>...</td>\n",
       "      <td>158.184940</td>\n",
       "      <td>160.469197</td>\n",
       "      <td>159.363214</td>\n",
       "      <td>155.701960</td>\n",
       "      <td>156.194209</td>\n",
       "      <td>159.456406</td>\n",
       "      <td>166.405886</td>\n",
       "      <td>153.396436</td>\n",
       "      <td>155.814576</td>\n",
       "      <td>153.962856</td>\n",
       "    </tr>\n",
       "    <tr>\n",
       "      <th>2020-01-05</th>\n",
       "      <td>153.344406</td>\n",
       "      <td>151.417686</td>\n",
       "      <td>151.547409</td>\n",
       "      <td>155.495542</td>\n",
       "      <td>154.798036</td>\n",
       "      <td>158.695058</td>\n",
       "      <td>158.183280</td>\n",
       "      <td>157.898829</td>\n",
       "      <td>143.613561</td>\n",
       "      <td>153.801018</td>\n",
       "      <td>...</td>\n",
       "      <td>160.612557</td>\n",
       "      <td>160.153995</td>\n",
       "      <td>157.758282</td>\n",
       "      <td>159.346422</td>\n",
       "      <td>158.239609</td>\n",
       "      <td>161.060570</td>\n",
       "      <td>166.046977</td>\n",
       "      <td>151.592715</td>\n",
       "      <td>155.253883</td>\n",
       "      <td>159.403872</td>\n",
       "    </tr>\n",
       "    <tr>\n",
       "      <th>...</th>\n",
       "      <td>...</td>\n",
       "      <td>...</td>\n",
       "      <td>...</td>\n",
       "      <td>...</td>\n",
       "      <td>...</td>\n",
       "      <td>...</td>\n",
       "      <td>...</td>\n",
       "      <td>...</td>\n",
       "      <td>...</td>\n",
       "      <td>...</td>\n",
       "      <td>...</td>\n",
       "      <td>...</td>\n",
       "      <td>...</td>\n",
       "      <td>...</td>\n",
       "      <td>...</td>\n",
       "      <td>...</td>\n",
       "      <td>...</td>\n",
       "      <td>...</td>\n",
       "      <td>...</td>\n",
       "      <td>...</td>\n",
       "      <td>...</td>\n",
       "    </tr>\n",
       "    <tr>\n",
       "      <th>2020-12-26</th>\n",
       "      <td>332.948438</td>\n",
       "      <td>249.752218</td>\n",
       "      <td>219.409702</td>\n",
       "      <td>304.638873</td>\n",
       "      <td>212.687244</td>\n",
       "      <td>157.393900</td>\n",
       "      <td>199.613443</td>\n",
       "      <td>201.771636</td>\n",
       "      <td>188.302571</td>\n",
       "      <td>282.767970</td>\n",
       "      <td>...</td>\n",
       "      <td>484.371589</td>\n",
       "      <td>261.305860</td>\n",
       "      <td>275.305260</td>\n",
       "      <td>283.075123</td>\n",
       "      <td>222.601504</td>\n",
       "      <td>432.939545</td>\n",
       "      <td>199.546717</td>\n",
       "      <td>248.018218</td>\n",
       "      <td>224.018971</td>\n",
       "      <td>408.041853</td>\n",
       "    </tr>\n",
       "    <tr>\n",
       "      <th>2020-12-27</th>\n",
       "      <td>332.496395</td>\n",
       "      <td>253.281893</td>\n",
       "      <td>214.105858</td>\n",
       "      <td>302.984815</td>\n",
       "      <td>214.108297</td>\n",
       "      <td>155.099513</td>\n",
       "      <td>194.454989</td>\n",
       "      <td>203.257964</td>\n",
       "      <td>188.609367</td>\n",
       "      <td>276.909314</td>\n",
       "      <td>...</td>\n",
       "      <td>477.877304</td>\n",
       "      <td>259.717273</td>\n",
       "      <td>274.649795</td>\n",
       "      <td>280.806202</td>\n",
       "      <td>229.813734</td>\n",
       "      <td>427.626038</td>\n",
       "      <td>196.903379</td>\n",
       "      <td>250.768653</td>\n",
       "      <td>217.302178</td>\n",
       "      <td>407.386888</td>\n",
       "    </tr>\n",
       "    <tr>\n",
       "      <th>2020-12-28</th>\n",
       "      <td>337.339634</td>\n",
       "      <td>250.171162</td>\n",
       "      <td>210.376584</td>\n",
       "      <td>303.936804</td>\n",
       "      <td>215.155920</td>\n",
       "      <td>154.718226</td>\n",
       "      <td>196.342447</td>\n",
       "      <td>206.996169</td>\n",
       "      <td>188.938085</td>\n",
       "      <td>277.513275</td>\n",
       "      <td>...</td>\n",
       "      <td>491.791741</td>\n",
       "      <td>257.820587</td>\n",
       "      <td>272.002897</td>\n",
       "      <td>281.402140</td>\n",
       "      <td>226.036212</td>\n",
       "      <td>422.730052</td>\n",
       "      <td>196.371511</td>\n",
       "      <td>250.588923</td>\n",
       "      <td>217.088264</td>\n",
       "      <td>408.969554</td>\n",
       "    </tr>\n",
       "    <tr>\n",
       "      <th>2020-12-29</th>\n",
       "      <td>335.693713</td>\n",
       "      <td>249.357355</td>\n",
       "      <td>208.108359</td>\n",
       "      <td>309.802030</td>\n",
       "      <td>214.316850</td>\n",
       "      <td>153.021726</td>\n",
       "      <td>195.783221</td>\n",
       "      <td>205.999873</td>\n",
       "      <td>191.032410</td>\n",
       "      <td>282.301511</td>\n",
       "      <td>...</td>\n",
       "      <td>482.578556</td>\n",
       "      <td>262.906225</td>\n",
       "      <td>275.008199</td>\n",
       "      <td>276.295998</td>\n",
       "      <td>226.729127</td>\n",
       "      <td>424.155318</td>\n",
       "      <td>193.818935</td>\n",
       "      <td>251.745906</td>\n",
       "      <td>218.633651</td>\n",
       "      <td>413.455556</td>\n",
       "    </tr>\n",
       "    <tr>\n",
       "      <th>2020-12-30</th>\n",
       "      <td>342.040674</td>\n",
       "      <td>246.880892</td>\n",
       "      <td>213.569852</td>\n",
       "      <td>305.997457</td>\n",
       "      <td>215.151078</td>\n",
       "      <td>154.577761</td>\n",
       "      <td>195.083772</td>\n",
       "      <td>208.828266</td>\n",
       "      <td>190.325778</td>\n",
       "      <td>283.454845</td>\n",
       "      <td>...</td>\n",
       "      <td>465.066141</td>\n",
       "      <td>259.795548</td>\n",
       "      <td>271.435774</td>\n",
       "      <td>277.004568</td>\n",
       "      <td>227.099892</td>\n",
       "      <td>430.050104</td>\n",
       "      <td>195.401286</td>\n",
       "      <td>255.982684</td>\n",
       "      <td>220.026795</td>\n",
       "      <td>418.159934</td>\n",
       "    </tr>\n",
       "  </tbody>\n",
       "</table>\n",
       "<p>365 rows × 1000 columns</p>\n",
       "</div>"
      ],
      "text/plain": [
       "                   0           1           2           3           4    \\\n",
       "2020-01-01  154.985207  156.618840  154.316170  156.510744  154.322909   \n",
       "2020-01-02  158.979263  151.580185  153.196597  157.996390  154.550862   \n",
       "2020-01-03  159.532469  148.706564  149.777256  156.832631  154.760995   \n",
       "2020-01-04  155.875314  150.213057  148.605722  157.366802  153.566952   \n",
       "2020-01-05  153.344406  151.417686  151.547409  155.495542  154.798036   \n",
       "...                ...         ...         ...         ...         ...   \n",
       "2020-12-26  332.948438  249.752218  219.409702  304.638873  212.687244   \n",
       "2020-12-27  332.496395  253.281893  214.105858  302.984815  214.108297   \n",
       "2020-12-28  337.339634  250.171162  210.376584  303.936804  215.155920   \n",
       "2020-12-29  335.693713  249.357355  208.108359  309.802030  214.316850   \n",
       "2020-12-30  342.040674  246.880892  213.569852  305.997457  215.151078   \n",
       "\n",
       "                   5           6           7           8           9    ...  \\\n",
       "2020-01-01  155.561709  152.988534  157.029930  155.618403  152.641797  ...   \n",
       "2020-01-02  159.390303  148.434100  153.617287  150.606335  153.675417  ...   \n",
       "2020-01-03  159.518327  150.320723  154.955996  153.117349  152.333339  ...   \n",
       "2020-01-04  159.197390  154.940856  153.494373  148.112781  153.132614  ...   \n",
       "2020-01-05  158.695058  158.183280  157.898829  143.613561  153.801018  ...   \n",
       "...                ...         ...         ...         ...         ...  ...   \n",
       "2020-12-26  157.393900  199.613443  201.771636  188.302571  282.767970  ...   \n",
       "2020-12-27  155.099513  194.454989  203.257964  188.609367  276.909314  ...   \n",
       "2020-12-28  154.718226  196.342447  206.996169  188.938085  277.513275  ...   \n",
       "2020-12-29  153.021726  195.783221  205.999873  191.032410  282.301511  ...   \n",
       "2020-12-30  154.577761  195.083772  208.828266  190.325778  283.454845  ...   \n",
       "\n",
       "                   990         991         992         993         994  \\\n",
       "2020-01-01  155.972207  157.484261  158.589104  154.553579  155.764950   \n",
       "2020-01-02  159.871657  158.615839  160.450967  154.442725  155.390346   \n",
       "2020-01-03  156.223643  163.485480  161.146243  152.225096  153.640109   \n",
       "2020-01-04  158.184940  160.469197  159.363214  155.701960  156.194209   \n",
       "2020-01-05  160.612557  160.153995  157.758282  159.346422  158.239609   \n",
       "...                ...         ...         ...         ...         ...   \n",
       "2020-12-26  484.371589  261.305860  275.305260  283.075123  222.601504   \n",
       "2020-12-27  477.877304  259.717273  274.649795  280.806202  229.813734   \n",
       "2020-12-28  491.791741  257.820587  272.002897  281.402140  226.036212   \n",
       "2020-12-29  482.578556  262.906225  275.008199  276.295998  226.729127   \n",
       "2020-12-30  465.066141  259.795548  271.435774  277.004568  227.099892   \n",
       "\n",
       "                   995         996         997         998         999  \n",
       "2020-01-01  155.887166  159.173474  152.642383  153.178198  152.264961  \n",
       "2020-01-02  157.216236  161.939938  156.219731  153.673407  154.621241  \n",
       "2020-01-03  159.066419  163.228215  159.234112  153.935947  154.732155  \n",
       "2020-01-04  159.456406  166.405886  153.396436  155.814576  153.962856  \n",
       "2020-01-05  161.060570  166.046977  151.592715  155.253883  159.403872  \n",
       "...                ...         ...         ...         ...         ...  \n",
       "2020-12-26  432.939545  199.546717  248.018218  224.018971  408.041853  \n",
       "2020-12-27  427.626038  196.903379  250.768653  217.302178  407.386888  \n",
       "2020-12-28  422.730052  196.371511  250.588923  217.088264  408.969554  \n",
       "2020-12-29  424.155318  193.818935  251.745906  218.633651  413.455556  \n",
       "2020-12-30  430.050104  195.401286  255.982684  220.026795  418.159934  \n",
       "\n",
       "[365 rows x 1000 columns]"
      ]
     },
     "execution_count": 28,
     "metadata": {},
     "output_type": "execute_result"
    }
   ],
   "source": [
    "sims = simR(names, means, stds, \"2020-01-01\", 365, 1000)\n",
    "sims[\"AAPL\"] = (sims[\"AAPL\"] + 1).cumprod()*data[\"AAPL\"].iloc[-1]\n",
    "sims[\"MSFT\"] = (sims[\"MSFT\"] + 1).cumprod()*data[\"MSFT\"].iloc[-1]\n",
    "sims[\"MSFT\"]"
   ]
  },
  {
   "cell_type": "markdown",
   "metadata": {},
   "source": [
    "Calcule los precios con base en los rendimientos simulados"
   ]
  },
  {
   "cell_type": "code",
   "execution_count": null,
   "metadata": {},
   "outputs": [],
   "source": []
  },
  {
   "cell_type": "markdown",
   "metadata": {},
   "source": [
    "Calcule la probabilidad de obtener un retorno del 20% para ambas marcas."
   ]
  },
  {
   "cell_type": "code",
   "execution_count": 29,
   "metadata": {
    "scrolled": true
   },
   "outputs": [
    {
     "data": {
      "text/html": [
       "<div>\n",
       "<style scoped>\n",
       "    .dataframe tbody tr th:only-of-type {\n",
       "        vertical-align: middle;\n",
       "    }\n",
       "\n",
       "    .dataframe tbody tr th {\n",
       "        vertical-align: top;\n",
       "    }\n",
       "\n",
       "    .dataframe thead th {\n",
       "        text-align: right;\n",
       "    }\n",
       "</style>\n",
       "<table border=\"1\" class=\"dataframe\">\n",
       "  <thead>\n",
       "    <tr style=\"text-align: right;\">\n",
       "      <th></th>\n",
       "      <th>0</th>\n",
       "      <th>1</th>\n",
       "      <th>2</th>\n",
       "      <th>3</th>\n",
       "      <th>4</th>\n",
       "      <th>5</th>\n",
       "      <th>6</th>\n",
       "      <th>7</th>\n",
       "      <th>8</th>\n",
       "      <th>9</th>\n",
       "      <th>...</th>\n",
       "      <th>990</th>\n",
       "      <th>991</th>\n",
       "      <th>992</th>\n",
       "      <th>993</th>\n",
       "      <th>994</th>\n",
       "      <th>995</th>\n",
       "      <th>996</th>\n",
       "      <th>997</th>\n",
       "      <th>998</th>\n",
       "      <th>999</th>\n",
       "    </tr>\n",
       "  </thead>\n",
       "  <tbody>\n",
       "    <tr>\n",
       "      <th>2020-01-01</th>\n",
       "      <td>False</td>\n",
       "      <td>False</td>\n",
       "      <td>False</td>\n",
       "      <td>False</td>\n",
       "      <td>False</td>\n",
       "      <td>False</td>\n",
       "      <td>False</td>\n",
       "      <td>False</td>\n",
       "      <td>False</td>\n",
       "      <td>False</td>\n",
       "      <td>...</td>\n",
       "      <td>False</td>\n",
       "      <td>False</td>\n",
       "      <td>False</td>\n",
       "      <td>False</td>\n",
       "      <td>False</td>\n",
       "      <td>False</td>\n",
       "      <td>False</td>\n",
       "      <td>False</td>\n",
       "      <td>False</td>\n",
       "      <td>False</td>\n",
       "    </tr>\n",
       "    <tr>\n",
       "      <th>2020-01-02</th>\n",
       "      <td>False</td>\n",
       "      <td>False</td>\n",
       "      <td>False</td>\n",
       "      <td>False</td>\n",
       "      <td>False</td>\n",
       "      <td>False</td>\n",
       "      <td>False</td>\n",
       "      <td>False</td>\n",
       "      <td>False</td>\n",
       "      <td>False</td>\n",
       "      <td>...</td>\n",
       "      <td>False</td>\n",
       "      <td>False</td>\n",
       "      <td>False</td>\n",
       "      <td>False</td>\n",
       "      <td>False</td>\n",
       "      <td>False</td>\n",
       "      <td>False</td>\n",
       "      <td>False</td>\n",
       "      <td>False</td>\n",
       "      <td>False</td>\n",
       "    </tr>\n",
       "    <tr>\n",
       "      <th>2020-01-03</th>\n",
       "      <td>False</td>\n",
       "      <td>False</td>\n",
       "      <td>False</td>\n",
       "      <td>False</td>\n",
       "      <td>False</td>\n",
       "      <td>False</td>\n",
       "      <td>False</td>\n",
       "      <td>False</td>\n",
       "      <td>False</td>\n",
       "      <td>False</td>\n",
       "      <td>...</td>\n",
       "      <td>False</td>\n",
       "      <td>False</td>\n",
       "      <td>False</td>\n",
       "      <td>False</td>\n",
       "      <td>False</td>\n",
       "      <td>False</td>\n",
       "      <td>False</td>\n",
       "      <td>False</td>\n",
       "      <td>False</td>\n",
       "      <td>False</td>\n",
       "    </tr>\n",
       "    <tr>\n",
       "      <th>2020-01-04</th>\n",
       "      <td>False</td>\n",
       "      <td>False</td>\n",
       "      <td>False</td>\n",
       "      <td>False</td>\n",
       "      <td>False</td>\n",
       "      <td>False</td>\n",
       "      <td>False</td>\n",
       "      <td>False</td>\n",
       "      <td>False</td>\n",
       "      <td>False</td>\n",
       "      <td>...</td>\n",
       "      <td>False</td>\n",
       "      <td>False</td>\n",
       "      <td>False</td>\n",
       "      <td>False</td>\n",
       "      <td>False</td>\n",
       "      <td>False</td>\n",
       "      <td>False</td>\n",
       "      <td>False</td>\n",
       "      <td>False</td>\n",
       "      <td>False</td>\n",
       "    </tr>\n",
       "    <tr>\n",
       "      <th>2020-01-05</th>\n",
       "      <td>False</td>\n",
       "      <td>False</td>\n",
       "      <td>False</td>\n",
       "      <td>False</td>\n",
       "      <td>False</td>\n",
       "      <td>False</td>\n",
       "      <td>False</td>\n",
       "      <td>False</td>\n",
       "      <td>False</td>\n",
       "      <td>False</td>\n",
       "      <td>...</td>\n",
       "      <td>False</td>\n",
       "      <td>False</td>\n",
       "      <td>False</td>\n",
       "      <td>False</td>\n",
       "      <td>False</td>\n",
       "      <td>False</td>\n",
       "      <td>False</td>\n",
       "      <td>False</td>\n",
       "      <td>False</td>\n",
       "      <td>False</td>\n",
       "    </tr>\n",
       "    <tr>\n",
       "      <th>...</th>\n",
       "      <td>...</td>\n",
       "      <td>...</td>\n",
       "      <td>...</td>\n",
       "      <td>...</td>\n",
       "      <td>...</td>\n",
       "      <td>...</td>\n",
       "      <td>...</td>\n",
       "      <td>...</td>\n",
       "      <td>...</td>\n",
       "      <td>...</td>\n",
       "      <td>...</td>\n",
       "      <td>...</td>\n",
       "      <td>...</td>\n",
       "      <td>...</td>\n",
       "      <td>...</td>\n",
       "      <td>...</td>\n",
       "      <td>...</td>\n",
       "      <td>...</td>\n",
       "      <td>...</td>\n",
       "      <td>...</td>\n",
       "      <td>...</td>\n",
       "    </tr>\n",
       "    <tr>\n",
       "      <th>2020-12-26</th>\n",
       "      <td>True</td>\n",
       "      <td>True</td>\n",
       "      <td>False</td>\n",
       "      <td>True</td>\n",
       "      <td>True</td>\n",
       "      <td>True</td>\n",
       "      <td>True</td>\n",
       "      <td>False</td>\n",
       "      <td>False</td>\n",
       "      <td>True</td>\n",
       "      <td>...</td>\n",
       "      <td>False</td>\n",
       "      <td>False</td>\n",
       "      <td>True</td>\n",
       "      <td>True</td>\n",
       "      <td>True</td>\n",
       "      <td>True</td>\n",
       "      <td>True</td>\n",
       "      <td>True</td>\n",
       "      <td>True</td>\n",
       "      <td>True</td>\n",
       "    </tr>\n",
       "    <tr>\n",
       "      <th>2020-12-27</th>\n",
       "      <td>True</td>\n",
       "      <td>True</td>\n",
       "      <td>False</td>\n",
       "      <td>True</td>\n",
       "      <td>True</td>\n",
       "      <td>True</td>\n",
       "      <td>True</td>\n",
       "      <td>False</td>\n",
       "      <td>False</td>\n",
       "      <td>True</td>\n",
       "      <td>...</td>\n",
       "      <td>False</td>\n",
       "      <td>False</td>\n",
       "      <td>True</td>\n",
       "      <td>True</td>\n",
       "      <td>True</td>\n",
       "      <td>True</td>\n",
       "      <td>True</td>\n",
       "      <td>True</td>\n",
       "      <td>True</td>\n",
       "      <td>True</td>\n",
       "    </tr>\n",
       "    <tr>\n",
       "      <th>2020-12-28</th>\n",
       "      <td>True</td>\n",
       "      <td>True</td>\n",
       "      <td>False</td>\n",
       "      <td>True</td>\n",
       "      <td>True</td>\n",
       "      <td>True</td>\n",
       "      <td>True</td>\n",
       "      <td>False</td>\n",
       "      <td>False</td>\n",
       "      <td>True</td>\n",
       "      <td>...</td>\n",
       "      <td>False</td>\n",
       "      <td>False</td>\n",
       "      <td>True</td>\n",
       "      <td>True</td>\n",
       "      <td>True</td>\n",
       "      <td>True</td>\n",
       "      <td>True</td>\n",
       "      <td>True</td>\n",
       "      <td>True</td>\n",
       "      <td>True</td>\n",
       "    </tr>\n",
       "    <tr>\n",
       "      <th>2020-12-29</th>\n",
       "      <td>True</td>\n",
       "      <td>True</td>\n",
       "      <td>False</td>\n",
       "      <td>True</td>\n",
       "      <td>True</td>\n",
       "      <td>True</td>\n",
       "      <td>True</td>\n",
       "      <td>False</td>\n",
       "      <td>False</td>\n",
       "      <td>True</td>\n",
       "      <td>...</td>\n",
       "      <td>False</td>\n",
       "      <td>False</td>\n",
       "      <td>True</td>\n",
       "      <td>True</td>\n",
       "      <td>True</td>\n",
       "      <td>True</td>\n",
       "      <td>True</td>\n",
       "      <td>True</td>\n",
       "      <td>True</td>\n",
       "      <td>True</td>\n",
       "    </tr>\n",
       "    <tr>\n",
       "      <th>2020-12-30</th>\n",
       "      <td>True</td>\n",
       "      <td>True</td>\n",
       "      <td>False</td>\n",
       "      <td>True</td>\n",
       "      <td>True</td>\n",
       "      <td>True</td>\n",
       "      <td>True</td>\n",
       "      <td>False</td>\n",
       "      <td>False</td>\n",
       "      <td>True</td>\n",
       "      <td>...</td>\n",
       "      <td>False</td>\n",
       "      <td>False</td>\n",
       "      <td>True</td>\n",
       "      <td>True</td>\n",
       "      <td>True</td>\n",
       "      <td>True</td>\n",
       "      <td>True</td>\n",
       "      <td>True</td>\n",
       "      <td>True</td>\n",
       "      <td>True</td>\n",
       "    </tr>\n",
       "  </tbody>\n",
       "</table>\n",
       "<p>365 rows × 1000 columns</p>\n",
       "</div>"
      ],
      "text/plain": [
       "              0      1      2      3      4      5      6      7      8    \\\n",
       "2020-01-01  False  False  False  False  False  False  False  False  False   \n",
       "2020-01-02  False  False  False  False  False  False  False  False  False   \n",
       "2020-01-03  False  False  False  False  False  False  False  False  False   \n",
       "2020-01-04  False  False  False  False  False  False  False  False  False   \n",
       "2020-01-05  False  False  False  False  False  False  False  False  False   \n",
       "...           ...    ...    ...    ...    ...    ...    ...    ...    ...   \n",
       "2020-12-26   True   True  False   True   True   True   True  False  False   \n",
       "2020-12-27   True   True  False   True   True   True   True  False  False   \n",
       "2020-12-28   True   True  False   True   True   True   True  False  False   \n",
       "2020-12-29   True   True  False   True   True   True   True  False  False   \n",
       "2020-12-30   True   True  False   True   True   True   True  False  False   \n",
       "\n",
       "              9    ...    990    991    992    993    994    995    996  \\\n",
       "2020-01-01  False  ...  False  False  False  False  False  False  False   \n",
       "2020-01-02  False  ...  False  False  False  False  False  False  False   \n",
       "2020-01-03  False  ...  False  False  False  False  False  False  False   \n",
       "2020-01-04  False  ...  False  False  False  False  False  False  False   \n",
       "2020-01-05  False  ...  False  False  False  False  False  False  False   \n",
       "...           ...  ...    ...    ...    ...    ...    ...    ...    ...   \n",
       "2020-12-26   True  ...  False  False   True   True   True   True   True   \n",
       "2020-12-27   True  ...  False  False   True   True   True   True   True   \n",
       "2020-12-28   True  ...  False  False   True   True   True   True   True   \n",
       "2020-12-29   True  ...  False  False   True   True   True   True   True   \n",
       "2020-12-30   True  ...  False  False   True   True   True   True   True   \n",
       "\n",
       "              997    998    999  \n",
       "2020-01-01  False  False  False  \n",
       "2020-01-02  False  False  False  \n",
       "2020-01-03  False  False  False  \n",
       "2020-01-04  False  False  False  \n",
       "2020-01-05  False  False  False  \n",
       "...           ...    ...    ...  \n",
       "2020-12-26   True   True   True  \n",
       "2020-12-27   True   True   True  \n",
       "2020-12-28   True   True   True  \n",
       "2020-12-29   True   True   True  \n",
       "2020-12-30   True   True   True  \n",
       "\n",
       "[365 rows x 1000 columns]"
      ]
     },
     "execution_count": 29,
     "metadata": {},
     "output_type": "execute_result"
    }
   ],
   "source": [
    "valor_deseado_AAPL = data[\"AAPL\"].iloc[-1]*1.2\n",
    "valor_deseado_MSFT = data[\"MSFT\"].iloc[-1]*1.2\n",
    "\n",
    "B_AAPL = sims[\"AAPL\"] >= valor_deseado_AAPL\n",
    "B_MSFT = sims[\"MSFT\"] >= valor_deseado_MSFT\n",
    "\n",
    "B_AAPL"
   ]
  },
  {
   "cell_type": "code",
   "execution_count": 30,
   "metadata": {
    "scrolled": true
   },
   "outputs": [
    {
     "data": {
      "text/plain": [
       "<AxesSubplot:>"
      ]
     },
     "execution_count": 30,
     "metadata": {},
     "output_type": "execute_result"
    },
    {
     "data": {
      "image/png": "[encoded data removed]",
      "text/plain": [
       "<Figure size 432x288 with 1 Axes>"
      ]
     },
     "metadata": {
      "needs_background": "light"
     },
     "output_type": "display_data"
    }
   ],
   "source": [
    "P_AAPL = B_AAPL.mean(axis=1)\n",
    "P_AAPL.columns = [\"AAPL\"]\n",
    "P_MSFT = B_MSFT.mean(axis=1)\n",
    "P_MSFT.columns = [\"MSFT\"]\n",
    "\n",
    "P_AAPL.plot(grid=True)\n",
    "P_MSFT.plot(grid=True)"
   ]
  },
  {
   "cell_type": "code",
   "execution_count": 31,
   "metadata": {},
   "outputs": [
    {
     "data": {
      "text/plain": [
       "<AxesSubplot:>"
      ]
     },
     "execution_count": 31,
     "metadata": {},
     "output_type": "execute_result"
    },
    {
     "data": {
      "image/png": "[encoded data removed]",
      "text/plain": [
       "<Figure size 432x288 with 1 Axes>"
      ]
     },
     "metadata": {
      "needs_background": "light"
     },
     "output_type": "display_data"
    }
   ],
   "source": [
    "data2 = pd.DataFrame(index=pd.date_range(\"2020-01-01\", 365), columns=[\"AAPL\", \"MSFT\"])\n",
    "data2[\"AAPL\"] = P_AAPL\n",
    "data2[\"MSFT\"] = P_MSFT\n",
    "\n",
    "data2.plot(grid=True)"
   ]
  },
  {
   "cell_type": "markdown",
   "metadata": {},
   "source": [
    "Finalmente, grafique los datos reales del 2020 para ver que tan acertado fue nuestro análisis."
   ]
  },
  {
   "cell_type": "code",
   "execution_count": 89,
   "metadata": {},
   "outputs": [
    {
     "data": {
      "text/plain": [
       "<AxesSubplot:xlabel='Date'>"
      ]
     },
     "execution_count": 89,
     "metadata": {},
     "output_type": "execute_result"
    },
    {
     "data": {
      "image/png": "[encoded data removed]",
      "text/plain": [
       "<Figure size 432x288 with 1 Axes>"
      ]
     },
     "metadata": {
      "needs_background": "light"
     },
     "output_type": "display_data"
    }
   ],
   "source": [
    "data_2020 = getClose(\"AAPL\", \"2020-01-01\", \"2020-12-31\")\n",
    "data_2020.plot(grid=True)"
   ]
  },
  {
   "cell_type": "code",
   "execution_count": 92,
   "metadata": {},
   "outputs": [
    {
     "data": {
      "text/plain": [
       "<AxesSubplot:>"
      ]
     },
     "execution_count": 92,
     "metadata": {},
     "output_type": "execute_result"
    },
    {
     "data": {
      "image/png": "[encoded data removed]",
      "text/plain": [
       "<Figure size 432x288 with 1 Axes>"
      ]
     },
     "metadata": {
      "needs_background": "light"
     },
     "output_type": "display_data"
    }
   ],
   "source": [
    "sims[\"AAPL\"][5].plot()\n",
    "sims[\"AAPL\"][6].plot()\n",
    "sims[\"AAPL\"][7].plot()\n",
    "sims[\"AAPL\"][8].plot()\n",
    "sims[\"AAPL\"][9].plot()"
   ]
  },
  {
   "cell_type": "code",
   "execution_count": null,
   "metadata": {},
   "outputs": [],
   "source": []
  }
 ],
 "metadata": {
  "kernelspec": {
   "display_name": "Python 3 (ipykernel)",
   "language": "python",
   "name": "python3"
  },
  "language_info": {
   "codemirror_mode": {
    "name": "ipython",
    "version": 3
   },
   "file_extension": ".py",
   "mimetype": "text/x-python",
   "name": "python",
   "nbconvert_exporter": "python",
   "pygments_lexer": "ipython3",
   "version": "3.9.7"
  }
 },
 "nbformat": 4,
 "nbformat_minor": 2
}
